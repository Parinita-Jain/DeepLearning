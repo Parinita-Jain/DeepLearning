{
  "nbformat": 4,
  "nbformat_minor": 0,
  "metadata": {
    "colab": {
      "provenance": [],
      "authorship_tag": "ABX9TyPKpjZZFpJN0FHN1Iezj+n5",
      "include_colab_link": true
    },
    "kernelspec": {
      "name": "python3",
      "display_name": "Python 3"
    },
    "language_info": {
      "name": "python"
    }
  },
  "cells": [
    {
      "cell_type": "markdown",
      "metadata": {
        "id": "view-in-github",
        "colab_type": "text"
      },
      "source": [
        "<a href=\"https://colab.research.google.com/github/Parinita-Jain/DeepLearning/blob/main/tensorflow_intro.ipynb\" target=\"_parent\"><img src=\"https://colab.research.google.com/assets/colab-badge.svg\" alt=\"Open In Colab\"/></a>"
      ]
    },
    {
      "cell_type": "code",
      "execution_count": 1,
      "metadata": {
        "colab": {
          "base_uri": "https://localhost:8080/",
          "height": 122
        },
        "id": "IJfmbNwNkfxb",
        "outputId": "370bbcdd-f873-4c81-a811-4c99459c8cdb"
      },
      "outputs": [
        {
          "output_type": "execute_result",
          "data": {
            "text/plain": [
              "'\\nDeep learning frameworks\\n \\n \\nTensorFlow is an open-source software library for dataflow programming across a range of tasks. \\nIt is a symbolic math library that is used for machine learning applications like neural networks. Tensorflow provides both low and high-level APIs.\\nKeras is an open-source neural network library written in Python. It is capable of running on top of TensorFlow. \\nIt is designed to enable fast experimentation with deep neural networks. Keras provides only high-level APIs.\\nThe Tensorflow version that we will use is 2.0. \\nThe major difference between Tensorflow 1.0 and 2.0 is that version 2.0 has adopted the Keras API as a standard method of creating neural networks.\\nOther Deep learning frameworks are PyTorch, Theano, etc.  \\n'"
            ],
            "application/vnd.google.colaboratory.intrinsic+json": {
              "type": "string"
            }
          },
          "metadata": {},
          "execution_count": 1
        }
      ],
      "source": [
        "'''\n",
        "Deep learning frameworks\n",
        " \n",
        " \n",
        "TensorFlow is an open-source software library for dataflow programming across a range of tasks. \n",
        "It is a symbolic math library that is used for machine learning applications like neural networks. Tensorflow provides both low and high-level APIs.\n",
        "Keras is an open-source neural network library written in Python. It is capable of running on top of TensorFlow. \n",
        "It is designed to enable fast experimentation with deep neural networks. Keras provides only high-level APIs.\n",
        "The Tensorflow version that we will use is 2.0. \n",
        "The major difference between Tensorflow 1.0 and 2.0 is that version 2.0 has adopted the Keras API as a standard method of creating neural networks.\n",
        "Other Deep learning frameworks are PyTorch, Theano, etc.  \n",
        "'''"
      ]
    },
    {
      "cell_type": "code",
      "source": [
        "# !pip install tensorflow.----------for installing into localsystem"
      ],
      "metadata": {
        "id": "L2aHyaebkjf7"
      },
      "execution_count": null,
      "outputs": []
    },
    {
      "cell_type": "code",
      "source": [
        "'''\n",
        "Google Collab allows one to change runtime to GPU and TPU, which is suitable for training neural networks. \n",
        "\n",
        "'''"
      ],
      "metadata": {
        "id": "oBM_5ReTkjii"
      },
      "execution_count": null,
      "outputs": []
    },
    {
      "cell_type": "code",
      "source": [
        "import tensorflow as tf\n",
        "\n",
        "# Import and check the Tensorflow version."
      ],
      "metadata": {
        "id": "M5xa2dSXkjkd"
      },
      "execution_count": 2,
      "outputs": []
    },
    {
      "cell_type": "code",
      "source": [
        "print(tf.__version__)"
      ],
      "metadata": {
        "colab": {
          "base_uri": "https://localhost:8080/"
        },
        "id": "zUcvSbk-kjnT",
        "outputId": "ba69281c-c73d-46e5-abfd-fa416ed03341"
      },
      "execution_count": 3,
      "outputs": [
        {
          "output_type": "stream",
          "name": "stdout",
          "text": [
            "2.9.2\n"
          ]
        }
      ]
    },
    {
      "cell_type": "code",
      "source": [
        "#Creating Constants using tf.constant() method.\n",
        "c1=tf.constant(3)\n",
        "c2=tf.constant([10,20])\n",
        "c3=tf.constant([[10,20],[30,40]])\n",
        "\n",
        "\n",
        "'''\n",
        "A constant created is of type Tensor. A Tensor object can be a scalar, vector, or matrix.\n",
        "\n",
        "'''"
      ],
      "metadata": {
        "id": "_BtW-q7Bkjpz"
      },
      "execution_count": 4,
      "outputs": []
    },
    {
      "cell_type": "code",
      "source": [
        "print(f\"C1: {c1}\\nC2 : {c2}\\nC3 : \\n{c3}\")"
      ],
      "metadata": {
        "colab": {
          "base_uri": "https://localhost:8080/"
        },
        "id": "jkQZn3Nwkjsd",
        "outputId": "a1b00350-2f06-4d97-db1a-2827e54031f5"
      },
      "execution_count": 6,
      "outputs": [
        {
          "output_type": "stream",
          "name": "stdout",
          "text": [
            "C1: 3\n",
            "C2 : [10 20]\n",
            "C3 : \n",
            "[[10 20]\n",
            " [30 40]]\n"
          ]
        }
      ]
    },
    {
      "cell_type": "code",
      "source": [
        "\"\"\"\n",
        "Printing the NumPy version of the tensor object using numpy() function.\n",
        "\"\"\"\n",
        "\n",
        "print(f\"C1: {c1.numpy()}\\nC2 : {c2.numpy()}\\nC3 : \\n{c3.numpy()}\")"
      ],
      "metadata": {
        "colab": {
          "base_uri": "https://localhost:8080/"
        },
        "id": "wYgWsaBkkjvj",
        "outputId": "37dd1f25-b0aa-4066-d0bc-1f2cd44c8b97"
      },
      "execution_count": 7,
      "outputs": [
        {
          "output_type": "stream",
          "name": "stdout",
          "text": [
            "C1: 3\n",
            "C2 : [10 20]\n",
            "C3 : \n",
            "[[10 20]\n",
            " [30 40]]\n"
          ]
        }
      ]
    },
    {
      "cell_type": "code",
      "source": [
        "\"\"\"\n",
        "A new value cannot be assigned to a Tensorflow constant.\n",
        "\"\"\"\n",
        "\n",
        "print(type(c1))\n",
        "c1=4\n",
        "type(c1)"
      ],
      "metadata": {
        "colab": {
          "base_uri": "https://localhost:8080/"
        },
        "id": "NuV2Uyn-kjx5",
        "outputId": "7515ac76-57c2-4c9e-d95f-d16b278bd347"
      },
      "execution_count": 8,
      "outputs": [
        {
          "output_type": "stream",
          "name": "stdout",
          "text": [
            "<class 'tensorflow.python.framework.ops.EagerTensor'>\n"
          ]
        },
        {
          "output_type": "execute_result",
          "data": {
            "text/plain": [
              "int"
            ]
          },
          "metadata": {},
          "execution_count": 8
        }
      ]
    },
    {
      "cell_type": "code",
      "source": [
        "\"\"\"\n",
        "A new value can be assigned only through operations.\n",
        "\"\"\"\n",
        "\n",
        "c1=tf.constant(3)\n",
        "print(c1)\n",
        "c1=c1+4\n",
        "print(c1)"
      ],
      "metadata": {
        "colab": {
          "base_uri": "https://localhost:8080/"
        },
        "id": "5FYJeAT7kj0L",
        "outputId": "221d3e4d-2b8a-4ede-ada4-95284b01fa3d"
      },
      "execution_count": 9,
      "outputs": [
        {
          "output_type": "stream",
          "name": "stdout",
          "text": [
            "tf.Tensor(3, shape=(), dtype=int32)\n",
            "tf.Tensor(7, shape=(), dtype=int32)\n"
          ]
        }
      ]
    },
    {
      "cell_type": "code",
      "source": [
        "\"\"\"\n",
        "Creating Variables using tf.Variable() method.\n",
        "\"\"\""
      ],
      "metadata": {
        "id": "QOxhfFDEkj5G"
      },
      "execution_count": null,
      "outputs": []
    },
    {
      "cell_type": "code",
      "source": [
        "v1=tf.Variable(3)\n",
        "v2=tf.Variable([10,20])\n",
        "v3=tf.Variable([[10,20],[30,40]])"
      ],
      "metadata": {
        "id": "t7FqbhQGkj8A"
      },
      "execution_count": 13,
      "outputs": []
    },
    {
      "cell_type": "code",
      "source": [
        "print(f\"v1: {v1}\\nv2 : {v2}\\nv3 : \\n{v3}\")"
      ],
      "metadata": {
        "colab": {
          "base_uri": "https://localhost:8080/"
        },
        "id": "dMFvkGeNkj-r",
        "outputId": "c374dcb6-9611-487d-cfbd-c22a0068d5e1"
      },
      "execution_count": 14,
      "outputs": [
        {
          "output_type": "stream",
          "name": "stdout",
          "text": [
            "v1: <tf.Variable 'Variable:0' shape=() dtype=int32, numpy=3>\n",
            "v2 : <tf.Variable 'Variable:0' shape=(2,) dtype=int32, numpy=array([10, 20], dtype=int32)>\n",
            "v3 : \n",
            "<tf.Variable 'Variable:0' shape=(2, 2) dtype=int32, numpy=\n",
            "array([[10, 20],\n",
            "       [30, 40]], dtype=int32)>\n"
          ]
        }
      ]
    },
    {
      "cell_type": "code",
      "source": [
        "\"\"\"\n",
        "Tensorflow variables are of type Variable object. A new value can be assigned to a tensorflow variable using the assign() method.\n",
        "\"\"\"\n",
        "print(type(v1))\n",
        "print(v1.assign(4))"
      ],
      "metadata": {
        "colab": {
          "base_uri": "https://localhost:8080/"
        },
        "id": "TVO8C62xkkAy",
        "outputId": "54a10a88-c4ff-4867-fee0-e98fdca63772"
      },
      "execution_count": 15,
      "outputs": [
        {
          "output_type": "stream",
          "name": "stdout",
          "text": [
            "<class 'tensorflow.python.ops.resource_variable_ops.ResourceVariable'>\n",
            "<tf.Variable 'UnreadVariable' shape=() dtype=int32, numpy=4>\n"
          ]
        }
      ]
    },
    {
      "cell_type": "code",
      "source": [],
      "metadata": {
        "id": "65sOYseYkkC2"
      },
      "execution_count": null,
      "outputs": []
    },
    {
      "cell_type": "code",
      "source": [],
      "metadata": {
        "id": "wqX3TfGLkkFE"
      },
      "execution_count": null,
      "outputs": []
    }
  ]
}