{
  "cells": [
    {
      "cell_type": "markdown",
      "metadata": {
        "id": "view-in-github",
        "colab_type": "text"
      },
      "source": [
        "<a href=\"https://colab.research.google.com/github/Parinita-Jain/DeepLearning/blob/main/regtoday.ipynb\" target=\"_parent\"><img src=\"https://colab.research.google.com/assets/colab-badge.svg\" alt=\"Open In Colab\"/></a>"
      ]
    },
    {
      "cell_type": "code",
      "execution_count": 1,
      "metadata": {
        "id": "pEiMIdZCevze"
      },
      "outputs": [],
      "source": [
        "import numpy as np\n",
        "import pandas as pd\n",
        "import matplotlib.pyplot as plt \n",
        "import seaborn as sns\n",
        "\n",
        "import warnings\n",
        "warnings.filterwarnings(\"ignore\")"
      ]
    },
    {
      "cell_type": "code",
      "execution_count": 2,
      "metadata": {
        "id": "pKJV-JsdfxXM",
        "colab": {
          "base_uri": "https://localhost:8080/",
          "height": 206
        },
        "outputId": "464125c3-7461-4fb8-f067-a4d2d5ecef06"
      },
      "outputs": [
        {
          "output_type": "execute_result",
          "data": {
            "text/plain": [
              "        price     feature1     feature2\n",
              "0  461.527929   999.787558   999.766096\n",
              "1  548.130012   998.861615  1001.042403\n",
              "2  410.297162  1000.070267   998.844015\n",
              "3  540.382220   999.952251  1000.440940\n",
              "4  546.024553  1000.446011  1000.338531"
            ],
            "text/html": [
              "\n",
              "  <div id=\"df-4b0786f5-aba9-42d9-b221-4cd02e48d7b7\">\n",
              "    <div class=\"colab-df-container\">\n",
              "      <div>\n",
              "<style scoped>\n",
              "    .dataframe tbody tr th:only-of-type {\n",
              "        vertical-align: middle;\n",
              "    }\n",
              "\n",
              "    .dataframe tbody tr th {\n",
              "        vertical-align: top;\n",
              "    }\n",
              "\n",
              "    .dataframe thead th {\n",
              "        text-align: right;\n",
              "    }\n",
              "</style>\n",
              "<table border=\"1\" class=\"dataframe\">\n",
              "  <thead>\n",
              "    <tr style=\"text-align: right;\">\n",
              "      <th></th>\n",
              "      <th>price</th>\n",
              "      <th>feature1</th>\n",
              "      <th>feature2</th>\n",
              "    </tr>\n",
              "  </thead>\n",
              "  <tbody>\n",
              "    <tr>\n",
              "      <th>0</th>\n",
              "      <td>461.527929</td>\n",
              "      <td>999.787558</td>\n",
              "      <td>999.766096</td>\n",
              "    </tr>\n",
              "    <tr>\n",
              "      <th>1</th>\n",
              "      <td>548.130012</td>\n",
              "      <td>998.861615</td>\n",
              "      <td>1001.042403</td>\n",
              "    </tr>\n",
              "    <tr>\n",
              "      <th>2</th>\n",
              "      <td>410.297162</td>\n",
              "      <td>1000.070267</td>\n",
              "      <td>998.844015</td>\n",
              "    </tr>\n",
              "    <tr>\n",
              "      <th>3</th>\n",
              "      <td>540.382220</td>\n",
              "      <td>999.952251</td>\n",
              "      <td>1000.440940</td>\n",
              "    </tr>\n",
              "    <tr>\n",
              "      <th>4</th>\n",
              "      <td>546.024553</td>\n",
              "      <td>1000.446011</td>\n",
              "      <td>1000.338531</td>\n",
              "    </tr>\n",
              "  </tbody>\n",
              "</table>\n",
              "</div>\n",
              "      <button class=\"colab-df-convert\" onclick=\"convertToInteractive('df-4b0786f5-aba9-42d9-b221-4cd02e48d7b7')\"\n",
              "              title=\"Convert this dataframe to an interactive table.\"\n",
              "              style=\"display:none;\">\n",
              "        \n",
              "  <svg xmlns=\"http://www.w3.org/2000/svg\" height=\"24px\"viewBox=\"0 0 24 24\"\n",
              "       width=\"24px\">\n",
              "    <path d=\"M0 0h24v24H0V0z\" fill=\"none\"/>\n",
              "    <path d=\"M18.56 5.44l.94 2.06.94-2.06 2.06-.94-2.06-.94-.94-2.06-.94 2.06-2.06.94zm-11 1L8.5 8.5l.94-2.06 2.06-.94-2.06-.94L8.5 2.5l-.94 2.06-2.06.94zm10 10l.94 2.06.94-2.06 2.06-.94-2.06-.94-.94-2.06-.94 2.06-2.06.94z\"/><path d=\"M17.41 7.96l-1.37-1.37c-.4-.4-.92-.59-1.43-.59-.52 0-1.04.2-1.43.59L10.3 9.45l-7.72 7.72c-.78.78-.78 2.05 0 2.83L4 21.41c.39.39.9.59 1.41.59.51 0 1.02-.2 1.41-.59l7.78-7.78 2.81-2.81c.8-.78.8-2.07 0-2.86zM5.41 20L4 18.59l7.72-7.72 1.47 1.35L5.41 20z\"/>\n",
              "  </svg>\n",
              "      </button>\n",
              "      \n",
              "  <style>\n",
              "    .colab-df-container {\n",
              "      display:flex;\n",
              "      flex-wrap:wrap;\n",
              "      gap: 12px;\n",
              "    }\n",
              "\n",
              "    .colab-df-convert {\n",
              "      background-color: #E8F0FE;\n",
              "      border: none;\n",
              "      border-radius: 50%;\n",
              "      cursor: pointer;\n",
              "      display: none;\n",
              "      fill: #1967D2;\n",
              "      height: 32px;\n",
              "      padding: 0 0 0 0;\n",
              "      width: 32px;\n",
              "    }\n",
              "\n",
              "    .colab-df-convert:hover {\n",
              "      background-color: #E2EBFA;\n",
              "      box-shadow: 0px 1px 2px rgba(60, 64, 67, 0.3), 0px 1px 3px 1px rgba(60, 64, 67, 0.15);\n",
              "      fill: #174EA6;\n",
              "    }\n",
              "\n",
              "    [theme=dark] .colab-df-convert {\n",
              "      background-color: #3B4455;\n",
              "      fill: #D2E3FC;\n",
              "    }\n",
              "\n",
              "    [theme=dark] .colab-df-convert:hover {\n",
              "      background-color: #434B5C;\n",
              "      box-shadow: 0px 1px 3px 1px rgba(0, 0, 0, 0.15);\n",
              "      filter: drop-shadow(0px 1px 2px rgba(0, 0, 0, 0.3));\n",
              "      fill: #FFFFFF;\n",
              "    }\n",
              "  </style>\n",
              "\n",
              "      <script>\n",
              "        const buttonEl =\n",
              "          document.querySelector('#df-4b0786f5-aba9-42d9-b221-4cd02e48d7b7 button.colab-df-convert');\n",
              "        buttonEl.style.display =\n",
              "          google.colab.kernel.accessAllowed ? 'block' : 'none';\n",
              "\n",
              "        async function convertToInteractive(key) {\n",
              "          const element = document.querySelector('#df-4b0786f5-aba9-42d9-b221-4cd02e48d7b7');\n",
              "          const dataTable =\n",
              "            await google.colab.kernel.invokeFunction('convertToInteractive',\n",
              "                                                     [key], {});\n",
              "          if (!dataTable) return;\n",
              "\n",
              "          const docLinkHtml = 'Like what you see? Visit the ' +\n",
              "            '<a target=\"_blank\" href=https://colab.research.google.com/notebooks/data_table.ipynb>data table notebook</a>'\n",
              "            + ' to learn more about interactive tables.';\n",
              "          element.innerHTML = '';\n",
              "          dataTable['output_type'] = 'display_data';\n",
              "          await google.colab.output.renderOutput(dataTable, element);\n",
              "          const docLink = document.createElement('div');\n",
              "          docLink.innerHTML = docLinkHtml;\n",
              "          element.appendChild(docLink);\n",
              "        }\n",
              "      </script>\n",
              "    </div>\n",
              "  </div>\n",
              "  "
            ]
          },
          "metadata": {},
          "execution_count": 2
        }
      ],
      "source": [
        "df = pd.read_csv(\"fake_reg.csv\")\n",
        "df.head()"
      ]
    },
    {
      "cell_type": "code",
      "execution_count": 3,
      "metadata": {
        "id": "gPzme7MHf6jd",
        "colab": {
          "base_uri": "https://localhost:8080/"
        },
        "outputId": "9774f8ce-446e-44cb-8cb8-617a2e89d30d"
      },
      "outputs": [
        {
          "output_type": "stream",
          "name": "stdout",
          "text": [
            "<class 'pandas.core.frame.DataFrame'>\n",
            "RangeIndex: 1000 entries, 0 to 999\n",
            "Data columns (total 3 columns):\n",
            " #   Column    Non-Null Count  Dtype  \n",
            "---  ------    --------------  -----  \n",
            " 0   price     1000 non-null   float64\n",
            " 1   feature1  1000 non-null   float64\n",
            " 2   feature2  1000 non-null   float64\n",
            "dtypes: float64(3)\n",
            "memory usage: 23.6 KB\n"
          ]
        }
      ],
      "source": [
        "df.info()"
      ]
    },
    {
      "cell_type": "code",
      "execution_count": 4,
      "metadata": {
        "id": "zDso2089f8lJ",
        "colab": {
          "base_uri": "https://localhost:8080/"
        },
        "outputId": "4729fac8-755e-4f23-be7a-8e3479078bcb"
      },
      "outputs": [
        {
          "output_type": "execute_result",
          "data": {
            "text/plain": [
              "price       0\n",
              "feature1    0\n",
              "feature2    0\n",
              "dtype: int64"
            ]
          },
          "metadata": {},
          "execution_count": 4
        }
      ],
      "source": [
        "df.isna().sum()"
      ]
    },
    {
      "cell_type": "code",
      "execution_count": 5,
      "metadata": {
        "colab": {
          "base_uri": "https://localhost:8080/",
          "height": 300
        },
        "id": "-Zbf8lzPgFZp",
        "outputId": "5ac1510d-ab64-422d-da0f-8c79a33b9b0e"
      },
      "outputs": [
        {
          "output_type": "execute_result",
          "data": {
            "text/plain": [
              "             price     feature1     feature2\n",
              "count  1000.000000  1000.000000  1000.000000\n",
              "mean    498.673029  1000.014171   999.979847\n",
              "std      93.785431     0.974018     0.948330\n",
              "min     223.346793   997.058347   996.995651\n",
              "25%     433.025732   999.332068   999.316106\n",
              "50%     502.382117  1000.009914  1000.002244\n",
              "75%     564.921587  1000.637580  1000.645379\n",
              "max     774.407854  1003.207934  1002.666308"
            ],
            "text/html": [
              "\n",
              "  <div id=\"df-0a2409dc-bd5b-4777-9408-9d063e78eeda\">\n",
              "    <div class=\"colab-df-container\">\n",
              "      <div>\n",
              "<style scoped>\n",
              "    .dataframe tbody tr th:only-of-type {\n",
              "        vertical-align: middle;\n",
              "    }\n",
              "\n",
              "    .dataframe tbody tr th {\n",
              "        vertical-align: top;\n",
              "    }\n",
              "\n",
              "    .dataframe thead th {\n",
              "        text-align: right;\n",
              "    }\n",
              "</style>\n",
              "<table border=\"1\" class=\"dataframe\">\n",
              "  <thead>\n",
              "    <tr style=\"text-align: right;\">\n",
              "      <th></th>\n",
              "      <th>price</th>\n",
              "      <th>feature1</th>\n",
              "      <th>feature2</th>\n",
              "    </tr>\n",
              "  </thead>\n",
              "  <tbody>\n",
              "    <tr>\n",
              "      <th>count</th>\n",
              "      <td>1000.000000</td>\n",
              "      <td>1000.000000</td>\n",
              "      <td>1000.000000</td>\n",
              "    </tr>\n",
              "    <tr>\n",
              "      <th>mean</th>\n",
              "      <td>498.673029</td>\n",
              "      <td>1000.014171</td>\n",
              "      <td>999.979847</td>\n",
              "    </tr>\n",
              "    <tr>\n",
              "      <th>std</th>\n",
              "      <td>93.785431</td>\n",
              "      <td>0.974018</td>\n",
              "      <td>0.948330</td>\n",
              "    </tr>\n",
              "    <tr>\n",
              "      <th>min</th>\n",
              "      <td>223.346793</td>\n",
              "      <td>997.058347</td>\n",
              "      <td>996.995651</td>\n",
              "    </tr>\n",
              "    <tr>\n",
              "      <th>25%</th>\n",
              "      <td>433.025732</td>\n",
              "      <td>999.332068</td>\n",
              "      <td>999.316106</td>\n",
              "    </tr>\n",
              "    <tr>\n",
              "      <th>50%</th>\n",
              "      <td>502.382117</td>\n",
              "      <td>1000.009914</td>\n",
              "      <td>1000.002244</td>\n",
              "    </tr>\n",
              "    <tr>\n",
              "      <th>75%</th>\n",
              "      <td>564.921587</td>\n",
              "      <td>1000.637580</td>\n",
              "      <td>1000.645379</td>\n",
              "    </tr>\n",
              "    <tr>\n",
              "      <th>max</th>\n",
              "      <td>774.407854</td>\n",
              "      <td>1003.207934</td>\n",
              "      <td>1002.666308</td>\n",
              "    </tr>\n",
              "  </tbody>\n",
              "</table>\n",
              "</div>\n",
              "      <button class=\"colab-df-convert\" onclick=\"convertToInteractive('df-0a2409dc-bd5b-4777-9408-9d063e78eeda')\"\n",
              "              title=\"Convert this dataframe to an interactive table.\"\n",
              "              style=\"display:none;\">\n",
              "        \n",
              "  <svg xmlns=\"http://www.w3.org/2000/svg\" height=\"24px\"viewBox=\"0 0 24 24\"\n",
              "       width=\"24px\">\n",
              "    <path d=\"M0 0h24v24H0V0z\" fill=\"none\"/>\n",
              "    <path d=\"M18.56 5.44l.94 2.06.94-2.06 2.06-.94-2.06-.94-.94-2.06-.94 2.06-2.06.94zm-11 1L8.5 8.5l.94-2.06 2.06-.94-2.06-.94L8.5 2.5l-.94 2.06-2.06.94zm10 10l.94 2.06.94-2.06 2.06-.94-2.06-.94-.94-2.06-.94 2.06-2.06.94z\"/><path d=\"M17.41 7.96l-1.37-1.37c-.4-.4-.92-.59-1.43-.59-.52 0-1.04.2-1.43.59L10.3 9.45l-7.72 7.72c-.78.78-.78 2.05 0 2.83L4 21.41c.39.39.9.59 1.41.59.51 0 1.02-.2 1.41-.59l7.78-7.78 2.81-2.81c.8-.78.8-2.07 0-2.86zM5.41 20L4 18.59l7.72-7.72 1.47 1.35L5.41 20z\"/>\n",
              "  </svg>\n",
              "      </button>\n",
              "      \n",
              "  <style>\n",
              "    .colab-df-container {\n",
              "      display:flex;\n",
              "      flex-wrap:wrap;\n",
              "      gap: 12px;\n",
              "    }\n",
              "\n",
              "    .colab-df-convert {\n",
              "      background-color: #E8F0FE;\n",
              "      border: none;\n",
              "      border-radius: 50%;\n",
              "      cursor: pointer;\n",
              "      display: none;\n",
              "      fill: #1967D2;\n",
              "      height: 32px;\n",
              "      padding: 0 0 0 0;\n",
              "      width: 32px;\n",
              "    }\n",
              "\n",
              "    .colab-df-convert:hover {\n",
              "      background-color: #E2EBFA;\n",
              "      box-shadow: 0px 1px 2px rgba(60, 64, 67, 0.3), 0px 1px 3px 1px rgba(60, 64, 67, 0.15);\n",
              "      fill: #174EA6;\n",
              "    }\n",
              "\n",
              "    [theme=dark] .colab-df-convert {\n",
              "      background-color: #3B4455;\n",
              "      fill: #D2E3FC;\n",
              "    }\n",
              "\n",
              "    [theme=dark] .colab-df-convert:hover {\n",
              "      background-color: #434B5C;\n",
              "      box-shadow: 0px 1px 3px 1px rgba(0, 0, 0, 0.15);\n",
              "      filter: drop-shadow(0px 1px 2px rgba(0, 0, 0, 0.3));\n",
              "      fill: #FFFFFF;\n",
              "    }\n",
              "  </style>\n",
              "\n",
              "      <script>\n",
              "        const buttonEl =\n",
              "          document.querySelector('#df-0a2409dc-bd5b-4777-9408-9d063e78eeda button.colab-df-convert');\n",
              "        buttonEl.style.display =\n",
              "          google.colab.kernel.accessAllowed ? 'block' : 'none';\n",
              "\n",
              "        async function convertToInteractive(key) {\n",
              "          const element = document.querySelector('#df-0a2409dc-bd5b-4777-9408-9d063e78eeda');\n",
              "          const dataTable =\n",
              "            await google.colab.kernel.invokeFunction('convertToInteractive',\n",
              "                                                     [key], {});\n",
              "          if (!dataTable) return;\n",
              "\n",
              "          const docLinkHtml = 'Like what you see? Visit the ' +\n",
              "            '<a target=\"_blank\" href=https://colab.research.google.com/notebooks/data_table.ipynb>data table notebook</a>'\n",
              "            + ' to learn more about interactive tables.';\n",
              "          element.innerHTML = '';\n",
              "          dataTable['output_type'] = 'display_data';\n",
              "          await google.colab.output.renderOutput(dataTable, element);\n",
              "          const docLink = document.createElement('div');\n",
              "          docLink.innerHTML = docLinkHtml;\n",
              "          element.appendChild(docLink);\n",
              "        }\n",
              "      </script>\n",
              "    </div>\n",
              "  </div>\n",
              "  "
            ]
          },
          "metadata": {},
          "execution_count": 5
        }
      ],
      "source": [
        "df.describe()"
      ]
    },
    {
      "cell_type": "code",
      "execution_count": 6,
      "metadata": {
        "id": "Ytbkw6rtgIdP",
        "colab": {
          "base_uri": "https://localhost:8080/",
          "height": 567
        },
        "outputId": "66896241-01a9-46bb-e9d1-89c2b69ca3bb"
      },
      "outputs": [
        {
          "output_type": "execute_result",
          "data": {
            "text/plain": [
              "<seaborn.axisgrid.PairGrid at 0x7fb4b8d8fd00>"
            ]
          },
          "metadata": {},
          "execution_count": 6
        },
        {
          "output_type": "display_data",
          "data": {
            "text/plain": [
              "<Figure size 540x540 with 12 Axes>"
            ],
            "image/png": "[encoded data removed]"
          },
          "metadata": {
            "needs_background": "light"
          }
        }
      ],
      "source": [
        "sns.pairplot(df)"
      ]
    },
    {
      "cell_type": "code",
      "execution_count": 7,
      "metadata": {
        "id": "M7T5bgqegfr8",
        "colab": {
          "base_uri": "https://localhost:8080/",
          "height": 143
        },
        "outputId": "87f97628-97db-4f59-e7f7-65b4801cef99"
      },
      "outputs": [
        {
          "output_type": "execute_result",
          "data": {
            "text/plain": [
              "             price  feature1  feature2\n",
              "price     1.000000  0.444190  0.907576\n",
              "feature1  0.444190  1.000000  0.030607\n",
              "feature2  0.907576  0.030607  1.000000"
            ],
            "text/html": [
              "\n",
              "  <div id=\"df-64a276a2-52ca-469b-bfcd-6573e8226bf9\">\n",
              "    <div class=\"colab-df-container\">\n",
              "      <div>\n",
              "<style scoped>\n",
              "    .dataframe tbody tr th:only-of-type {\n",
              "        vertical-align: middle;\n",
              "    }\n",
              "\n",
              "    .dataframe tbody tr th {\n",
              "        vertical-align: top;\n",
              "    }\n",
              "\n",
              "    .dataframe thead th {\n",
              "        text-align: right;\n",
              "    }\n",
              "</style>\n",
              "<table border=\"1\" class=\"dataframe\">\n",
              "  <thead>\n",
              "    <tr style=\"text-align: right;\">\n",
              "      <th></th>\n",
              "      <th>price</th>\n",
              "      <th>feature1</th>\n",
              "      <th>feature2</th>\n",
              "    </tr>\n",
              "  </thead>\n",
              "  <tbody>\n",
              "    <tr>\n",
              "      <th>price</th>\n",
              "      <td>1.000000</td>\n",
              "      <td>0.444190</td>\n",
              "      <td>0.907576</td>\n",
              "    </tr>\n",
              "    <tr>\n",
              "      <th>feature1</th>\n",
              "      <td>0.444190</td>\n",
              "      <td>1.000000</td>\n",
              "      <td>0.030607</td>\n",
              "    </tr>\n",
              "    <tr>\n",
              "      <th>feature2</th>\n",
              "      <td>0.907576</td>\n",
              "      <td>0.030607</td>\n",
              "      <td>1.000000</td>\n",
              "    </tr>\n",
              "  </tbody>\n",
              "</table>\n",
              "</div>\n",
              "      <button class=\"colab-df-convert\" onclick=\"convertToInteractive('df-64a276a2-52ca-469b-bfcd-6573e8226bf9')\"\n",
              "              title=\"Convert this dataframe to an interactive table.\"\n",
              "              style=\"display:none;\">\n",
              "        \n",
              "  <svg xmlns=\"http://www.w3.org/2000/svg\" height=\"24px\"viewBox=\"0 0 24 24\"\n",
              "       width=\"24px\">\n",
              "    <path d=\"M0 0h24v24H0V0z\" fill=\"none\"/>\n",
              "    <path d=\"M18.56 5.44l.94 2.06.94-2.06 2.06-.94-2.06-.94-.94-2.06-.94 2.06-2.06.94zm-11 1L8.5 8.5l.94-2.06 2.06-.94-2.06-.94L8.5 2.5l-.94 2.06-2.06.94zm10 10l.94 2.06.94-2.06 2.06-.94-2.06-.94-.94-2.06-.94 2.06-2.06.94z\"/><path d=\"M17.41 7.96l-1.37-1.37c-.4-.4-.92-.59-1.43-.59-.52 0-1.04.2-1.43.59L10.3 9.45l-7.72 7.72c-.78.78-.78 2.05 0 2.83L4 21.41c.39.39.9.59 1.41.59.51 0 1.02-.2 1.41-.59l7.78-7.78 2.81-2.81c.8-.78.8-2.07 0-2.86zM5.41 20L4 18.59l7.72-7.72 1.47 1.35L5.41 20z\"/>\n",
              "  </svg>\n",
              "      </button>\n",
              "      \n",
              "  <style>\n",
              "    .colab-df-container {\n",
              "      display:flex;\n",
              "      flex-wrap:wrap;\n",
              "      gap: 12px;\n",
              "    }\n",
              "\n",
              "    .colab-df-convert {\n",
              "      background-color: #E8F0FE;\n",
              "      border: none;\n",
              "      border-radius: 50%;\n",
              "      cursor: pointer;\n",
              "      display: none;\n",
              "      fill: #1967D2;\n",
              "      height: 32px;\n",
              "      padding: 0 0 0 0;\n",
              "      width: 32px;\n",
              "    }\n",
              "\n",
              "    .colab-df-convert:hover {\n",
              "      background-color: #E2EBFA;\n",
              "      box-shadow: 0px 1px 2px rgba(60, 64, 67, 0.3), 0px 1px 3px 1px rgba(60, 64, 67, 0.15);\n",
              "      fill: #174EA6;\n",
              "    }\n",
              "\n",
              "    [theme=dark] .colab-df-convert {\n",
              "      background-color: #3B4455;\n",
              "      fill: #D2E3FC;\n",
              "    }\n",
              "\n",
              "    [theme=dark] .colab-df-convert:hover {\n",
              "      background-color: #434B5C;\n",
              "      box-shadow: 0px 1px 3px 1px rgba(0, 0, 0, 0.15);\n",
              "      filter: drop-shadow(0px 1px 2px rgba(0, 0, 0, 0.3));\n",
              "      fill: #FFFFFF;\n",
              "    }\n",
              "  </style>\n",
              "\n",
              "      <script>\n",
              "        const buttonEl =\n",
              "          document.querySelector('#df-64a276a2-52ca-469b-bfcd-6573e8226bf9 button.colab-df-convert');\n",
              "        buttonEl.style.display =\n",
              "          google.colab.kernel.accessAllowed ? 'block' : 'none';\n",
              "\n",
              "        async function convertToInteractive(key) {\n",
              "          const element = document.querySelector('#df-64a276a2-52ca-469b-bfcd-6573e8226bf9');\n",
              "          const dataTable =\n",
              "            await google.colab.kernel.invokeFunction('convertToInteractive',\n",
              "                                                     [key], {});\n",
              "          if (!dataTable) return;\n",
              "\n",
              "          const docLinkHtml = 'Like what you see? Visit the ' +\n",
              "            '<a target=\"_blank\" href=https://colab.research.google.com/notebooks/data_table.ipynb>data table notebook</a>'\n",
              "            + ' to learn more about interactive tables.';\n",
              "          element.innerHTML = '';\n",
              "          dataTable['output_type'] = 'display_data';\n",
              "          await google.colab.output.renderOutput(dataTable, element);\n",
              "          const docLink = document.createElement('div');\n",
              "          docLink.innerHTML = docLinkHtml;\n",
              "          element.appendChild(docLink);\n",
              "        }\n",
              "      </script>\n",
              "    </div>\n",
              "  </div>\n",
              "  "
            ]
          },
          "metadata": {},
          "execution_count": 7
        }
      ],
      "source": [
        "df.corr()"
      ]
    },
    {
      "cell_type": "code",
      "execution_count": 8,
      "metadata": {
        "id": "3XLhYDp9grrP",
        "colab": {
          "base_uri": "https://localhost:8080/",
          "height": 143
        },
        "outputId": "b0c0c9d1-94c4-4dae-cc8d-e1e39a7d47ef"
      },
      "outputs": [
        {
          "output_type": "execute_result",
          "data": {
            "text/plain": [
              "<pandas.io.formats.style.Styler at 0x7fb4d51ec280>"
            ],
            "text/html": [
              "<style type=\"text/css\">\n",
              "#T_a10c2_row0_col0, #T_a10c2_row1_col1, #T_a10c2_row2_col2 {\n",
              "  background-color: #023858;\n",
              "  color: #f1f1f1;\n",
              "}\n",
              "#T_a10c2_row0_col1 {\n",
              "  background-color: #91b5d6;\n",
              "  color: #000000;\n",
              "}\n",
              "#T_a10c2_row0_col2 {\n",
              "  background-color: #045280;\n",
              "  color: #f1f1f1;\n",
              "}\n",
              "#T_a10c2_row1_col0, #T_a10c2_row1_col2, #T_a10c2_row2_col1 {\n",
              "  background-color: #fff7fb;\n",
              "  color: #000000;\n",
              "}\n",
              "#T_a10c2_row2_col0 {\n",
              "  background-color: #046198;\n",
              "  color: #f1f1f1;\n",
              "}\n",
              "</style>\n",
              "<table id=\"T_a10c2_\" class=\"dataframe\">\n",
              "  <thead>\n",
              "    <tr>\n",
              "      <th class=\"blank level0\" >&nbsp;</th>\n",
              "      <th class=\"col_heading level0 col0\" >price</th>\n",
              "      <th class=\"col_heading level0 col1\" >feature1</th>\n",
              "      <th class=\"col_heading level0 col2\" >feature2</th>\n",
              "    </tr>\n",
              "  </thead>\n",
              "  <tbody>\n",
              "    <tr>\n",
              "      <th id=\"T_a10c2_level0_row0\" class=\"row_heading level0 row0\" >price</th>\n",
              "      <td id=\"T_a10c2_row0_col0\" class=\"data row0 col0\" >1.000000</td>\n",
              "      <td id=\"T_a10c2_row0_col1\" class=\"data row0 col1\" >0.444190</td>\n",
              "      <td id=\"T_a10c2_row0_col2\" class=\"data row0 col2\" >0.907576</td>\n",
              "    </tr>\n",
              "    <tr>\n",
              "      <th id=\"T_a10c2_level0_row1\" class=\"row_heading level0 row1\" >feature1</th>\n",
              "      <td id=\"T_a10c2_row1_col0\" class=\"data row1 col0\" >0.444190</td>\n",
              "      <td id=\"T_a10c2_row1_col1\" class=\"data row1 col1\" >1.000000</td>\n",
              "      <td id=\"T_a10c2_row1_col2\" class=\"data row1 col2\" >0.030607</td>\n",
              "    </tr>\n",
              "    <tr>\n",
              "      <th id=\"T_a10c2_level0_row2\" class=\"row_heading level0 row2\" >feature2</th>\n",
              "      <td id=\"T_a10c2_row2_col0\" class=\"data row2 col0\" >0.907576</td>\n",
              "      <td id=\"T_a10c2_row2_col1\" class=\"data row2 col1\" >0.030607</td>\n",
              "      <td id=\"T_a10c2_row2_col2\" class=\"data row2 col2\" >1.000000</td>\n",
              "    </tr>\n",
              "  </tbody>\n",
              "</table>\n"
            ]
          },
          "metadata": {},
          "execution_count": 8
        }
      ],
      "source": [
        "df.corr().style.background_gradient()"
      ]
    },
    {
      "cell_type": "code",
      "execution_count": 9,
      "metadata": {
        "id": "nQM_JAseg3F7",
        "colab": {
          "base_uri": "https://localhost:8080/",
          "height": 286
        },
        "outputId": "f797d154-7345-4f5b-e6b6-a44d152e1b2c"
      },
      "outputs": [
        {
          "output_type": "execute_result",
          "data": {
            "text/plain": [
              "<matplotlib.axes._subplots.AxesSubplot at 0x7fb4b40f0f70>"
            ]
          },
          "metadata": {},
          "execution_count": 9
        },
        {
          "output_type": "display_data",
          "data": {
            "text/plain": [
              "<Figure size 432x288 with 2 Axes>"
            ],
            "image/png": "[encoded data removed]"
          },
          "metadata": {
            "needs_background": "light"
          }
        }
      ],
      "source": [
        "sns.heatmap(df.corr(), annot=True, cmap=\"Blues\")"
      ]
    },
    {
      "cell_type": "code",
      "execution_count": 10,
      "metadata": {
        "id": "RzLCT6KSg_h6",
        "colab": {
          "base_uri": "https://localhost:8080/"
        },
        "outputId": "fed0c98c-a573-4ec2-de4b-1d2b62ccf4c9"
      },
      "outputs": [
        {
          "output_type": "execute_result",
          "data": {
            "text/plain": [
              "feature1    0.444190\n",
              "feature2    0.907576\n",
              "price       1.000000\n",
              "Name: price, dtype: float64"
            ]
          },
          "metadata": {},
          "execution_count": 10
        }
      ],
      "source": [
        "df.corr()[\"price\"].sort_values()"
      ]
    },
    {
      "cell_type": "code",
      "execution_count": 11,
      "metadata": {
        "id": "s8lAv-lHhUr7"
      },
      "outputs": [],
      "source": [
        "x = df.iloc[:, 1:].values\n",
        "y = df.iloc[:, 0].values"
      ]
    },
    {
      "cell_type": "code",
      "execution_count": 12,
      "metadata": {
        "id": "JWdaMQTZhveO"
      },
      "outputs": [],
      "source": [
        "from sklearn.preprocessing import StandardScaler\n",
        "sc = StandardScaler()\n",
        "x = sc.fit_transform(x)"
      ]
    },
    {
      "cell_type": "code",
      "execution_count": 13,
      "metadata": {
        "id": "rYUK8c0MiAtJ"
      },
      "outputs": [],
      "source": [
        "from sklearn.model_selection import train_test_split\n",
        "xtrain, xtest, ytrain, ytest = train_test_split(x,y, test_size=0.3, random_state=1)"
      ]
    },
    {
      "cell_type": "code",
      "execution_count": 14,
      "metadata": {
        "id": "F1zfgcSiiSMC"
      },
      "outputs": [],
      "source": [
        "import tensorflow as tf\n",
        "from tensorflow.keras.layers import Dense\n",
        "from tensorflow.keras.models import Sequential"
      ]
    },
    {
      "cell_type": "code",
      "execution_count": 15,
      "metadata": {
        "id": "n9yH0HnnjQTH",
        "colab": {
          "base_uri": "https://localhost:8080/"
        },
        "outputId": "d3c223c6-c7f8-491d-a5c4-4552eadd808d"
      },
      "outputs": [
        {
          "output_type": "stream",
          "name": "stdout",
          "text": [
            "Epoch 1/250\n",
            "22/22 [==============================] - 3s 3ms/step - loss: 255753.2812\n",
            "Epoch 2/250\n",
            "22/22 [==============================] - 0s 3ms/step - loss: 255612.1875\n",
            "Epoch 3/250\n",
            "22/22 [==============================] - 0s 3ms/step - loss: 255484.2812\n",
            "Epoch 4/250\n",
            "22/22 [==============================] - 0s 3ms/step - loss: 255354.9062\n",
            "Epoch 5/250\n",
            "22/22 [==============================] - 0s 3ms/step - loss: 255221.4219\n",
            "Epoch 6/250\n",
            "22/22 [==============================] - 0s 3ms/step - loss: 255080.7031\n",
            "Epoch 7/250\n",
            "22/22 [==============================] - 0s 3ms/step - loss: 254931.0625\n",
            "Epoch 8/250\n",
            "22/22 [==============================] - 0s 3ms/step - loss: 254768.3438\n",
            "Epoch 9/250\n",
            "22/22 [==============================] - 0s 3ms/step - loss: 254592.5781\n",
            "Epoch 10/250\n",
            "22/22 [==============================] - 0s 3ms/step - loss: 254408.1875\n",
            "Epoch 11/250\n",
            "22/22 [==============================] - 0s 3ms/step - loss: 254217.4688\n",
            "Epoch 12/250\n",
            "22/22 [==============================] - 0s 3ms/step - loss: 254021.3906\n",
            "Epoch 13/250\n",
            "22/22 [==============================] - 0s 3ms/step - loss: 253819.0781\n",
            "Epoch 14/250\n",
            "22/22 [==============================] - 0s 3ms/step - loss: 253612.7500\n",
            "Epoch 15/250\n",
            "22/22 [==============================] - 0s 3ms/step - loss: 253393.3438\n",
            "Epoch 16/250\n",
            "22/22 [==============================] - 0s 3ms/step - loss: 253158.6250\n",
            "Epoch 17/250\n",
            "22/22 [==============================] - 0s 3ms/step - loss: 252908.8281\n",
            "Epoch 18/250\n",
            "22/22 [==============================] - 0s 3ms/step - loss: 252640.2969\n",
            "Epoch 19/250\n",
            "22/22 [==============================] - 0s 3ms/step - loss: 252356.1562\n",
            "Epoch 20/250\n",
            "22/22 [==============================] - 0s 3ms/step - loss: 252053.3438\n",
            "Epoch 21/250\n",
            "22/22 [==============================] - 0s 3ms/step - loss: 251732.5312\n",
            "Epoch 22/250\n",
            "22/22 [==============================] - 0s 3ms/step - loss: 251395.0625\n",
            "Epoch 23/250\n",
            "22/22 [==============================] - 0s 3ms/step - loss: 251035.5938\n",
            "Epoch 24/250\n",
            "22/22 [==============================] - 0s 3ms/step - loss: 250655.5469\n",
            "Epoch 25/250\n",
            "22/22 [==============================] - 0s 2ms/step - loss: 250255.1562\n",
            "Epoch 26/250\n",
            "22/22 [==============================] - 0s 2ms/step - loss: 249831.2188\n",
            "Epoch 27/250\n",
            "22/22 [==============================] - 0s 3ms/step - loss: 249385.3438\n",
            "Epoch 28/250\n",
            "22/22 [==============================] - 0s 3ms/step - loss: 248914.7031\n",
            "Epoch 29/250\n",
            "22/22 [==============================] - 0s 3ms/step - loss: 248417.0312\n",
            "Epoch 30/250\n",
            "22/22 [==============================] - 0s 3ms/step - loss: 247895.9375\n",
            "Epoch 31/250\n",
            "22/22 [==============================] - 0s 3ms/step - loss: 247344.0938\n",
            "Epoch 32/250\n",
            "22/22 [==============================] - 0s 3ms/step - loss: 246763.3438\n",
            "Epoch 33/250\n",
            "22/22 [==============================] - 0s 3ms/step - loss: 246156.0938\n",
            "Epoch 34/250\n",
            "22/22 [==============================] - 0s 3ms/step - loss: 245517.8281\n",
            "Epoch 35/250\n",
            "22/22 [==============================] - 0s 3ms/step - loss: 244853.6875\n",
            "Epoch 36/250\n",
            "22/22 [==============================] - 0s 3ms/step - loss: 244159.1562\n",
            "Epoch 37/250\n",
            "22/22 [==============================] - 0s 2ms/step - loss: 243434.4844\n",
            "Epoch 38/250\n",
            "22/22 [==============================] - 0s 3ms/step - loss: 242674.3281\n",
            "Epoch 39/250\n",
            "22/22 [==============================] - 0s 3ms/step - loss: 241883.0156\n",
            "Epoch 40/250\n",
            "22/22 [==============================] - 0s 3ms/step - loss: 241055.5625\n",
            "Epoch 41/250\n",
            "22/22 [==============================] - 0s 2ms/step - loss: 240196.4844\n",
            "Epoch 42/250\n",
            "22/22 [==============================] - 0s 3ms/step - loss: 239308.0469\n",
            "Epoch 43/250\n",
            "22/22 [==============================] - 0s 2ms/step - loss: 238385.6250\n",
            "Epoch 44/250\n",
            "22/22 [==============================] - 0s 3ms/step - loss: 237420.7031\n",
            "Epoch 45/250\n",
            "22/22 [==============================] - 0s 2ms/step - loss: 236418.6094\n",
            "Epoch 46/250\n",
            "22/22 [==============================] - 0s 3ms/step - loss: 235379.0000\n",
            "Epoch 47/250\n",
            "22/22 [==============================] - 0s 3ms/step - loss: 234299.8906\n",
            "Epoch 48/250\n",
            "22/22 [==============================] - 0s 3ms/step - loss: 233185.9688\n",
            "Epoch 49/250\n",
            "22/22 [==============================] - 0s 3ms/step - loss: 232035.2500\n",
            "Epoch 50/250\n",
            "22/22 [==============================] - 0s 3ms/step - loss: 230845.4688\n",
            "Epoch 51/250\n",
            "22/22 [==============================] - 0s 2ms/step - loss: 229613.1719\n",
            "Epoch 52/250\n",
            "22/22 [==============================] - 0s 3ms/step - loss: 228331.0156\n",
            "Epoch 53/250\n",
            "22/22 [==============================] - 0s 2ms/step - loss: 227017.1719\n",
            "Epoch 54/250\n",
            "22/22 [==============================] - 0s 2ms/step - loss: 225664.1094\n",
            "Epoch 55/250\n",
            "22/22 [==============================] - 0s 2ms/step - loss: 224260.5000\n",
            "Epoch 56/250\n",
            "22/22 [==============================] - 0s 3ms/step - loss: 222821.0000\n",
            "Epoch 57/250\n",
            "22/22 [==============================] - 0s 3ms/step - loss: 221324.9375\n",
            "Epoch 58/250\n",
            "22/22 [==============================] - 0s 2ms/step - loss: 219789.8125\n",
            "Epoch 59/250\n",
            "22/22 [==============================] - 0s 2ms/step - loss: 218204.0625\n",
            "Epoch 60/250\n",
            "22/22 [==============================] - 0s 3ms/step - loss: 216585.0938\n",
            "Epoch 61/250\n",
            "22/22 [==============================] - 0s 3ms/step - loss: 214903.6094\n",
            "Epoch 62/250\n",
            "22/22 [==============================] - 0s 3ms/step - loss: 213181.2500\n",
            "Epoch 63/250\n",
            "22/22 [==============================] - 0s 3ms/step - loss: 211420.5469\n",
            "Epoch 64/250\n",
            "22/22 [==============================] - 0s 3ms/step - loss: 209607.1094\n",
            "Epoch 65/250\n",
            "22/22 [==============================] - 0s 2ms/step - loss: 207762.7500\n",
            "Epoch 66/250\n",
            "22/22 [==============================] - 0s 3ms/step - loss: 205878.5156\n",
            "Epoch 67/250\n",
            "22/22 [==============================] - 0s 3ms/step - loss: 203938.9688\n",
            "Epoch 68/250\n",
            "22/22 [==============================] - 0s 3ms/step - loss: 201952.1875\n",
            "Epoch 69/250\n",
            "22/22 [==============================] - 0s 3ms/step - loss: 199929.9375\n",
            "Epoch 70/250\n",
            "22/22 [==============================] - 0s 3ms/step - loss: 197858.9062\n",
            "Epoch 71/250\n",
            "22/22 [==============================] - 0s 2ms/step - loss: 195752.6875\n",
            "Epoch 72/250\n",
            "22/22 [==============================] - 0s 2ms/step - loss: 193600.9375\n",
            "Epoch 73/250\n",
            "22/22 [==============================] - 0s 3ms/step - loss: 191390.7500\n",
            "Epoch 74/250\n",
            "22/22 [==============================] - 0s 2ms/step - loss: 189150.3125\n",
            "Epoch 75/250\n",
            "22/22 [==============================] - 0s 3ms/step - loss: 186863.3750\n",
            "Epoch 76/250\n",
            "22/22 [==============================] - 0s 3ms/step - loss: 184552.3438\n",
            "Epoch 77/250\n",
            "22/22 [==============================] - 0s 2ms/step - loss: 182191.0781\n",
            "Epoch 78/250\n",
            "22/22 [==============================] - 0s 3ms/step - loss: 179770.4844\n",
            "Epoch 79/250\n",
            "22/22 [==============================] - 0s 2ms/step - loss: 177340.3594\n",
            "Epoch 80/250\n",
            "22/22 [==============================] - 0s 3ms/step - loss: 174863.1562\n",
            "Epoch 81/250\n",
            "22/22 [==============================] - 0s 4ms/step - loss: 172372.7812\n",
            "Epoch 82/250\n",
            "22/22 [==============================] - 0s 3ms/step - loss: 169817.8281\n",
            "Epoch 83/250\n",
            "22/22 [==============================] - 0s 3ms/step - loss: 167224.9844\n",
            "Epoch 84/250\n",
            "22/22 [==============================] - 0s 3ms/step - loss: 164590.1719\n",
            "Epoch 85/250\n",
            "22/22 [==============================] - 0s 3ms/step - loss: 161942.8281\n",
            "Epoch 86/250\n",
            "22/22 [==============================] - 0s 3ms/step - loss: 159236.4688\n",
            "Epoch 87/250\n",
            "22/22 [==============================] - 0s 3ms/step - loss: 156522.1562\n",
            "Epoch 88/250\n",
            "22/22 [==============================] - 0s 3ms/step - loss: 153773.5781\n",
            "Epoch 89/250\n",
            "22/22 [==============================] - 0s 3ms/step - loss: 150997.5625\n",
            "Epoch 90/250\n",
            "22/22 [==============================] - 0s 3ms/step - loss: 148177.4531\n",
            "Epoch 91/250\n",
            "22/22 [==============================] - 0s 3ms/step - loss: 145344.4844\n",
            "Epoch 92/250\n",
            "22/22 [==============================] - 0s 3ms/step - loss: 142500.1875\n",
            "Epoch 93/250\n",
            "22/22 [==============================] - 0s 3ms/step - loss: 139609.2031\n",
            "Epoch 94/250\n",
            "22/22 [==============================] - 0s 3ms/step - loss: 136682.7188\n",
            "Epoch 95/250\n",
            "22/22 [==============================] - 0s 3ms/step - loss: 133739.3281\n",
            "Epoch 96/250\n",
            "22/22 [==============================] - 0s 3ms/step - loss: 130808.7891\n",
            "Epoch 97/250\n",
            "22/22 [==============================] - 0s 3ms/step - loss: 127854.3906\n",
            "Epoch 98/250\n",
            "22/22 [==============================] - 0s 3ms/step - loss: 124875.0781\n",
            "Epoch 99/250\n",
            "22/22 [==============================] - 0s 3ms/step - loss: 121921.4375\n",
            "Epoch 100/250\n",
            "22/22 [==============================] - 0s 3ms/step - loss: 118930.8594\n",
            "Epoch 101/250\n",
            "22/22 [==============================] - 0s 3ms/step - loss: 115909.2031\n",
            "Epoch 102/250\n",
            "22/22 [==============================] - 0s 3ms/step - loss: 112891.7031\n",
            "Epoch 103/250\n",
            "22/22 [==============================] - 0s 3ms/step - loss: 109876.2422\n",
            "Epoch 104/250\n",
            "22/22 [==============================] - 0s 3ms/step - loss: 106817.4297\n",
            "Epoch 105/250\n",
            "22/22 [==============================] - 0s 3ms/step - loss: 103800.5156\n",
            "Epoch 106/250\n",
            "22/22 [==============================] - 0s 2ms/step - loss: 100808.0234\n",
            "Epoch 107/250\n",
            "22/22 [==============================] - 0s 3ms/step - loss: 97773.3594\n",
            "Epoch 108/250\n",
            "22/22 [==============================] - 0s 3ms/step - loss: 94775.3516\n",
            "Epoch 109/250\n",
            "22/22 [==============================] - 0s 3ms/step - loss: 91776.1094\n",
            "Epoch 110/250\n",
            "22/22 [==============================] - 0s 3ms/step - loss: 88770.3047\n",
            "Epoch 111/250\n",
            "22/22 [==============================] - 0s 3ms/step - loss: 85806.4453\n",
            "Epoch 112/250\n",
            "22/22 [==============================] - 0s 2ms/step - loss: 82835.3047\n",
            "Epoch 113/250\n",
            "22/22 [==============================] - 0s 3ms/step - loss: 79911.2031\n",
            "Epoch 114/250\n",
            "22/22 [==============================] - 0s 2ms/step - loss: 77010.5391\n",
            "Epoch 115/250\n",
            "22/22 [==============================] - 0s 3ms/step - loss: 74104.3516\n",
            "Epoch 116/250\n",
            "22/22 [==============================] - 0s 3ms/step - loss: 71208.9453\n",
            "Epoch 117/250\n",
            "22/22 [==============================] - 0s 3ms/step - loss: 68382.7891\n",
            "Epoch 118/250\n",
            "22/22 [==============================] - 0s 3ms/step - loss: 65608.2344\n",
            "Epoch 119/250\n",
            "22/22 [==============================] - 0s 3ms/step - loss: 62837.7539\n",
            "Epoch 120/250\n",
            "22/22 [==============================] - 0s 3ms/step - loss: 60105.1992\n",
            "Epoch 121/250\n",
            "22/22 [==============================] - 0s 3ms/step - loss: 57408.9531\n",
            "Epoch 122/250\n",
            "22/22 [==============================] - 0s 3ms/step - loss: 54757.3125\n",
            "Epoch 123/250\n",
            "22/22 [==============================] - 0s 3ms/step - loss: 52160.9961\n",
            "Epoch 124/250\n",
            "22/22 [==============================] - 0s 3ms/step - loss: 49617.8477\n",
            "Epoch 125/250\n",
            "22/22 [==============================] - 0s 3ms/step - loss: 47145.4336\n",
            "Epoch 126/250\n",
            "22/22 [==============================] - 0s 3ms/step - loss: 44717.4297\n",
            "Epoch 127/250\n",
            "22/22 [==============================] - 0s 3ms/step - loss: 42336.6211\n",
            "Epoch 128/250\n",
            "22/22 [==============================] - 0s 2ms/step - loss: 40019.7305\n",
            "Epoch 129/250\n",
            "22/22 [==============================] - 0s 3ms/step - loss: 37780.3086\n",
            "Epoch 130/250\n",
            "22/22 [==============================] - 0s 3ms/step - loss: 35607.2070\n",
            "Epoch 131/250\n",
            "22/22 [==============================] - 0s 3ms/step - loss: 33475.3828\n",
            "Epoch 132/250\n",
            "22/22 [==============================] - 0s 3ms/step - loss: 31397.4941\n",
            "Epoch 133/250\n",
            "22/22 [==============================] - 0s 2ms/step - loss: 29414.7891\n",
            "Epoch 134/250\n",
            "22/22 [==============================] - 0s 2ms/step - loss: 27519.2031\n",
            "Epoch 135/250\n",
            "22/22 [==============================] - 0s 3ms/step - loss: 25728.6289\n",
            "Epoch 136/250\n",
            "22/22 [==============================] - 0s 3ms/step - loss: 24004.1855\n",
            "Epoch 137/250\n",
            "22/22 [==============================] - 0s 3ms/step - loss: 22334.6836\n",
            "Epoch 138/250\n",
            "22/22 [==============================] - 0s 3ms/step - loss: 20744.1387\n",
            "Epoch 139/250\n",
            "22/22 [==============================] - 0s 3ms/step - loss: 19288.0000\n",
            "Epoch 140/250\n",
            "22/22 [==============================] - 0s 3ms/step - loss: 17919.2109\n",
            "Epoch 141/250\n",
            "22/22 [==============================] - 0s 3ms/step - loss: 16637.8965\n",
            "Epoch 142/250\n",
            "22/22 [==============================] - 0s 3ms/step - loss: 15455.4131\n",
            "Epoch 143/250\n",
            "22/22 [==============================] - 0s 3ms/step - loss: 14387.9170\n",
            "Epoch 144/250\n",
            "22/22 [==============================] - 0s 3ms/step - loss: 13412.1514\n",
            "Epoch 145/250\n",
            "22/22 [==============================] - 0s 3ms/step - loss: 12542.5088\n",
            "Epoch 146/250\n",
            "22/22 [==============================] - 0s 3ms/step - loss: 11766.3711\n",
            "Epoch 147/250\n",
            "22/22 [==============================] - 0s 3ms/step - loss: 11077.5889\n",
            "Epoch 148/250\n",
            "22/22 [==============================] - 0s 2ms/step - loss: 10504.4404\n",
            "Epoch 149/250\n",
            "22/22 [==============================] - 0s 2ms/step - loss: 10014.8955\n",
            "Epoch 150/250\n",
            "22/22 [==============================] - 0s 2ms/step - loss: 9575.0508\n",
            "Epoch 151/250\n",
            "22/22 [==============================] - 0s 4ms/step - loss: 9183.0723\n",
            "Epoch 152/250\n",
            "22/22 [==============================] - 0s 3ms/step - loss: 8827.7441\n",
            "Epoch 153/250\n",
            "22/22 [==============================] - 0s 3ms/step - loss: 8500.5107\n",
            "Epoch 154/250\n",
            "22/22 [==============================] - 0s 3ms/step - loss: 8202.2676\n",
            "Epoch 155/250\n",
            "22/22 [==============================] - 0s 3ms/step - loss: 7919.6665\n",
            "Epoch 156/250\n",
            "22/22 [==============================] - 0s 3ms/step - loss: 7659.2100\n",
            "Epoch 157/250\n",
            "22/22 [==============================] - 0s 3ms/step - loss: 7396.8145\n",
            "Epoch 158/250\n",
            "22/22 [==============================] - 0s 3ms/step - loss: 7145.2222\n",
            "Epoch 159/250\n",
            "22/22 [==============================] - 0s 2ms/step - loss: 6907.3242\n",
            "Epoch 160/250\n",
            "22/22 [==============================] - 0s 3ms/step - loss: 6683.8755\n",
            "Epoch 161/250\n",
            "22/22 [==============================] - 0s 2ms/step - loss: 6453.4077\n",
            "Epoch 162/250\n",
            "22/22 [==============================] - 0s 3ms/step - loss: 6236.4155\n",
            "Epoch 163/250\n",
            "22/22 [==============================] - 0s 3ms/step - loss: 6025.2871\n",
            "Epoch 164/250\n",
            "22/22 [==============================] - 0s 3ms/step - loss: 5820.8735\n",
            "Epoch 165/250\n",
            "22/22 [==============================] - 0s 3ms/step - loss: 5618.7163\n",
            "Epoch 166/250\n",
            "22/22 [==============================] - 0s 3ms/step - loss: 5422.8872\n",
            "Epoch 167/250\n",
            "22/22 [==============================] - 0s 3ms/step - loss: 5233.0327\n",
            "Epoch 168/250\n",
            "22/22 [==============================] - 0s 3ms/step - loss: 5053.2065\n",
            "Epoch 169/250\n",
            "22/22 [==============================] - 0s 3ms/step - loss: 4877.4248\n",
            "Epoch 170/250\n",
            "22/22 [==============================] - 0s 3ms/step - loss: 4708.5850\n",
            "Epoch 171/250\n",
            "22/22 [==============================] - 0s 3ms/step - loss: 4543.3398\n",
            "Epoch 172/250\n",
            "22/22 [==============================] - 0s 3ms/step - loss: 4381.3804\n",
            "Epoch 173/250\n",
            "22/22 [==============================] - 0s 3ms/step - loss: 4221.9893\n",
            "Epoch 174/250\n",
            "22/22 [==============================] - 0s 3ms/step - loss: 4065.7654\n",
            "Epoch 175/250\n",
            "22/22 [==============================] - 0s 3ms/step - loss: 3915.2422\n",
            "Epoch 176/250\n",
            "22/22 [==============================] - 0s 3ms/step - loss: 3763.8672\n",
            "Epoch 177/250\n",
            "22/22 [==============================] - 0s 3ms/step - loss: 3622.6394\n",
            "Epoch 178/250\n",
            "22/22 [==============================] - 0s 3ms/step - loss: 3492.2771\n",
            "Epoch 179/250\n",
            "22/22 [==============================] - 0s 3ms/step - loss: 3366.0061\n",
            "Epoch 180/250\n",
            "22/22 [==============================] - 0s 3ms/step - loss: 3237.1396\n",
            "Epoch 181/250\n",
            "22/22 [==============================] - 0s 3ms/step - loss: 3115.5503\n",
            "Epoch 182/250\n",
            "22/22 [==============================] - 0s 3ms/step - loss: 2996.5530\n",
            "Epoch 183/250\n",
            "22/22 [==============================] - 0s 3ms/step - loss: 2880.3647\n",
            "Epoch 184/250\n",
            "22/22 [==============================] - 0s 3ms/step - loss: 2769.9304\n",
            "Epoch 185/250\n",
            "22/22 [==============================] - 0s 3ms/step - loss: 2667.1938\n",
            "Epoch 186/250\n",
            "22/22 [==============================] - 0s 3ms/step - loss: 2559.8459\n",
            "Epoch 187/250\n",
            "22/22 [==============================] - 0s 3ms/step - loss: 2452.1953\n",
            "Epoch 188/250\n",
            "22/22 [==============================] - 0s 3ms/step - loss: 2353.4868\n",
            "Epoch 189/250\n",
            "22/22 [==============================] - 0s 3ms/step - loss: 2259.7705\n",
            "Epoch 190/250\n",
            "22/22 [==============================] - 0s 3ms/step - loss: 2166.4460\n",
            "Epoch 191/250\n",
            "22/22 [==============================] - 0s 3ms/step - loss: 2078.7507\n",
            "Epoch 192/250\n",
            "22/22 [==============================] - 0s 3ms/step - loss: 1992.2222\n",
            "Epoch 193/250\n",
            "22/22 [==============================] - 0s 3ms/step - loss: 1906.3909\n",
            "Epoch 194/250\n",
            "22/22 [==============================] - 0s 3ms/step - loss: 1824.0601\n",
            "Epoch 195/250\n",
            "22/22 [==============================] - 0s 3ms/step - loss: 1741.8226\n",
            "Epoch 196/250\n",
            "22/22 [==============================] - 0s 3ms/step - loss: 1666.0698\n",
            "Epoch 197/250\n",
            "22/22 [==============================] - 0s 3ms/step - loss: 1593.5225\n",
            "Epoch 198/250\n",
            "22/22 [==============================] - 0s 3ms/step - loss: 1524.3566\n",
            "Epoch 199/250\n",
            "22/22 [==============================] - 0s 2ms/step - loss: 1454.3884\n",
            "Epoch 200/250\n",
            "22/22 [==============================] - 0s 3ms/step - loss: 1388.5032\n",
            "Epoch 201/250\n",
            "22/22 [==============================] - 0s 3ms/step - loss: 1324.5424\n",
            "Epoch 202/250\n",
            "22/22 [==============================] - 0s 3ms/step - loss: 1267.2032\n",
            "Epoch 203/250\n",
            "22/22 [==============================] - 0s 3ms/step - loss: 1207.3533\n",
            "Epoch 204/250\n",
            "22/22 [==============================] - 0s 3ms/step - loss: 1147.5126\n",
            "Epoch 205/250\n",
            "22/22 [==============================] - 0s 3ms/step - loss: 1091.1029\n",
            "Epoch 206/250\n",
            "22/22 [==============================] - 0s 3ms/step - loss: 1039.2332\n",
            "Epoch 207/250\n",
            "22/22 [==============================] - 0s 3ms/step - loss: 987.9037\n",
            "Epoch 208/250\n",
            "22/22 [==============================] - 0s 3ms/step - loss: 938.3820\n",
            "Epoch 209/250\n",
            "22/22 [==============================] - 0s 3ms/step - loss: 891.9182\n",
            "Epoch 210/250\n",
            "22/22 [==============================] - 0s 3ms/step - loss: 848.2092\n",
            "Epoch 211/250\n",
            "22/22 [==============================] - 0s 3ms/step - loss: 802.6328\n",
            "Epoch 212/250\n",
            "22/22 [==============================] - 0s 3ms/step - loss: 759.4288\n",
            "Epoch 213/250\n",
            "22/22 [==============================] - 0s 3ms/step - loss: 719.6751\n",
            "Epoch 214/250\n",
            "22/22 [==============================] - 0s 3ms/step - loss: 682.9871\n",
            "Epoch 215/250\n",
            "22/22 [==============================] - 0s 3ms/step - loss: 647.4092\n",
            "Epoch 216/250\n",
            "22/22 [==============================] - 0s 3ms/step - loss: 613.2388\n",
            "Epoch 217/250\n",
            "22/22 [==============================] - 0s 3ms/step - loss: 580.7990\n",
            "Epoch 218/250\n",
            "22/22 [==============================] - 0s 3ms/step - loss: 550.9559\n",
            "Epoch 219/250\n",
            "22/22 [==============================] - 0s 3ms/step - loss: 524.2141\n",
            "Epoch 220/250\n",
            "22/22 [==============================] - 0s 3ms/step - loss: 498.0422\n",
            "Epoch 221/250\n",
            "22/22 [==============================] - 0s 3ms/step - loss: 472.1297\n",
            "Epoch 222/250\n",
            "22/22 [==============================] - 0s 3ms/step - loss: 449.6740\n",
            "Epoch 223/250\n",
            "22/22 [==============================] - 0s 3ms/step - loss: 426.9192\n",
            "Epoch 224/250\n",
            "22/22 [==============================] - 0s 3ms/step - loss: 405.4152\n",
            "Epoch 225/250\n",
            "22/22 [==============================] - 0s 3ms/step - loss: 384.1696\n",
            "Epoch 226/250\n",
            "22/22 [==============================] - 0s 3ms/step - loss: 365.1602\n",
            "Epoch 227/250\n",
            "22/22 [==============================] - 0s 3ms/step - loss: 345.2461\n",
            "Epoch 228/250\n",
            "22/22 [==============================] - 0s 3ms/step - loss: 328.6657\n",
            "Epoch 229/250\n",
            "22/22 [==============================] - 0s 3ms/step - loss: 311.7053\n",
            "Epoch 230/250\n",
            "22/22 [==============================] - 0s 3ms/step - loss: 294.0685\n",
            "Epoch 231/250\n",
            "22/22 [==============================] - 0s 3ms/step - loss: 279.4172\n",
            "Epoch 232/250\n",
            "22/22 [==============================] - 0s 3ms/step - loss: 265.4694\n",
            "Epoch 233/250\n",
            "22/22 [==============================] - 0s 3ms/step - loss: 251.7880\n",
            "Epoch 234/250\n",
            "22/22 [==============================] - 0s 3ms/step - loss: 238.8854\n",
            "Epoch 235/250\n",
            "22/22 [==============================] - 0s 3ms/step - loss: 226.5336\n",
            "Epoch 236/250\n",
            "22/22 [==============================] - 0s 3ms/step - loss: 214.9546\n",
            "Epoch 237/250\n",
            "22/22 [==============================] - 0s 3ms/step - loss: 203.1736\n",
            "Epoch 238/250\n",
            "22/22 [==============================] - 0s 3ms/step - loss: 193.6518\n",
            "Epoch 239/250\n",
            "22/22 [==============================] - 0s 3ms/step - loss: 184.5507\n",
            "Epoch 240/250\n",
            "22/22 [==============================] - 0s 3ms/step - loss: 176.3821\n",
            "Epoch 241/250\n",
            "22/22 [==============================] - 0s 3ms/step - loss: 168.2585\n",
            "Epoch 242/250\n",
            "22/22 [==============================] - 0s 3ms/step - loss: 160.8572\n",
            "Epoch 243/250\n",
            "22/22 [==============================] - 0s 3ms/step - loss: 154.8323\n",
            "Epoch 244/250\n",
            "22/22 [==============================] - 0s 3ms/step - loss: 147.3481\n",
            "Epoch 245/250\n",
            "22/22 [==============================] - 0s 3ms/step - loss: 140.9343\n",
            "Epoch 246/250\n",
            "22/22 [==============================] - 0s 3ms/step - loss: 134.3274\n",
            "Epoch 247/250\n",
            "22/22 [==============================] - 0s 3ms/step - loss: 128.5739\n",
            "Epoch 248/250\n",
            "22/22 [==============================] - 0s 3ms/step - loss: 123.2465\n",
            "Epoch 249/250\n",
            "22/22 [==============================] - 0s 3ms/step - loss: 118.0021\n",
            "Epoch 250/250\n",
            "22/22 [==============================] - 0s 3ms/step - loss: 112.7772\n"
          ]
        },
        {
          "output_type": "execute_result",
          "data": {
            "text/plain": [
              "<keras.callbacks.History at 0x7fb4502ab940>"
            ]
          },
          "metadata": {},
          "execution_count": 15
        }
      ],
      "source": [
        "ann = Sequential()\n",
        "\n",
        "ann.add(Dense(units=4, activation=\"relu\")) # now we have 2 cols.. is it ok if we take more than 2 neurons.. its totally fine to give more neurons.\n",
        "ann.add(Dense(units=4, activation=\"relu\"))\n",
        "ann.add(Dense(units=1))\n",
        "\n",
        "ann.compile(optimizer=\"rmsprop\", loss=\"mse\")\n",
        "\n",
        "ann.fit(xtrain, ytrain, epochs=250)\n",
        "\n",
        "# now deep learning is kind of a black box, randomly weights are assigned , the random weights can also depend on system configuration.\n",
        "# and when we restart the kernel, its very much possible that the old weights will be lost..\n",
        "# So the solution is, once you run a model, save old weights.\n",
        "\n",
        "\n"
      ]
    },
    {
      "cell_type": "code",
      "execution_count": 16,
      "metadata": {
        "id": "LMtRoyLFjZNI",
        "colab": {
          "base_uri": "https://localhost:8080/",
          "height": 206
        },
        "outputId": "81659689-0169-470f-fa5d-9fd3c4ee4a02"
      },
      "outputs": [
        {
          "output_type": "execute_result",
          "data": {
            "text/plain": [
              "            loss\n",
              "0  255753.281250\n",
              "1  255612.187500\n",
              "2  255484.281250\n",
              "3  255354.906250\n",
              "4  255221.421875"
            ],
            "text/html": [
              "\n",
              "  <div id=\"df-02feb60d-2751-4f12-b682-e36d4c739932\">\n",
              "    <div class=\"colab-df-container\">\n",
              "      <div>\n",
              "<style scoped>\n",
              "    .dataframe tbody tr th:only-of-type {\n",
              "        vertical-align: middle;\n",
              "    }\n",
              "\n",
              "    .dataframe tbody tr th {\n",
              "        vertical-align: top;\n",
              "    }\n",
              "\n",
              "    .dataframe thead th {\n",
              "        text-align: right;\n",
              "    }\n",
              "</style>\n",
              "<table border=\"1\" class=\"dataframe\">\n",
              "  <thead>\n",
              "    <tr style=\"text-align: right;\">\n",
              "      <th></th>\n",
              "      <th>loss</th>\n",
              "    </tr>\n",
              "  </thead>\n",
              "  <tbody>\n",
              "    <tr>\n",
              "      <th>0</th>\n",
              "      <td>255753.281250</td>\n",
              "    </tr>\n",
              "    <tr>\n",
              "      <th>1</th>\n",
              "      <td>255612.187500</td>\n",
              "    </tr>\n",
              "    <tr>\n",
              "      <th>2</th>\n",
              "      <td>255484.281250</td>\n",
              "    </tr>\n",
              "    <tr>\n",
              "      <th>3</th>\n",
              "      <td>255354.906250</td>\n",
              "    </tr>\n",
              "    <tr>\n",
              "      <th>4</th>\n",
              "      <td>255221.421875</td>\n",
              "    </tr>\n",
              "  </tbody>\n",
              "</table>\n",
              "</div>\n",
              "      <button class=\"colab-df-convert\" onclick=\"convertToInteractive('df-02feb60d-2751-4f12-b682-e36d4c739932')\"\n",
              "              title=\"Convert this dataframe to an interactive table.\"\n",
              "              style=\"display:none;\">\n",
              "        \n",
              "  <svg xmlns=\"http://www.w3.org/2000/svg\" height=\"24px\"viewBox=\"0 0 24 24\"\n",
              "       width=\"24px\">\n",
              "    <path d=\"M0 0h24v24H0V0z\" fill=\"none\"/>\n",
              "    <path d=\"M18.56 5.44l.94 2.06.94-2.06 2.06-.94-2.06-.94-.94-2.06-.94 2.06-2.06.94zm-11 1L8.5 8.5l.94-2.06 2.06-.94-2.06-.94L8.5 2.5l-.94 2.06-2.06.94zm10 10l.94 2.06.94-2.06 2.06-.94-2.06-.94-.94-2.06-.94 2.06-2.06.94z\"/><path d=\"M17.41 7.96l-1.37-1.37c-.4-.4-.92-.59-1.43-.59-.52 0-1.04.2-1.43.59L10.3 9.45l-7.72 7.72c-.78.78-.78 2.05 0 2.83L4 21.41c.39.39.9.59 1.41.59.51 0 1.02-.2 1.41-.59l7.78-7.78 2.81-2.81c.8-.78.8-2.07 0-2.86zM5.41 20L4 18.59l7.72-7.72 1.47 1.35L5.41 20z\"/>\n",
              "  </svg>\n",
              "      </button>\n",
              "      \n",
              "  <style>\n",
              "    .colab-df-container {\n",
              "      display:flex;\n",
              "      flex-wrap:wrap;\n",
              "      gap: 12px;\n",
              "    }\n",
              "\n",
              "    .colab-df-convert {\n",
              "      background-color: #E8F0FE;\n",
              "      border: none;\n",
              "      border-radius: 50%;\n",
              "      cursor: pointer;\n",
              "      display: none;\n",
              "      fill: #1967D2;\n",
              "      height: 32px;\n",
              "      padding: 0 0 0 0;\n",
              "      width: 32px;\n",
              "    }\n",
              "\n",
              "    .colab-df-convert:hover {\n",
              "      background-color: #E2EBFA;\n",
              "      box-shadow: 0px 1px 2px rgba(60, 64, 67, 0.3), 0px 1px 3px 1px rgba(60, 64, 67, 0.15);\n",
              "      fill: #174EA6;\n",
              "    }\n",
              "\n",
              "    [theme=dark] .colab-df-convert {\n",
              "      background-color: #3B4455;\n",
              "      fill: #D2E3FC;\n",
              "    }\n",
              "\n",
              "    [theme=dark] .colab-df-convert:hover {\n",
              "      background-color: #434B5C;\n",
              "      box-shadow: 0px 1px 3px 1px rgba(0, 0, 0, 0.15);\n",
              "      filter: drop-shadow(0px 1px 2px rgba(0, 0, 0, 0.3));\n",
              "      fill: #FFFFFF;\n",
              "    }\n",
              "  </style>\n",
              "\n",
              "      <script>\n",
              "        const buttonEl =\n",
              "          document.querySelector('#df-02feb60d-2751-4f12-b682-e36d4c739932 button.colab-df-convert');\n",
              "        buttonEl.style.display =\n",
              "          google.colab.kernel.accessAllowed ? 'block' : 'none';\n",
              "\n",
              "        async function convertToInteractive(key) {\n",
              "          const element = document.querySelector('#df-02feb60d-2751-4f12-b682-e36d4c739932');\n",
              "          const dataTable =\n",
              "            await google.colab.kernel.invokeFunction('convertToInteractive',\n",
              "                                                     [key], {});\n",
              "          if (!dataTable) return;\n",
              "\n",
              "          const docLinkHtml = 'Like what you see? Visit the ' +\n",
              "            '<a target=\"_blank\" href=https://colab.research.google.com/notebooks/data_table.ipynb>data table notebook</a>'\n",
              "            + ' to learn more about interactive tables.';\n",
              "          element.innerHTML = '';\n",
              "          dataTable['output_type'] = 'display_data';\n",
              "          await google.colab.output.renderOutput(dataTable, element);\n",
              "          const docLink = document.createElement('div');\n",
              "          docLink.innerHTML = docLinkHtml;\n",
              "          element.appendChild(docLink);\n",
              "        }\n",
              "      </script>\n",
              "    </div>\n",
              "  </div>\n",
              "  "
            ]
          },
          "metadata": {},
          "execution_count": 16
        }
      ],
      "source": [
        "loss = pd.DataFrame(ann.history.history)\n",
        "loss.head()"
      ]
    },
    {
      "cell_type": "code",
      "execution_count": 17,
      "metadata": {
        "id": "lqIYEIkHkHI4",
        "colab": {
          "base_uri": "https://localhost:8080/",
          "height": 206
        },
        "outputId": "cff3010e-0197-431a-df3c-0f9881459e6d"
      },
      "outputs": [
        {
          "output_type": "execute_result",
          "data": {
            "text/plain": [
              "           loss\n",
              "245  134.327362\n",
              "246  128.573929\n",
              "247  123.246460\n",
              "248  118.002052\n",
              "249  112.777199"
            ],
            "text/html": [
              "\n",
              "  <div id=\"df-fe6aa6d5-527e-4615-b887-defbc6bface5\">\n",
              "    <div class=\"colab-df-container\">\n",
              "      <div>\n",
              "<style scoped>\n",
              "    .dataframe tbody tr th:only-of-type {\n",
              "        vertical-align: middle;\n",
              "    }\n",
              "\n",
              "    .dataframe tbody tr th {\n",
              "        vertical-align: top;\n",
              "    }\n",
              "\n",
              "    .dataframe thead th {\n",
              "        text-align: right;\n",
              "    }\n",
              "</style>\n",
              "<table border=\"1\" class=\"dataframe\">\n",
              "  <thead>\n",
              "    <tr style=\"text-align: right;\">\n",
              "      <th></th>\n",
              "      <th>loss</th>\n",
              "    </tr>\n",
              "  </thead>\n",
              "  <tbody>\n",
              "    <tr>\n",
              "      <th>245</th>\n",
              "      <td>134.327362</td>\n",
              "    </tr>\n",
              "    <tr>\n",
              "      <th>246</th>\n",
              "      <td>128.573929</td>\n",
              "    </tr>\n",
              "    <tr>\n",
              "      <th>247</th>\n",
              "      <td>123.246460</td>\n",
              "    </tr>\n",
              "    <tr>\n",
              "      <th>248</th>\n",
              "      <td>118.002052</td>\n",
              "    </tr>\n",
              "    <tr>\n",
              "      <th>249</th>\n",
              "      <td>112.777199</td>\n",
              "    </tr>\n",
              "  </tbody>\n",
              "</table>\n",
              "</div>\n",
              "      <button class=\"colab-df-convert\" onclick=\"convertToInteractive('df-fe6aa6d5-527e-4615-b887-defbc6bface5')\"\n",
              "              title=\"Convert this dataframe to an interactive table.\"\n",
              "              style=\"display:none;\">\n",
              "        \n",
              "  <svg xmlns=\"http://www.w3.org/2000/svg\" height=\"24px\"viewBox=\"0 0 24 24\"\n",
              "       width=\"24px\">\n",
              "    <path d=\"M0 0h24v24H0V0z\" fill=\"none\"/>\n",
              "    <path d=\"M18.56 5.44l.94 2.06.94-2.06 2.06-.94-2.06-.94-.94-2.06-.94 2.06-2.06.94zm-11 1L8.5 8.5l.94-2.06 2.06-.94-2.06-.94L8.5 2.5l-.94 2.06-2.06.94zm10 10l.94 2.06.94-2.06 2.06-.94-2.06-.94-.94-2.06-.94 2.06-2.06.94z\"/><path d=\"M17.41 7.96l-1.37-1.37c-.4-.4-.92-.59-1.43-.59-.52 0-1.04.2-1.43.59L10.3 9.45l-7.72 7.72c-.78.78-.78 2.05 0 2.83L4 21.41c.39.39.9.59 1.41.59.51 0 1.02-.2 1.41-.59l7.78-7.78 2.81-2.81c.8-.78.8-2.07 0-2.86zM5.41 20L4 18.59l7.72-7.72 1.47 1.35L5.41 20z\"/>\n",
              "  </svg>\n",
              "      </button>\n",
              "      \n",
              "  <style>\n",
              "    .colab-df-container {\n",
              "      display:flex;\n",
              "      flex-wrap:wrap;\n",
              "      gap: 12px;\n",
              "    }\n",
              "\n",
              "    .colab-df-convert {\n",
              "      background-color: #E8F0FE;\n",
              "      border: none;\n",
              "      border-radius: 50%;\n",
              "      cursor: pointer;\n",
              "      display: none;\n",
              "      fill: #1967D2;\n",
              "      height: 32px;\n",
              "      padding: 0 0 0 0;\n",
              "      width: 32px;\n",
              "    }\n",
              "\n",
              "    .colab-df-convert:hover {\n",
              "      background-color: #E2EBFA;\n",
              "      box-shadow: 0px 1px 2px rgba(60, 64, 67, 0.3), 0px 1px 3px 1px rgba(60, 64, 67, 0.15);\n",
              "      fill: #174EA6;\n",
              "    }\n",
              "\n",
              "    [theme=dark] .colab-df-convert {\n",
              "      background-color: #3B4455;\n",
              "      fill: #D2E3FC;\n",
              "    }\n",
              "\n",
              "    [theme=dark] .colab-df-convert:hover {\n",
              "      background-color: #434B5C;\n",
              "      box-shadow: 0px 1px 3px 1px rgba(0, 0, 0, 0.15);\n",
              "      filter: drop-shadow(0px 1px 2px rgba(0, 0, 0, 0.3));\n",
              "      fill: #FFFFFF;\n",
              "    }\n",
              "  </style>\n",
              "\n",
              "      <script>\n",
              "        const buttonEl =\n",
              "          document.querySelector('#df-fe6aa6d5-527e-4615-b887-defbc6bface5 button.colab-df-convert');\n",
              "        buttonEl.style.display =\n",
              "          google.colab.kernel.accessAllowed ? 'block' : 'none';\n",
              "\n",
              "        async function convertToInteractive(key) {\n",
              "          const element = document.querySelector('#df-fe6aa6d5-527e-4615-b887-defbc6bface5');\n",
              "          const dataTable =\n",
              "            await google.colab.kernel.invokeFunction('convertToInteractive',\n",
              "                                                     [key], {});\n",
              "          if (!dataTable) return;\n",
              "\n",
              "          const docLinkHtml = 'Like what you see? Visit the ' +\n",
              "            '<a target=\"_blank\" href=https://colab.research.google.com/notebooks/data_table.ipynb>data table notebook</a>'\n",
              "            + ' to learn more about interactive tables.';\n",
              "          element.innerHTML = '';\n",
              "          dataTable['output_type'] = 'display_data';\n",
              "          await google.colab.output.renderOutput(dataTable, element);\n",
              "          const docLink = document.createElement('div');\n",
              "          docLink.innerHTML = docLinkHtml;\n",
              "          element.appendChild(docLink);\n",
              "        }\n",
              "      </script>\n",
              "    </div>\n",
              "  </div>\n",
              "  "
            ]
          },
          "metadata": {},
          "execution_count": 17
        }
      ],
      "source": [
        "loss.tail()"
      ]
    },
    {
      "cell_type": "code",
      "execution_count": 18,
      "metadata": {
        "id": "FxqWPWQNkJ2O",
        "colab": {
          "base_uri": "https://localhost:8080/",
          "height": 282
        },
        "outputId": "77cae011-e37c-4295-896f-8996d3166dc2"
      },
      "outputs": [
        {
          "output_type": "execute_result",
          "data": {
            "text/plain": [
              "<matplotlib.axes._subplots.AxesSubplot at 0x7fb3f66a4790>"
            ]
          },
          "metadata": {},
          "execution_count": 18
        },
        {
          "output_type": "display_data",
          "data": {
            "text/plain": [
              "<Figure size 432x288 with 1 Axes>"
            ],
            "image/png": "[encoded data removed]"
          },
          "metadata": {
            "needs_background": "light"
          }
        }
      ],
      "source": [
        "loss.plot()"
      ]
    },
    {
      "cell_type": "code",
      "execution_count": 19,
      "metadata": {
        "id": "dDg-JhEbkOn5",
        "colab": {
          "base_uri": "https://localhost:8080/"
        },
        "outputId": "bfca419b-898d-4e69-c23b-e31fb19400ff"
      },
      "outputs": [
        {
          "output_type": "stream",
          "name": "stdout",
          "text": [
            "22/22 [==============================] - 0s 2ms/step - loss: 109.1745\n"
          ]
        },
        {
          "output_type": "execute_result",
          "data": {
            "text/plain": [
              "109.17453002929688"
            ]
          },
          "metadata": {},
          "execution_count": 19
        }
      ],
      "source": [
        "ann.evaluate(xtrain, ytrain)"
      ]
    },
    {
      "cell_type": "code",
      "execution_count": 20,
      "metadata": {
        "id": "OiDWpJiQkcFG",
        "colab": {
          "base_uri": "https://localhost:8080/"
        },
        "outputId": "71bfd923-7826-4f74-8479-3f866e281d3a"
      },
      "outputs": [
        {
          "output_type": "stream",
          "name": "stdout",
          "text": [
            "10/10 [==============================] - 0s 2ms/step - loss: 99.6291\n"
          ]
        },
        {
          "output_type": "execute_result",
          "data": {
            "text/plain": [
              "99.62911224365234"
            ]
          },
          "metadata": {},
          "execution_count": 20
        }
      ],
      "source": [
        "ann.evaluate(xtest, ytest)"
      ]
    },
    {
      "cell_type": "code",
      "execution_count": 21,
      "metadata": {
        "id": "GmW1obvWdfm6",
        "colab": {
          "base_uri": "https://localhost:8080/"
        },
        "outputId": "78c02598-644b-4fb0-df77-fac2c8fac7d3"
      },
      "outputs": [
        {
          "output_type": "execute_result",
          "data": {
            "text/plain": [
              "14.560219778561036"
            ]
          },
          "metadata": {},
          "execution_count": 21
        }
      ],
      "source": [
        "np.sqrt(212)"
      ]
    },
    {
      "cell_type": "code",
      "execution_count": 22,
      "metadata": {
        "id": "8y-MaQivkn1-",
        "colab": {
          "base_uri": "https://localhost:8080/"
        },
        "outputId": "94de1992-b5b4-424a-ec21-30072ca5aaf4"
      },
      "outputs": [
        {
          "output_type": "stream",
          "name": "stdout",
          "text": [
            "10/10 [==============================] - 0s 2ms/step\n"
          ]
        }
      ],
      "source": [
        "ypred = ann.predict(xtest)"
      ]
    },
    {
      "cell_type": "code",
      "execution_count": 23,
      "metadata": {
        "id": "IYp7YfONkxzZ"
      },
      "outputs": [],
      "source": [
        "dic = {\"Actual Y\":ytest, \"Predicted Y\":ypred.flatten()} # since,ypred is 2-D\n",
        "df1 = pd.DataFrame(dic)"
      ]
    },
    {
      "cell_type": "code",
      "execution_count": 24,
      "metadata": {
        "id": "LXd3Kljhk9s6",
        "colab": {
          "base_uri": "https://localhost:8080/",
          "height": 206
        },
        "outputId": "df7117e3-fe01-4bb0-8125-feb317a5c88d"
      },
      "outputs": [
        {
          "output_type": "execute_result",
          "data": {
            "text/plain": [
              "     Actual Y  Predicted Y\n",
              "0  489.057552   480.310425\n",
              "1  526.210746   525.304688\n",
              "2  518.360395   500.445892\n",
              "3  552.778935   539.987488\n",
              "4  649.395916   649.616760"
            ],
            "text/html": [
              "\n",
              "  <div id=\"df-6e847aa8-4070-4559-a595-1930747761f7\">\n",
              "    <div class=\"colab-df-container\">\n",
              "      <div>\n",
              "<style scoped>\n",
              "    .dataframe tbody tr th:only-of-type {\n",
              "        vertical-align: middle;\n",
              "    }\n",
              "\n",
              "    .dataframe tbody tr th {\n",
              "        vertical-align: top;\n",
              "    }\n",
              "\n",
              "    .dataframe thead th {\n",
              "        text-align: right;\n",
              "    }\n",
              "</style>\n",
              "<table border=\"1\" class=\"dataframe\">\n",
              "  <thead>\n",
              "    <tr style=\"text-align: right;\">\n",
              "      <th></th>\n",
              "      <th>Actual Y</th>\n",
              "      <th>Predicted Y</th>\n",
              "    </tr>\n",
              "  </thead>\n",
              "  <tbody>\n",
              "    <tr>\n",
              "      <th>0</th>\n",
              "      <td>489.057552</td>\n",
              "      <td>480.310425</td>\n",
              "    </tr>\n",
              "    <tr>\n",
              "      <th>1</th>\n",
              "      <td>526.210746</td>\n",
              "      <td>525.304688</td>\n",
              "    </tr>\n",
              "    <tr>\n",
              "      <th>2</th>\n",
              "      <td>518.360395</td>\n",
              "      <td>500.445892</td>\n",
              "    </tr>\n",
              "    <tr>\n",
              "      <th>3</th>\n",
              "      <td>552.778935</td>\n",
              "      <td>539.987488</td>\n",
              "    </tr>\n",
              "    <tr>\n",
              "      <th>4</th>\n",
              "      <td>649.395916</td>\n",
              "      <td>649.616760</td>\n",
              "    </tr>\n",
              "  </tbody>\n",
              "</table>\n",
              "</div>\n",
              "      <button class=\"colab-df-convert\" onclick=\"convertToInteractive('df-6e847aa8-4070-4559-a595-1930747761f7')\"\n",
              "              title=\"Convert this dataframe to an interactive table.\"\n",
              "              style=\"display:none;\">\n",
              "        \n",
              "  <svg xmlns=\"http://www.w3.org/2000/svg\" height=\"24px\"viewBox=\"0 0 24 24\"\n",
              "       width=\"24px\">\n",
              "    <path d=\"M0 0h24v24H0V0z\" fill=\"none\"/>\n",
              "    <path d=\"M18.56 5.44l.94 2.06.94-2.06 2.06-.94-2.06-.94-.94-2.06-.94 2.06-2.06.94zm-11 1L8.5 8.5l.94-2.06 2.06-.94-2.06-.94L8.5 2.5l-.94 2.06-2.06.94zm10 10l.94 2.06.94-2.06 2.06-.94-2.06-.94-.94-2.06-.94 2.06-2.06.94z\"/><path d=\"M17.41 7.96l-1.37-1.37c-.4-.4-.92-.59-1.43-.59-.52 0-1.04.2-1.43.59L10.3 9.45l-7.72 7.72c-.78.78-.78 2.05 0 2.83L4 21.41c.39.39.9.59 1.41.59.51 0 1.02-.2 1.41-.59l7.78-7.78 2.81-2.81c.8-.78.8-2.07 0-2.86zM5.41 20L4 18.59l7.72-7.72 1.47 1.35L5.41 20z\"/>\n",
              "  </svg>\n",
              "      </button>\n",
              "      \n",
              "  <style>\n",
              "    .colab-df-container {\n",
              "      display:flex;\n",
              "      flex-wrap:wrap;\n",
              "      gap: 12px;\n",
              "    }\n",
              "\n",
              "    .colab-df-convert {\n",
              "      background-color: #E8F0FE;\n",
              "      border: none;\n",
              "      border-radius: 50%;\n",
              "      cursor: pointer;\n",
              "      display: none;\n",
              "      fill: #1967D2;\n",
              "      height: 32px;\n",
              "      padding: 0 0 0 0;\n",
              "      width: 32px;\n",
              "    }\n",
              "\n",
              "    .colab-df-convert:hover {\n",
              "      background-color: #E2EBFA;\n",
              "      box-shadow: 0px 1px 2px rgba(60, 64, 67, 0.3), 0px 1px 3px 1px rgba(60, 64, 67, 0.15);\n",
              "      fill: #174EA6;\n",
              "    }\n",
              "\n",
              "    [theme=dark] .colab-df-convert {\n",
              "      background-color: #3B4455;\n",
              "      fill: #D2E3FC;\n",
              "    }\n",
              "\n",
              "    [theme=dark] .colab-df-convert:hover {\n",
              "      background-color: #434B5C;\n",
              "      box-shadow: 0px 1px 3px 1px rgba(0, 0, 0, 0.15);\n",
              "      filter: drop-shadow(0px 1px 2px rgba(0, 0, 0, 0.3));\n",
              "      fill: #FFFFFF;\n",
              "    }\n",
              "  </style>\n",
              "\n",
              "      <script>\n",
              "        const buttonEl =\n",
              "          document.querySelector('#df-6e847aa8-4070-4559-a595-1930747761f7 button.colab-df-convert');\n",
              "        buttonEl.style.display =\n",
              "          google.colab.kernel.accessAllowed ? 'block' : 'none';\n",
              "\n",
              "        async function convertToInteractive(key) {\n",
              "          const element = document.querySelector('#df-6e847aa8-4070-4559-a595-1930747761f7');\n",
              "          const dataTable =\n",
              "            await google.colab.kernel.invokeFunction('convertToInteractive',\n",
              "                                                     [key], {});\n",
              "          if (!dataTable) return;\n",
              "\n",
              "          const docLinkHtml = 'Like what you see? Visit the ' +\n",
              "            '<a target=\"_blank\" href=https://colab.research.google.com/notebooks/data_table.ipynb>data table notebook</a>'\n",
              "            + ' to learn more about interactive tables.';\n",
              "          element.innerHTML = '';\n",
              "          dataTable['output_type'] = 'display_data';\n",
              "          await google.colab.output.renderOutput(dataTable, element);\n",
              "          const docLink = document.createElement('div');\n",
              "          docLink.innerHTML = docLinkHtml;\n",
              "          element.appendChild(docLink);\n",
              "        }\n",
              "      </script>\n",
              "    </div>\n",
              "  </div>\n",
              "  "
            ]
          },
          "metadata": {},
          "execution_count": 24
        }
      ],
      "source": [
        "df1.head()"
      ]
    },
    {
      "cell_type": "code",
      "execution_count": 25,
      "metadata": {
        "id": "IdqPAGNpk_lg",
        "colab": {
          "base_uri": "https://localhost:8080/",
          "height": 282
        },
        "outputId": "e3bcc73d-0a45-42f3-de60-7756ec7e0326"
      },
      "outputs": [
        {
          "output_type": "display_data",
          "data": {
            "text/plain": [
              "<Figure size 432x288 with 1 Axes>"
            ],
            "image/png": "[encoded data removed]"
          },
          "metadata": {
            "needs_background": "light"
          }
        }
      ],
      "source": [
        "sns.scatterplot(x=\"Actual Y\", y=\"Predicted Y\", data=df1)\n",
        "plt.show()"
      ]
    },
    {
      "cell_type": "code",
      "execution_count": 26,
      "metadata": {
        "id": "PRO-CeNBlwQV",
        "colab": {
          "base_uri": "https://localhost:8080/"
        },
        "outputId": "36cb7d43-9277-4cbe-e446-0c616f27014e"
      },
      "outputs": [
        {
          "output_type": "stream",
          "name": "stdout",
          "text": [
            "MSE : 99.6291215415903\n",
            "RMSE : 9.9814388512674\n"
          ]
        }
      ],
      "source": [
        "from sklearn.metrics import mean_squared_error\n",
        "print(f\"MSE : {mean_squared_error(ytest, ypred)}\")\n",
        "print(f\"RMSE : {np.sqrt(mean_squared_error(ytest, ypred))}\")"
      ]
    },
    {
      "cell_type": "code",
      "execution_count": 27,
      "metadata": {
        "id": "0w7cfHiyma8w",
        "colab": {
          "base_uri": "https://localhost:8080/"
        },
        "outputId": "a30f0dea-2ea1-4459-8748-0b3287aaa735"
      },
      "outputs": [
        {
          "output_type": "stream",
          "name": "stdout",
          "text": [
            "1/1 [==============================] - 0s 17ms/step\n"
          ]
        },
        {
          "output_type": "execute_result",
          "data": {
            "text/plain": [
              "array([[6593.7227]], dtype=float32)"
            ]
          },
          "metadata": {},
          "execution_count": 27
        }
      ],
      "source": [
        "# predicting new col\n",
        "\n",
        "newdata = [[900, 950]]\n",
        "newdata = sc.transform(newdata)\n",
        "ann.predict(newdata)"
      ]
    },
    {
      "cell_type": "code",
      "execution_count": 28,
      "metadata": {
        "id": "KuWLEM8emywW"
      },
      "outputs": [],
      "source": [
        "ann.save(\"ANN_fake\") # saving the model so that we just need to import it"
      ]
    },
    {
      "cell_type": "code",
      "execution_count": 29,
      "metadata": {
        "id": "z9fbk_EXnKMo"
      },
      "outputs": [],
      "source": [
        "from tensorflow.keras.models import load_model\n",
        "fr = load_model(\"ANN_fake\")"
      ]
    },
    {
      "cell_type": "code",
      "execution_count": 30,
      "metadata": {
        "id": "-j9L41FrnTvL",
        "colab": {
          "base_uri": "https://localhost:8080/"
        },
        "outputId": "3491176b-2069-480e-843c-d9d43beb10d0"
      },
      "outputs": [
        {
          "output_type": "stream",
          "name": "stdout",
          "text": [
            "1/1 [==============================] - 0s 44ms/step\n"
          ]
        },
        {
          "output_type": "execute_result",
          "data": {
            "text/plain": [
              "array([[6593.7227]], dtype=float32)"
            ]
          },
          "metadata": {},
          "execution_count": 30
        }
      ],
      "source": [
        "fr.predict(newdata)"
      ]
    }
  ],
  "metadata": {
    "colab": {
      "provenance": [],
      "include_colab_link": true
    },
    "kernelspec": {
      "display_name": "Python 3",
      "name": "python3"
    },
    "language_info": {
      "name": "python"
    },
    "accelerator": "GPU",
    "gpuClass": "standard"
  },
  "nbformat": 4,
  "nbformat_minor": 0
}