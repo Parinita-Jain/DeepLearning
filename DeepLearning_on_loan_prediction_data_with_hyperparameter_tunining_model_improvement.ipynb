{
  "nbformat": 4,
  "nbformat_minor": 0,
  "metadata": {
    "colab": {
      "provenance": [],
      "authorship_tag": "ABX9TyPnFRoekxgMcGqHX0ECyqL3",
      "include_colab_link": true
    },
    "kernelspec": {
      "name": "python3",
      "display_name": "Python 3"
    },
    "language_info": {
      "name": "python"
    }
  },
  "cells": [
    {
      "cell_type": "markdown",
      "metadata": {
        "id": "view-in-github",
        "colab_type": "text"
      },
      "source": [
        "<a href=\"https://colab.research.google.com/github/Parinita-Jain/DeepLearning/blob/main/DeepLearning_on_loan_prediction_data_with_hyperparameter_tunining_model_improvement.ipynb\" target=\"_parent\"><img src=\"https://colab.research.google.com/assets/colab-badge.svg\" alt=\"Open In Colab\"/></a>"
      ]
    },
    {
      "cell_type": "code",
      "execution_count": 3,
      "metadata": {
        "id": "9WJ9E1IdzQ2S"
      },
      "outputs": [],
      "source": [
        "import pandas as pd\n",
        "import numpy as np\n",
        "import sklearn\n",
        "from sklearn.model_selection import train_test_split\n",
        "from sklearn.metrics import accuracy_score\n",
        "import matplotlib.pyplot as plt\n",
        "%matplotlib inline\n"
      ]
    },
    {
      "cell_type": "code",
      "source": [
        "data=pd.read_csv(\"loan_prediction_data.csv\")\n",
        "data.head()"
      ],
      "metadata": {
        "id": "mIOI8oJp0mod",
        "colab": {
          "base_uri": "https://localhost:8080/",
          "height": 270
        },
        "outputId": "dbb10433-c73d-4994-fd80-ff6df8d12fb6"
      },
      "execution_count": 4,
      "outputs": [
        {
          "output_type": "execute_result",
          "data": {
            "text/plain": [
              "    Loan_ID  Gender  Married  Dependents  Education  Self_Employed  \\\n",
              "0  LP001002       0        0    0.000000          1              0   \n",
              "1  LP001003       0        1    0.333333          1              0   \n",
              "2  LP001005       0        1    0.000000          1              1   \n",
              "3  LP001006       0        1    0.000000          0              0   \n",
              "4  LP001008       0        0    0.000000          1              0   \n",
              "\n",
              "   ApplicantIncome  CoapplicantIncome  LoanAmount  Loan_Amount_Term  \\\n",
              "0         0.070489           0.000000    0.198860           0.74359   \n",
              "1         0.054830           0.036192    0.172214           0.74359   \n",
              "2         0.035250           0.000000    0.082489           0.74359   \n",
              "3         0.030093           0.056592    0.160637           0.74359   \n",
              "4         0.072356           0.000000    0.191027           0.74359   \n",
              "\n",
              "   Credit_History  Property_Area  Loan_Status  \n",
              "0               1            1.0            1  \n",
              "1               1            0.0            0  \n",
              "2               1            1.0            1  \n",
              "3               1            1.0            1  \n",
              "4               1            1.0            1  "
            ],
            "text/html": [
              "\n",
              "  <div id=\"df-436914bb-9f37-4a66-8637-8f16da263026\">\n",
              "    <div class=\"colab-df-container\">\n",
              "      <div>\n",
              "<style scoped>\n",
              "    .dataframe tbody tr th:only-of-type {\n",
              "        vertical-align: middle;\n",
              "    }\n",
              "\n",
              "    .dataframe tbody tr th {\n",
              "        vertical-align: top;\n",
              "    }\n",
              "\n",
              "    .dataframe thead th {\n",
              "        text-align: right;\n",
              "    }\n",
              "</style>\n",
              "<table border=\"1\" class=\"dataframe\">\n",
              "  <thead>\n",
              "    <tr style=\"text-align: right;\">\n",
              "      <th></th>\n",
              "      <th>Loan_ID</th>\n",
              "      <th>Gender</th>\n",
              "      <th>Married</th>\n",
              "      <th>Dependents</th>\n",
              "      <th>Education</th>\n",
              "      <th>Self_Employed</th>\n",
              "      <th>ApplicantIncome</th>\n",
              "      <th>CoapplicantIncome</th>\n",
              "      <th>LoanAmount</th>\n",
              "      <th>Loan_Amount_Term</th>\n",
              "      <th>Credit_History</th>\n",
              "      <th>Property_Area</th>\n",
              "      <th>Loan_Status</th>\n",
              "    </tr>\n",
              "  </thead>\n",
              "  <tbody>\n",
              "    <tr>\n",
              "      <th>0</th>\n",
              "      <td>LP001002</td>\n",
              "      <td>0</td>\n",
              "      <td>0</td>\n",
              "      <td>0.000000</td>\n",
              "      <td>1</td>\n",
              "      <td>0</td>\n",
              "      <td>0.070489</td>\n",
              "      <td>0.000000</td>\n",
              "      <td>0.198860</td>\n",
              "      <td>0.74359</td>\n",
              "      <td>1</td>\n",
              "      <td>1.0</td>\n",
              "      <td>1</td>\n",
              "    </tr>\n",
              "    <tr>\n",
              "      <th>1</th>\n",
              "      <td>LP001003</td>\n",
              "      <td>0</td>\n",
              "      <td>1</td>\n",
              "      <td>0.333333</td>\n",
              "      <td>1</td>\n",
              "      <td>0</td>\n",
              "      <td>0.054830</td>\n",
              "      <td>0.036192</td>\n",
              "      <td>0.172214</td>\n",
              "      <td>0.74359</td>\n",
              "      <td>1</td>\n",
              "      <td>0.0</td>\n",
              "      <td>0</td>\n",
              "    </tr>\n",
              "    <tr>\n",
              "      <th>2</th>\n",
              "      <td>LP001005</td>\n",
              "      <td>0</td>\n",
              "      <td>1</td>\n",
              "      <td>0.000000</td>\n",
              "      <td>1</td>\n",
              "      <td>1</td>\n",
              "      <td>0.035250</td>\n",
              "      <td>0.000000</td>\n",
              "      <td>0.082489</td>\n",
              "      <td>0.74359</td>\n",
              "      <td>1</td>\n",
              "      <td>1.0</td>\n",
              "      <td>1</td>\n",
              "    </tr>\n",
              "    <tr>\n",
              "      <th>3</th>\n",
              "      <td>LP001006</td>\n",
              "      <td>0</td>\n",
              "      <td>1</td>\n",
              "      <td>0.000000</td>\n",
              "      <td>0</td>\n",
              "      <td>0</td>\n",
              "      <td>0.030093</td>\n",
              "      <td>0.056592</td>\n",
              "      <td>0.160637</td>\n",
              "      <td>0.74359</td>\n",
              "      <td>1</td>\n",
              "      <td>1.0</td>\n",
              "      <td>1</td>\n",
              "    </tr>\n",
              "    <tr>\n",
              "      <th>4</th>\n",
              "      <td>LP001008</td>\n",
              "      <td>0</td>\n",
              "      <td>0</td>\n",
              "      <td>0.000000</td>\n",
              "      <td>1</td>\n",
              "      <td>0</td>\n",
              "      <td>0.072356</td>\n",
              "      <td>0.000000</td>\n",
              "      <td>0.191027</td>\n",
              "      <td>0.74359</td>\n",
              "      <td>1</td>\n",
              "      <td>1.0</td>\n",
              "      <td>1</td>\n",
              "    </tr>\n",
              "  </tbody>\n",
              "</table>\n",
              "</div>\n",
              "      <button class=\"colab-df-convert\" onclick=\"convertToInteractive('df-436914bb-9f37-4a66-8637-8f16da263026')\"\n",
              "              title=\"Convert this dataframe to an interactive table.\"\n",
              "              style=\"display:none;\">\n",
              "        \n",
              "  <svg xmlns=\"http://www.w3.org/2000/svg\" height=\"24px\"viewBox=\"0 0 24 24\"\n",
              "       width=\"24px\">\n",
              "    <path d=\"M0 0h24v24H0V0z\" fill=\"none\"/>\n",
              "    <path d=\"M18.56 5.44l.94 2.06.94-2.06 2.06-.94-2.06-.94-.94-2.06-.94 2.06-2.06.94zm-11 1L8.5 8.5l.94-2.06 2.06-.94-2.06-.94L8.5 2.5l-.94 2.06-2.06.94zm10 10l.94 2.06.94-2.06 2.06-.94-2.06-.94-.94-2.06-.94 2.06-2.06.94z\"/><path d=\"M17.41 7.96l-1.37-1.37c-.4-.4-.92-.59-1.43-.59-.52 0-1.04.2-1.43.59L10.3 9.45l-7.72 7.72c-.78.78-.78 2.05 0 2.83L4 21.41c.39.39.9.59 1.41.59.51 0 1.02-.2 1.41-.59l7.78-7.78 2.81-2.81c.8-.78.8-2.07 0-2.86zM5.41 20L4 18.59l7.72-7.72 1.47 1.35L5.41 20z\"/>\n",
              "  </svg>\n",
              "      </button>\n",
              "      \n",
              "  <style>\n",
              "    .colab-df-container {\n",
              "      display:flex;\n",
              "      flex-wrap:wrap;\n",
              "      gap: 12px;\n",
              "    }\n",
              "\n",
              "    .colab-df-convert {\n",
              "      background-color: #E8F0FE;\n",
              "      border: none;\n",
              "      border-radius: 50%;\n",
              "      cursor: pointer;\n",
              "      display: none;\n",
              "      fill: #1967D2;\n",
              "      height: 32px;\n",
              "      padding: 0 0 0 0;\n",
              "      width: 32px;\n",
              "    }\n",
              "\n",
              "    .colab-df-convert:hover {\n",
              "      background-color: #E2EBFA;\n",
              "      box-shadow: 0px 1px 2px rgba(60, 64, 67, 0.3), 0px 1px 3px 1px rgba(60, 64, 67, 0.15);\n",
              "      fill: #174EA6;\n",
              "    }\n",
              "\n",
              "    [theme=dark] .colab-df-convert {\n",
              "      background-color: #3B4455;\n",
              "      fill: #D2E3FC;\n",
              "    }\n",
              "\n",
              "    [theme=dark] .colab-df-convert:hover {\n",
              "      background-color: #434B5C;\n",
              "      box-shadow: 0px 1px 3px 1px rgba(0, 0, 0, 0.15);\n",
              "      filter: drop-shadow(0px 1px 2px rgba(0, 0, 0, 0.3));\n",
              "      fill: #FFFFFF;\n",
              "    }\n",
              "  </style>\n",
              "\n",
              "      <script>\n",
              "        const buttonEl =\n",
              "          document.querySelector('#df-436914bb-9f37-4a66-8637-8f16da263026 button.colab-df-convert');\n",
              "        buttonEl.style.display =\n",
              "          google.colab.kernel.accessAllowed ? 'block' : 'none';\n",
              "\n",
              "        async function convertToInteractive(key) {\n",
              "          const element = document.querySelector('#df-436914bb-9f37-4a66-8637-8f16da263026');\n",
              "          const dataTable =\n",
              "            await google.colab.kernel.invokeFunction('convertToInteractive',\n",
              "                                                     [key], {});\n",
              "          if (!dataTable) return;\n",
              "\n",
              "          const docLinkHtml = 'Like what you see? Visit the ' +\n",
              "            '<a target=\"_blank\" href=https://colab.research.google.com/notebooks/data_table.ipynb>data table notebook</a>'\n",
              "            + ' to learn more about interactive tables.';\n",
              "          element.innerHTML = '';\n",
              "          dataTable['output_type'] = 'display_data';\n",
              "          await google.colab.output.renderOutput(dataTable, element);\n",
              "          const docLink = document.createElement('div');\n",
              "          docLink.innerHTML = docLinkHtml;\n",
              "          element.appendChild(docLink);\n",
              "        }\n",
              "      </script>\n",
              "    </div>\n",
              "  </div>\n",
              "  "
            ]
          },
          "metadata": {},
          "execution_count": 4
        }
      ]
    },
    {
      "cell_type": "code",
      "source": [
        "data.isnull().sum()"
      ],
      "metadata": {
        "id": "QRskmaGX0mqV",
        "colab": {
          "base_uri": "https://localhost:8080/"
        },
        "outputId": "cdc3947f-3eef-4030-ec85-5812710c673e"
      },
      "execution_count": 5,
      "outputs": [
        {
          "output_type": "execute_result",
          "data": {
            "text/plain": [
              "Loan_ID              0\n",
              "Gender               0\n",
              "Married              0\n",
              "Dependents           0\n",
              "Education            0\n",
              "Self_Employed        0\n",
              "ApplicantIncome      0\n",
              "CoapplicantIncome    0\n",
              "LoanAmount           0\n",
              "Loan_Amount_Term     0\n",
              "Credit_History       0\n",
              "Property_Area        0\n",
              "Loan_Status          0\n",
              "dtype: int64"
            ]
          },
          "metadata": {},
          "execution_count": 5
        }
      ]
    },
    {
      "cell_type": "code",
      "source": [
        "data.dtypes"
      ],
      "metadata": {
        "id": "scH8YWfZ0msV",
        "colab": {
          "base_uri": "https://localhost:8080/"
        },
        "outputId": "1b173dbe-cc11-4513-983c-45c2c3253752"
      },
      "execution_count": 6,
      "outputs": [
        {
          "output_type": "execute_result",
          "data": {
            "text/plain": [
              "Loan_ID               object\n",
              "Gender                 int64\n",
              "Married                int64\n",
              "Dependents           float64\n",
              "Education              int64\n",
              "Self_Employed          int64\n",
              "ApplicantIncome      float64\n",
              "CoapplicantIncome    float64\n",
              "LoanAmount           float64\n",
              "Loan_Amount_Term     float64\n",
              "Credit_History         int64\n",
              "Property_Area        float64\n",
              "Loan_Status            int64\n",
              "dtype: object"
            ]
          },
          "metadata": {},
          "execution_count": 6
        }
      ]
    },
    {
      "cell_type": "code",
      "source": [
        "data.drop(\"Loan_ID\",axis=1,inplace=True)"
      ],
      "metadata": {
        "id": "qngHSNyj0muG"
      },
      "execution_count": 7,
      "outputs": []
    },
    {
      "cell_type": "code",
      "source": [
        "X=data.drop(\"Loan_Status\",axis=1)\n",
        "y=data[\"Loan_Status\"]"
      ],
      "metadata": {
        "id": "7FWiheoq0mxc"
      },
      "execution_count": 8,
      "outputs": []
    },
    {
      "cell_type": "code",
      "source": [
        "from sklearn.model_selection import train_test_split\n",
        "xtrain,xtest,ytrain,ytest=train_test_split(X,y,random_state=10,test_size=0.2,stratify=y)"
      ],
      "metadata": {
        "id": "B9upEw9T0m1f"
      },
      "execution_count": 9,
      "outputs": []
    },
    {
      "cell_type": "code",
      "source": [
        "import keras \n",
        "from keras import Input,Model\n",
        "from keras.layers import InputLayer,Dense\n",
        "from keras.models import Sequential\n",
        "import tensorflow as tf"
      ],
      "metadata": {
        "id": "uu1Dd1X-0m40"
      },
      "execution_count": 34,
      "outputs": []
    },
    {
      "cell_type": "code",
      "source": [
        "input_neurons=xtrain.shape[1]\n",
        "output_neurons=1\n",
        "no_of_hidden_layers=2\n",
        "neuron_hidden_layer_1=10\n",
        "neuron_hidden_layer_2=5"
      ],
      "metadata": {
        "id": "-65QRbfU0m7j"
      },
      "execution_count": 11,
      "outputs": []
    },
    {
      "cell_type": "code",
      "source": [
        "model=tf.keras.Sequential([Input(shape=(input_neurons,)),\n",
        "                           Dense(units=neuron_hidden_layer_1,activation=\"relu\"),\n",
        "                           Dense(units=neuron_hidden_layer_2,activation=\"relu\"),\n",
        "                           Dense(units=output_neurons,activation=\"sigmoid\")])\n",
        "\n",
        "'''\n",
        "X=tf.keras.Sequential([Input(shape=(input_neurons,)),\n",
        "hidden1=Dense(units=neuron_hidden_layer_1,activation=\"relu\")(X),\n",
        "hidden2=Dense(units=neuron_hidden_layer_2,activation=\"relu\")(hidden1),\n",
        "output=Dense(units=output_neurons,activation=\"sigmoid\")(hidden2)])\n",
        "#model_functional=Model(X,output)\n",
        "'''"
      ],
      "metadata": {
        "colab": {
          "base_uri": "https://localhost:8080/",
          "height": 53
        },
        "id": "P-1CaXVi3a_0",
        "outputId": "f4c41f5e-5f62-4166-9559-0ab11579e534"
      },
      "execution_count": 38,
      "outputs": [
        {
          "output_type": "execute_result",
          "data": {
            "text/plain": [
              "'\\nX=tf.keras.Sequential([Input(shape=(input_neurons,)),\\nhidden1=Dense(units=neuron_hidden_layer_1,activation=\"relu\")(X),\\nhidden2=Dense(units=neuron_hidden_layer_2,activation=\"relu\")(hidden1),\\noutput=Dense(units=output_neurons,activation=\"sigmoid\")(hidden2)])\\n#model_functional=Model(X,output)\\n'"
            ],
            "application/vnd.google.colaboratory.intrinsic+json": {
              "type": "string"
            }
          },
          "metadata": {},
          "execution_count": 38
        }
      ]
    },
    {
      "cell_type": "code",
      "source": [
        "model.compile(loss=\"binary_crossentropy\",optimizer=\"Adam\",metrics=[\"accuracy\"])"
      ],
      "metadata": {
        "id": "ms5tQb1P3bBm"
      },
      "execution_count": 39,
      "outputs": []
    },
    {
      "cell_type": "code",
      "source": [
        "model_history=model.fit(xtrain,ytrain,validation_data=(xtest,ytest),epochs=20)"
      ],
      "metadata": {
        "colab": {
          "base_uri": "https://localhost:8080/"
        },
        "id": "KXsWxy9t3bD7",
        "outputId": "bbacf1d5-9100-462e-bd5b-7f2e8911360d"
      },
      "execution_count": 40,
      "outputs": [
        {
          "output_type": "stream",
          "name": "stdout",
          "text": [
            "Epoch 1/20\n",
            "16/16 [==============================] - 1s 21ms/step - loss: 0.5902 - accuracy: 0.6864 - val_loss: 0.5862 - val_accuracy: 0.6911\n",
            "Epoch 2/20\n",
            "16/16 [==============================] - 0s 7ms/step - loss: 0.5838 - accuracy: 0.6864 - val_loss: 0.5812 - val_accuracy: 0.6911\n",
            "Epoch 3/20\n",
            "16/16 [==============================] - 0s 11ms/step - loss: 0.5809 - accuracy: 0.6864 - val_loss: 0.5769 - val_accuracy: 0.6911\n",
            "Epoch 4/20\n",
            "16/16 [==============================] - 0s 5ms/step - loss: 0.5764 - accuracy: 0.6864 - val_loss: 0.5739 - val_accuracy: 0.6911\n",
            "Epoch 5/20\n",
            "16/16 [==============================] - 0s 4ms/step - loss: 0.5732 - accuracy: 0.6864 - val_loss: 0.5701 - val_accuracy: 0.6911\n",
            "Epoch 6/20\n",
            "16/16 [==============================] - 0s 5ms/step - loss: 0.5699 - accuracy: 0.6864 - val_loss: 0.5670 - val_accuracy: 0.6911\n",
            "Epoch 7/20\n",
            "16/16 [==============================] - 0s 5ms/step - loss: 0.5658 - accuracy: 0.6864 - val_loss: 0.5633 - val_accuracy: 0.6992\n",
            "Epoch 8/20\n",
            "16/16 [==============================] - 0s 4ms/step - loss: 0.5618 - accuracy: 0.6904 - val_loss: 0.5602 - val_accuracy: 0.6992\n",
            "Epoch 9/20\n",
            "16/16 [==============================] - 0s 4ms/step - loss: 0.5573 - accuracy: 0.7026 - val_loss: 0.5566 - val_accuracy: 0.7073\n",
            "Epoch 10/20\n",
            "16/16 [==============================] - 0s 5ms/step - loss: 0.5529 - accuracy: 0.7108 - val_loss: 0.5522 - val_accuracy: 0.7236\n",
            "Epoch 11/20\n",
            "16/16 [==============================] - 0s 6ms/step - loss: 0.5481 - accuracy: 0.7352 - val_loss: 0.5484 - val_accuracy: 0.7236\n",
            "Epoch 12/20\n",
            "16/16 [==============================] - 0s 6ms/step - loss: 0.5448 - accuracy: 0.7536 - val_loss: 0.5442 - val_accuracy: 0.7236\n",
            "Epoch 13/20\n",
            "16/16 [==============================] - 0s 6ms/step - loss: 0.5384 - accuracy: 0.7556 - val_loss: 0.5415 - val_accuracy: 0.7480\n",
            "Epoch 14/20\n",
            "16/16 [==============================] - 0s 7ms/step - loss: 0.5346 - accuracy: 0.7699 - val_loss: 0.5389 - val_accuracy: 0.7642\n",
            "Epoch 15/20\n",
            "16/16 [==============================] - 0s 5ms/step - loss: 0.5318 - accuracy: 0.7862 - val_loss: 0.5356 - val_accuracy: 0.7642\n",
            "Epoch 16/20\n",
            "16/16 [==============================] - 0s 4ms/step - loss: 0.5283 - accuracy: 0.7902 - val_loss: 0.5320 - val_accuracy: 0.7724\n",
            "Epoch 17/20\n",
            "16/16 [==============================] - 0s 6ms/step - loss: 0.5248 - accuracy: 0.7984 - val_loss: 0.5290 - val_accuracy: 0.7805\n",
            "Epoch 18/20\n",
            "16/16 [==============================] - 0s 6ms/step - loss: 0.5215 - accuracy: 0.7984 - val_loss: 0.5259 - val_accuracy: 0.7967\n",
            "Epoch 19/20\n",
            "16/16 [==============================] - 0s 4ms/step - loss: 0.5190 - accuracy: 0.8045 - val_loss: 0.5226 - val_accuracy: 0.8130\n",
            "Epoch 20/20\n",
            "16/16 [==============================] - 0s 4ms/step - loss: 0.5153 - accuracy: 0.8086 - val_loss: 0.5190 - val_accuracy: 0.8130\n"
          ]
        }
      ]
    },
    {
      "cell_type": "code",
      "source": [
        "prediction=model.predict(xtest)\n",
        "prediction"
      ],
      "metadata": {
        "colab": {
          "base_uri": "https://localhost:8080/"
        },
        "id": "18EvzZUO3bFm",
        "outputId": "c4daa675-5003-4461-c696-4dc62c483315"
      },
      "execution_count": 41,
      "outputs": [
        {
          "output_type": "stream",
          "name": "stdout",
          "text": [
            "4/4 [==============================] - 0s 5ms/step\n"
          ]
        },
        {
          "output_type": "execute_result",
          "data": {
            "text/plain": [
              "array([[0.7121909 ],\n",
              "       [0.6568916 ],\n",
              "       [0.71209985],\n",
              "       [0.7528896 ],\n",
              "       [0.82743686],\n",
              "       [0.6331347 ],\n",
              "       [0.8159458 ],\n",
              "       [0.7512207 ],\n",
              "       [0.8139339 ],\n",
              "       [0.6425241 ],\n",
              "       [0.78101516],\n",
              "       [0.622961  ],\n",
              "       [0.74307287],\n",
              "       [0.8169115 ],\n",
              "       [0.6584804 ],\n",
              "       [0.7649915 ],\n",
              "       [0.7614754 ],\n",
              "       [0.7358593 ],\n",
              "       [0.7760944 ],\n",
              "       [0.7518686 ],\n",
              "       [0.6368715 ],\n",
              "       [0.83540905],\n",
              "       [0.7202111 ],\n",
              "       [0.74688774],\n",
              "       [0.7410644 ],\n",
              "       [0.7902615 ],\n",
              "       [0.774584  ],\n",
              "       [0.6414551 ],\n",
              "       [0.7988944 ],\n",
              "       [0.77642107],\n",
              "       [0.81519836],\n",
              "       [0.8353222 ],\n",
              "       [0.83450186],\n",
              "       [0.3494205 ],\n",
              "       [0.37641743],\n",
              "       [0.4668356 ],\n",
              "       [0.736204  ],\n",
              "       [0.82677096],\n",
              "       [0.7557719 ],\n",
              "       [0.8205465 ],\n",
              "       [0.8248574 ],\n",
              "       [0.64052856],\n",
              "       [0.77923566],\n",
              "       [0.8119832 ],\n",
              "       [0.43536672],\n",
              "       [0.836359  ],\n",
              "       [0.79568267],\n",
              "       [0.7289487 ],\n",
              "       [0.7242382 ],\n",
              "       [0.46979004],\n",
              "       [0.78019977],\n",
              "       [0.7109987 ],\n",
              "       [0.7781851 ],\n",
              "       [0.7635403 ],\n",
              "       [0.8268431 ],\n",
              "       [0.37788928],\n",
              "       [0.81643623],\n",
              "       [0.7297064 ],\n",
              "       [0.38840207],\n",
              "       [0.7149351 ],\n",
              "       [0.7346842 ],\n",
              "       [0.68149877],\n",
              "       [0.7840209 ],\n",
              "       [0.72922575],\n",
              "       [0.71252465],\n",
              "       [0.82518756],\n",
              "       [0.7632785 ],\n",
              "       [0.47642344],\n",
              "       [0.8255952 ],\n",
              "       [0.77311   ],\n",
              "       [0.3944396 ],\n",
              "       [0.72795635],\n",
              "       [0.68633157],\n",
              "       [0.75207025],\n",
              "       [0.7001381 ],\n",
              "       [0.82066923],\n",
              "       [0.7455327 ],\n",
              "       [0.6671975 ],\n",
              "       [0.62315583],\n",
              "       [0.38569093],\n",
              "       [0.825779  ],\n",
              "       [0.7041878 ],\n",
              "       [0.8263237 ],\n",
              "       [0.647174  ],\n",
              "       [0.6146872 ],\n",
              "       [0.46961835],\n",
              "       [0.7204739 ],\n",
              "       [0.81778854],\n",
              "       [0.8142561 ],\n",
              "       [0.8261225 ],\n",
              "       [0.77272344],\n",
              "       [0.81620514],\n",
              "       [0.79211473],\n",
              "       [0.42381743],\n",
              "       [0.77404964],\n",
              "       [0.81400704],\n",
              "       [0.80845565],\n",
              "       [0.39092076],\n",
              "       [0.75594527],\n",
              "       [0.7786558 ],\n",
              "       [0.79697496],\n",
              "       [0.70421684],\n",
              "       [0.7127462 ],\n",
              "       [0.82343316],\n",
              "       [0.7195758 ],\n",
              "       [0.6013726 ],\n",
              "       [0.8165373 ],\n",
              "       [0.77286905],\n",
              "       [0.817483  ],\n",
              "       [0.7123436 ],\n",
              "       [0.46384293],\n",
              "       [0.7378674 ],\n",
              "       [0.7557074 ],\n",
              "       [0.31205106],\n",
              "       [0.39420986],\n",
              "       [0.710992  ],\n",
              "       [0.7797666 ],\n",
              "       [0.83540004],\n",
              "       [0.7591388 ],\n",
              "       [0.7786986 ],\n",
              "       [0.81485635],\n",
              "       [0.38463143],\n",
              "       [0.8169015 ]], dtype=float32)"
            ]
          },
          "metadata": {},
          "execution_count": 41
        }
      ]
    },
    {
      "cell_type": "code",
      "source": [
        "prediction=prediction.reshape(123,)"
      ],
      "metadata": {
        "id": "JXiiqYoV3bH2"
      },
      "execution_count": 42,
      "outputs": []
    },
    {
      "cell_type": "code",
      "source": [
        "prediction_int=prediction>=0.5"
      ],
      "metadata": {
        "id": "ATHX6Om93bJd"
      },
      "execution_count": 43,
      "outputs": []
    },
    {
      "cell_type": "code",
      "source": [
        "prediction_int=prediction_int.astype(np.int)"
      ],
      "metadata": {
        "colab": {
          "base_uri": "https://localhost:8080/"
        },
        "id": "SESOaVk03bMc",
        "outputId": "57868f07-48c9-4255-84eb-29e45c0d28ea"
      },
      "execution_count": 44,
      "outputs": [
        {
          "output_type": "stream",
          "name": "stderr",
          "text": [
            "<ipython-input-44-e98897c67493>:1: DeprecationWarning: `np.int` is a deprecated alias for the builtin `int`. To silence this warning, use `int` by itself. Doing this will not modify any behavior and is safe. When replacing `np.int`, you may wish to use e.g. `np.int64` or `np.int32` to specify the precision. If you wish to review your current use, check the release note link for additional information.\n",
            "Deprecated in NumPy 1.20; for more details and guidance: https://numpy.org/devdocs/release/1.20.0-notes.html#deprecations\n",
            "  prediction_int=prediction_int.astype(np.int)\n"
          ]
        }
      ]
    },
    {
      "cell_type": "code",
      "source": [
        "accuracy_score(ytest,prediction_int)\n",
        "plt.plot(model_history.history[\"loss\"])\n",
        "plt.plot(model_history.history[\"val_loss\"])\n",
        "plt.title(\"model_loss\")\n",
        "plt.ylabel(\"loss\")\n",
        "plt.xlabel(\"epoch\")\n",
        "plt.legend([\"train\",\"validation\"],loc=\"upper left\")\n",
        "plt.show()\n",
        "plt.plot(model_history.history[\"accuracy\"])\n",
        "plt.plot(model_history.history[\"val_accuracy\"])\n",
        "plt.title(\"model_accuracy\")\n",
        "plt.ylabel(\"loss\")\n",
        "plt.xlabel(\"epoch\")\n",
        "plt.legend([\"train\",\"validation\"],loc=\"upper left\")\n",
        "plt.show()"
      ],
      "metadata": {
        "colab": {
          "base_uri": "https://localhost:8080/",
          "height": 573
        },
        "id": "xhrILhao3bOl",
        "outputId": "fa24f1ee-f52c-46ae-bf70-55de18d34c58"
      },
      "execution_count": 45,
      "outputs": [
        {
          "output_type": "display_data",
          "data": {
            "text/plain": [
              "<Figure size 432x288 with 1 Axes>"
            ],
            "image/png": "[encoded data removed]"
          },
          "metadata": {
            "needs_background": "light"
          }
        },
        {
          "output_type": "display_data",
          "data": {
            "text/plain": [
              "<Figure size 432x288 with 1 Axes>"
            ],
            "image/png": "[encoded data removed]"
          },
          "metadata": {
            "needs_background": "light"
          }
        }
      ]
    },
    {
      "cell_type": "code",
      "source": [
        "model=Sequential()\n",
        "model.add(InputLayer(input_shape=(input_neurons,)))\n",
        "model.add(Dense(units=neuron_hidden_layer_1,activation=\"relu\"))\n",
        "model.add(Dense(units=neuron_hidden_layer_2,activation=\"relu\"))\n",
        "model.add(Dense(units=output_neurons,activation=\"sigmoid\"))\n",
        "model.summary()\n",
        "model.compile(loss=\"binary_crossentropy\",optimizer=\"Adam\",metrics=[\"accuracy\"])"
      ],
      "metadata": {
        "colab": {
          "base_uri": "https://localhost:8080/"
        },
        "id": "cGqNosoF3bSp",
        "outputId": "a7bf96cc-9bbf-4cdc-87b6-0a7ba79b7f4c"
      },
      "execution_count": 46,
      "outputs": [
        {
          "output_type": "stream",
          "name": "stdout",
          "text": [
            "Model: \"sequential_1\"\n",
            "_________________________________________________________________\n",
            " Layer (type)                Output Shape              Param #   \n",
            "=================================================================\n",
            " dense_14 (Dense)            (None, 10)                120       \n",
            "                                                                 \n",
            " dense_15 (Dense)            (None, 5)                 55        \n",
            "                                                                 \n",
            " dense_16 (Dense)            (None, 1)                 6         \n",
            "                                                                 \n",
            "=================================================================\n",
            "Total params: 181\n",
            "Trainable params: 181\n",
            "Non-trainable params: 0\n",
            "_________________________________________________________________\n"
          ]
        }
      ]
    },
    {
      "cell_type": "code",
      "source": [
        "model_history=model.fit(xtrain,ytrain,validation_data=(xtest,ytest),epochs=20)"
      ],
      "metadata": {
        "colab": {
          "base_uri": "https://localhost:8080/"
        },
        "id": "Ko4wm8Y63bU9",
        "outputId": "3102e0e0-2f71-4b64-9262-1f848bea3dc4"
      },
      "execution_count": 47,
      "outputs": [
        {
          "output_type": "stream",
          "name": "stdout",
          "text": [
            "Epoch 1/20\n",
            "16/16 [==============================] - 1s 16ms/step - loss: 0.6751 - accuracy: 0.5988 - val_loss: 0.6584 - val_accuracy: 0.7154\n",
            "Epoch 2/20\n",
            "16/16 [==============================] - 0s 4ms/step - loss: 0.6488 - accuracy: 0.7006 - val_loss: 0.6367 - val_accuracy: 0.7154\n",
            "Epoch 3/20\n",
            "16/16 [==============================] - 0s 5ms/step - loss: 0.6281 - accuracy: 0.7312 - val_loss: 0.6194 - val_accuracy: 0.7236\n",
            "Epoch 4/20\n",
            "16/16 [==============================] - 0s 5ms/step - loss: 0.6115 - accuracy: 0.7291 - val_loss: 0.6044 - val_accuracy: 0.7236\n",
            "Epoch 5/20\n",
            "16/16 [==============================] - 0s 5ms/step - loss: 0.5979 - accuracy: 0.7312 - val_loss: 0.5931 - val_accuracy: 0.7317\n",
            "Epoch 6/20\n",
            "16/16 [==============================] - 0s 5ms/step - loss: 0.5875 - accuracy: 0.7352 - val_loss: 0.5825 - val_accuracy: 0.7317\n",
            "Epoch 7/20\n",
            "16/16 [==============================] - 0s 6ms/step - loss: 0.5775 - accuracy: 0.7434 - val_loss: 0.5746 - val_accuracy: 0.7398\n",
            "Epoch 8/20\n",
            "16/16 [==============================] - 0s 5ms/step - loss: 0.5700 - accuracy: 0.7454 - val_loss: 0.5665 - val_accuracy: 0.7480\n",
            "Epoch 9/20\n",
            "16/16 [==============================] - 0s 4ms/step - loss: 0.5625 - accuracy: 0.7515 - val_loss: 0.5607 - val_accuracy: 0.7480\n",
            "Epoch 10/20\n",
            "16/16 [==============================] - 0s 6ms/step - loss: 0.5559 - accuracy: 0.7536 - val_loss: 0.5549 - val_accuracy: 0.7480\n",
            "Epoch 11/20\n",
            "16/16 [==============================] - 0s 5ms/step - loss: 0.5496 - accuracy: 0.7597 - val_loss: 0.5501 - val_accuracy: 0.7724\n",
            "Epoch 12/20\n",
            "16/16 [==============================] - 0s 5ms/step - loss: 0.5436 - accuracy: 0.7678 - val_loss: 0.5442 - val_accuracy: 0.7724\n",
            "Epoch 13/20\n",
            "16/16 [==============================] - 0s 5ms/step - loss: 0.5385 - accuracy: 0.7699 - val_loss: 0.5390 - val_accuracy: 0.7805\n",
            "Epoch 14/20\n",
            "16/16 [==============================] - 0s 4ms/step - loss: 0.5318 - accuracy: 0.7821 - val_loss: 0.5348 - val_accuracy: 0.7886\n",
            "Epoch 15/20\n",
            "16/16 [==============================] - 0s 5ms/step - loss: 0.5271 - accuracy: 0.7862 - val_loss: 0.5304 - val_accuracy: 0.7967\n",
            "Epoch 16/20\n",
            "16/16 [==============================] - 0s 5ms/step - loss: 0.5225 - accuracy: 0.7882 - val_loss: 0.5259 - val_accuracy: 0.7967\n",
            "Epoch 17/20\n",
            "16/16 [==============================] - 0s 5ms/step - loss: 0.5178 - accuracy: 0.7882 - val_loss: 0.5226 - val_accuracy: 0.7967\n",
            "Epoch 18/20\n",
            "16/16 [==============================] - 0s 5ms/step - loss: 0.5141 - accuracy: 0.7923 - val_loss: 0.5189 - val_accuracy: 0.7967\n",
            "Epoch 19/20\n",
            "16/16 [==============================] - 0s 5ms/step - loss: 0.5103 - accuracy: 0.8004 - val_loss: 0.5163 - val_accuracy: 0.8049\n",
            "Epoch 20/20\n",
            "16/16 [==============================] - 0s 4ms/step - loss: 0.5076 - accuracy: 0.8065 - val_loss: 0.5138 - val_accuracy: 0.8049\n"
          ]
        }
      ]
    },
    {
      "cell_type": "code",
      "source": [
        "prediction=model.predict(xtest)"
      ],
      "metadata": {
        "colab": {
          "base_uri": "https://localhost:8080/"
        },
        "id": "JRt9oM5o3bWe",
        "outputId": "32367361-3d3c-4bfd-88cf-478c66f671ef"
      },
      "execution_count": 48,
      "outputs": [
        {
          "output_type": "stream",
          "name": "stdout",
          "text": [
            "4/4 [==============================] - 0s 4ms/step\n"
          ]
        }
      ]
    },
    {
      "cell_type": "code",
      "source": [
        "# and rest of the steps"
      ],
      "metadata": {
        "id": "6APQ4Uoj3bZg"
      },
      "execution_count": null,
      "outputs": []
    },
    {
      "cell_type": "code",
      "source": [
        "\"\"\"\n",
        "Hyperparameter tuning of NN-\n",
        "1. Change activation function of hidden layer\n",
        "2. increase hidden neurons\n",
        "3. increase hidden layers\n",
        "4. increase no. of epochs\n",
        "5. change optimizer\n",
        "\"\"\""
      ],
      "metadata": {
        "id": "hWoDwEt-3bbP"
      },
      "execution_count": null,
      "outputs": []
    },
    {
      "cell_type": "code",
      "source": [
        "\n",
        "\n",
        "model=Sequential()\n",
        "model.add(InputLayer(input_shape=(input_neurons,)))\n",
        "model.add(Dense(units=neuron_hidden_layer_1,activation=\"tanh\"))\n",
        "model.add(Dense(units=neuron_hidden_layer_2,activation=\"tanh\"))\n",
        "model.add(Dense(units=output_neurons,activation=\"sigmoid\"))\n",
        "model.summary()\n",
        "model.compile(loss=\"binary_crossentropy\",optimizer=\"Adam\",metrics=[\"accuracy\"])\n",
        "model_history=model.fit(xtrain,ytrain,validation_data=(xtest,ytest),epochs=20)\n",
        "prediction=model.predict(xtest)\n",
        "prediction=prediction.reshape(123,)\n",
        "prediction_int=prediction>=0.5\n",
        "prediction_int=prediction_int.astype(np.int)\n",
        "print(accuracy_score(ytest,prediction_int))\n",
        "\n"
      ],
      "metadata": {
        "colab": {
          "base_uri": "https://localhost:8080/"
        },
        "id": "qxPs5JR63beB",
        "outputId": "3bf72249-a453-4e48-d556-61c5c01d94d0"
      },
      "execution_count": 54,
      "outputs": [
        {
          "output_type": "stream",
          "name": "stdout",
          "text": [
            "Model: \"sequential_7\"\n",
            "_________________________________________________________________\n",
            " Layer (type)                Output Shape              Param #   \n",
            "=================================================================\n",
            " dense_32 (Dense)            (None, 10)                120       \n",
            "                                                                 \n",
            " dense_33 (Dense)            (None, 5)                 55        \n",
            "                                                                 \n",
            " dense_34 (Dense)            (None, 1)                 6         \n",
            "                                                                 \n",
            "=================================================================\n",
            "Total params: 181\n",
            "Trainable params: 181\n",
            "Non-trainable params: 0\n",
            "_________________________________________________________________\n",
            "Epoch 1/20\n",
            "16/16 [==============================] - 1s 17ms/step - loss: 0.7233 - accuracy: 0.4827 - val_loss: 0.6573 - val_accuracy: 0.6260\n",
            "Epoch 2/20\n",
            "16/16 [==============================] - 0s 4ms/step - loss: 0.6484 - accuracy: 0.6415 - val_loss: 0.6108 - val_accuracy: 0.6748\n",
            "Epoch 3/20\n",
            "16/16 [==============================] - 0s 5ms/step - loss: 0.6162 - accuracy: 0.6945 - val_loss: 0.5962 - val_accuracy: 0.6911\n",
            "Epoch 4/20\n",
            "16/16 [==============================] - 0s 6ms/step - loss: 0.6050 - accuracy: 0.6925 - val_loss: 0.5912 - val_accuracy: 0.6911\n",
            "Epoch 5/20\n",
            "16/16 [==============================] - 0s 4ms/step - loss: 0.6000 - accuracy: 0.6925 - val_loss: 0.5867 - val_accuracy: 0.6911\n",
            "Epoch 6/20\n",
            "16/16 [==============================] - 0s 6ms/step - loss: 0.5940 - accuracy: 0.6925 - val_loss: 0.5824 - val_accuracy: 0.6911\n",
            "Epoch 7/20\n",
            "16/16 [==============================] - 0s 5ms/step - loss: 0.5887 - accuracy: 0.6945 - val_loss: 0.5784 - val_accuracy: 0.6992\n",
            "Epoch 8/20\n",
            "16/16 [==============================] - 0s 4ms/step - loss: 0.5836 - accuracy: 0.6945 - val_loss: 0.5738 - val_accuracy: 0.6992\n",
            "Epoch 9/20\n",
            "16/16 [==============================] - 0s 5ms/step - loss: 0.5787 - accuracy: 0.6945 - val_loss: 0.5702 - val_accuracy: 0.6992\n",
            "Epoch 10/20\n",
            "16/16 [==============================] - 0s 5ms/step - loss: 0.5734 - accuracy: 0.6986 - val_loss: 0.5662 - val_accuracy: 0.6992\n",
            "Epoch 11/20\n",
            "16/16 [==============================] - 0s 5ms/step - loss: 0.5686 - accuracy: 0.7006 - val_loss: 0.5619 - val_accuracy: 0.7154\n",
            "Epoch 12/20\n",
            "16/16 [==============================] - 0s 4ms/step - loss: 0.5639 - accuracy: 0.7047 - val_loss: 0.5578 - val_accuracy: 0.7154\n",
            "Epoch 13/20\n",
            "16/16 [==============================] - 0s 5ms/step - loss: 0.5591 - accuracy: 0.7067 - val_loss: 0.5541 - val_accuracy: 0.7480\n",
            "Epoch 14/20\n",
            "16/16 [==============================] - 0s 5ms/step - loss: 0.5544 - accuracy: 0.7251 - val_loss: 0.5501 - val_accuracy: 0.7480\n",
            "Epoch 15/20\n",
            "16/16 [==============================] - 0s 5ms/step - loss: 0.5501 - accuracy: 0.7617 - val_loss: 0.5468 - val_accuracy: 0.7724\n",
            "Epoch 16/20\n",
            "16/16 [==============================] - 0s 5ms/step - loss: 0.5451 - accuracy: 0.7658 - val_loss: 0.5429 - val_accuracy: 0.7724\n",
            "Epoch 17/20\n",
            "16/16 [==============================] - 0s 6ms/step - loss: 0.5409 - accuracy: 0.7699 - val_loss: 0.5386 - val_accuracy: 0.7886\n",
            "Epoch 18/20\n",
            "16/16 [==============================] - 0s 7ms/step - loss: 0.5362 - accuracy: 0.7760 - val_loss: 0.5352 - val_accuracy: 0.7886\n",
            "Epoch 19/20\n",
            "16/16 [==============================] - 0s 5ms/step - loss: 0.5318 - accuracy: 0.7882 - val_loss: 0.5318 - val_accuracy: 0.7886\n",
            "Epoch 20/20\n",
            "16/16 [==============================] - 0s 5ms/step - loss: 0.5278 - accuracy: 0.7963 - val_loss: 0.5278 - val_accuracy: 0.7886\n",
            "4/4 [==============================] - 0s 4ms/step\n",
            "0.7886178861788617\n"
          ]
        },
        {
          "output_type": "stream",
          "name": "stderr",
          "text": [
            "<ipython-input-54-7d227ce3efdb>:12: DeprecationWarning: `np.int` is a deprecated alias for the builtin `int`. To silence this warning, use `int` by itself. Doing this will not modify any behavior and is safe. When replacing `np.int`, you may wish to use e.g. `np.int64` or `np.int32` to specify the precision. If you wish to review your current use, check the release note link for additional information.\n",
            "Deprecated in NumPy 1.20; for more details and guidance: https://numpy.org/devdocs/release/1.20.0-notes.html#deprecations\n",
            "  prediction_int=prediction_int.astype(np.int)\n"
          ]
        }
      ]
    },
    {
      "cell_type": "code",
      "source": [
        "# increasing hidden neurons\n",
        "\n",
        "\n",
        "\n",
        "model=Sequential()\n",
        "model.add(InputLayer(input_shape=(input_neurons,)))\n",
        "model.add(Dense(units=1024,activation=\"tanh\"))\n",
        "model.add(Dense(units=512,activation=\"tanh\"))\n",
        "model.add(Dense(units=output_neurons,activation=\"sigmoid\"))\n",
        "model.summary()\n",
        "model.compile(loss=\"binary_crossentropy\",optimizer=\"Adam\",metrics=[\"accuracy\"])\n",
        "model_history=model.fit(xtrain,ytrain,validation_data=(xtest,ytest),epochs=20)\n",
        "prediction=model.predict(xtest)\n",
        "prediction=prediction.reshape(123,)\n",
        "prediction_int=prediction>=0.5\n",
        "prediction_int=prediction_int.astype(np.int)\n",
        "print(accuracy_score(ytest,prediction_int))\n",
        "\n",
        "\n"
      ],
      "metadata": {
        "colab": {
          "base_uri": "https://localhost:8080/"
        },
        "id": "GsjhULbsIvzF",
        "outputId": "8979b0ed-5e53-443b-eca4-269ec85bbb9b"
      },
      "execution_count": 55,
      "outputs": [
        {
          "output_type": "stream",
          "name": "stdout",
          "text": [
            "Model: \"sequential_8\"\n",
            "_________________________________________________________________\n",
            " Layer (type)                Output Shape              Param #   \n",
            "=================================================================\n",
            " dense_35 (Dense)            (None, 1024)              12288     \n",
            "                                                                 \n",
            " dense_36 (Dense)            (None, 512)               524800    \n",
            "                                                                 \n",
            " dense_37 (Dense)            (None, 1)                 513       \n",
            "                                                                 \n",
            "=================================================================\n",
            "Total params: 537,601\n",
            "Trainable params: 537,601\n",
            "Non-trainable params: 0\n",
            "_________________________________________________________________\n",
            "Epoch 1/20\n",
            "16/16 [==============================] - 2s 48ms/step - loss: 0.6218 - accuracy: 0.7149 - val_loss: 0.5665 - val_accuracy: 0.7967\n",
            "Epoch 2/20\n",
            "16/16 [==============================] - 0s 22ms/step - loss: 0.5055 - accuracy: 0.8065 - val_loss: 0.5010 - val_accuracy: 0.8130\n",
            "Epoch 3/20\n",
            "16/16 [==============================] - 0s 25ms/step - loss: 0.5034 - accuracy: 0.8024 - val_loss: 0.4905 - val_accuracy: 0.8130\n",
            "Epoch 4/20\n",
            "16/16 [==============================] - 0s 15ms/step - loss: 0.4983 - accuracy: 0.8065 - val_loss: 0.4903 - val_accuracy: 0.8130\n",
            "Epoch 5/20\n",
            "16/16 [==============================] - 0s 14ms/step - loss: 0.4842 - accuracy: 0.8106 - val_loss: 0.5013 - val_accuracy: 0.8130\n",
            "Epoch 6/20\n",
            "16/16 [==============================] - 0s 14ms/step - loss: 0.4914 - accuracy: 0.8106 - val_loss: 0.4954 - val_accuracy: 0.8211\n",
            "Epoch 7/20\n",
            "16/16 [==============================] - 0s 16ms/step - loss: 0.4829 - accuracy: 0.8065 - val_loss: 0.4833 - val_accuracy: 0.8130\n",
            "Epoch 8/20\n",
            "16/16 [==============================] - 0s 15ms/step - loss: 0.4839 - accuracy: 0.8086 - val_loss: 0.4888 - val_accuracy: 0.8130\n",
            "Epoch 9/20\n",
            "16/16 [==============================] - 0s 14ms/step - loss: 0.4826 - accuracy: 0.8106 - val_loss: 0.4871 - val_accuracy: 0.8130\n",
            "Epoch 10/20\n",
            "16/16 [==============================] - 0s 15ms/step - loss: 0.4883 - accuracy: 0.8147 - val_loss: 0.4835 - val_accuracy: 0.8130\n",
            "Epoch 11/20\n",
            "16/16 [==============================] - 0s 15ms/step - loss: 0.4829 - accuracy: 0.8086 - val_loss: 0.4846 - val_accuracy: 0.8130\n",
            "Epoch 12/20\n",
            "16/16 [==============================] - 0s 15ms/step - loss: 0.4818 - accuracy: 0.8106 - val_loss: 0.4955 - val_accuracy: 0.8130\n",
            "Epoch 13/20\n",
            "16/16 [==============================] - 0s 17ms/step - loss: 0.4938 - accuracy: 0.8106 - val_loss: 0.4821 - val_accuracy: 0.8130\n",
            "Epoch 14/20\n",
            "16/16 [==============================] - 0s 14ms/step - loss: 0.4866 - accuracy: 0.8106 - val_loss: 0.5201 - val_accuracy: 0.7967\n",
            "Epoch 15/20\n",
            "16/16 [==============================] - 0s 15ms/step - loss: 0.4940 - accuracy: 0.8086 - val_loss: 0.5138 - val_accuracy: 0.8130\n",
            "Epoch 16/20\n",
            "16/16 [==============================] - 0s 14ms/step - loss: 0.4864 - accuracy: 0.8126 - val_loss: 0.4840 - val_accuracy: 0.8130\n",
            "Epoch 17/20\n",
            "16/16 [==============================] - 0s 15ms/step - loss: 0.4823 - accuracy: 0.8106 - val_loss: 0.4810 - val_accuracy: 0.8130\n",
            "Epoch 18/20\n",
            "16/16 [==============================] - 0s 15ms/step - loss: 0.4771 - accuracy: 0.8086 - val_loss: 0.4821 - val_accuracy: 0.8130\n",
            "Epoch 19/20\n",
            "16/16 [==============================] - 0s 15ms/step - loss: 0.4785 - accuracy: 0.8106 - val_loss: 0.4825 - val_accuracy: 0.8130\n",
            "Epoch 20/20\n",
            "16/16 [==============================] - 0s 16ms/step - loss: 0.4838 - accuracy: 0.8065 - val_loss: 0.4862 - val_accuracy: 0.8130\n",
            "4/4 [==============================] - 0s 5ms/step\n",
            "0.8130081300813008\n"
          ]
        },
        {
          "output_type": "stream",
          "name": "stderr",
          "text": [
            "<ipython-input-55-47e6b07e8c20>:16: DeprecationWarning: `np.int` is a deprecated alias for the builtin `int`. To silence this warning, use `int` by itself. Doing this will not modify any behavior and is safe. When replacing `np.int`, you may wish to use e.g. `np.int64` or `np.int32` to specify the precision. If you wish to review your current use, check the release note link for additional information.\n",
            "Deprecated in NumPy 1.20; for more details and guidance: https://numpy.org/devdocs/release/1.20.0-notes.html#deprecations\n",
            "  prediction_int=prediction_int.astype(np.int)\n"
          ]
        }
      ]
    },
    {
      "cell_type": "code",
      "source": [
        "# increasing hidden layers\n",
        "\n",
        "\n",
        "\n",
        "model=Sequential()\n",
        "model.add(InputLayer(input_shape=(input_neurons,)))\n",
        "model.add(Dense(units=1000,activation=\"tanh\"))\n",
        "model.add(Dense(units=100,activation=\"tanh\"))\n",
        "model.add(Dense(units=neuron_hidden_layer_1,activation=\"tanh\"))\n",
        "model.add(Dense(units=neuron_hidden_layer_2,activation=\"tanh\"))\n",
        "model.add(Dense(units=output_neurons,activation=\"sigmoid\"))\n",
        "model.summary()\n",
        "model.compile(loss=\"binary_crossentropy\",optimizer=\"Adam\",metrics=[\"accuracy\"])\n",
        "model_history=model.fit(xtrain,ytrain,validation_data=(xtest,ytest),epochs=20)\n",
        "prediction=model.predict(xtest)\n",
        "prediction=prediction.reshape(123,)\n",
        "prediction_int=prediction>=0.5\n",
        "prediction_int=prediction_int.astype(np.int)\n",
        "print(accuracy_score(ytest,prediction_int))\n",
        "\n"
      ],
      "metadata": {
        "colab": {
          "base_uri": "https://localhost:8080/"
        },
        "id": "kGgL7PYOIv0-",
        "outputId": "9bc5d451-203d-41c3-ea7b-1aea6a66ad97"
      },
      "execution_count": 58,
      "outputs": [
        {
          "output_type": "stream",
          "name": "stdout",
          "text": [
            "Model: \"sequential_11\"\n",
            "_________________________________________________________________\n",
            " Layer (type)                Output Shape              Param #   \n",
            "=================================================================\n",
            " dense_48 (Dense)            (None, 1000)              12000     \n",
            "                                                                 \n",
            " dense_49 (Dense)            (None, 100)               100100    \n",
            "                                                                 \n",
            " dense_50 (Dense)            (None, 10)                1010      \n",
            "                                                                 \n",
            " dense_51 (Dense)            (None, 5)                 55        \n",
            "                                                                 \n",
            " dense_52 (Dense)            (None, 1)                 6         \n",
            "                                                                 \n",
            "=================================================================\n",
            "Total params: 113,171\n",
            "Trainable params: 113,171\n",
            "Non-trainable params: 0\n",
            "_________________________________________________________________\n",
            "Epoch 1/20\n",
            "16/16 [==============================] - 1s 19ms/step - loss: 0.5817 - accuracy: 0.7658 - val_loss: 0.4960 - val_accuracy: 0.8130\n",
            "Epoch 2/20\n",
            "16/16 [==============================] - 0s 17ms/step - loss: 0.4892 - accuracy: 0.8086 - val_loss: 0.4784 - val_accuracy: 0.8130\n",
            "Epoch 3/20\n",
            "16/16 [==============================] - 0s 13ms/step - loss: 0.4807 - accuracy: 0.8086 - val_loss: 0.4743 - val_accuracy: 0.8130\n",
            "Epoch 4/20\n",
            "16/16 [==============================] - 0s 13ms/step - loss: 0.4775 - accuracy: 0.8086 - val_loss: 0.4766 - val_accuracy: 0.8130\n",
            "Epoch 5/20\n",
            "16/16 [==============================] - 0s 15ms/step - loss: 0.4745 - accuracy: 0.8086 - val_loss: 0.4738 - val_accuracy: 0.8130\n",
            "Epoch 6/20\n",
            "16/16 [==============================] - 0s 14ms/step - loss: 0.4706 - accuracy: 0.8106 - val_loss: 0.4791 - val_accuracy: 0.8130\n",
            "Epoch 7/20\n",
            "16/16 [==============================] - 0s 13ms/step - loss: 0.4715 - accuracy: 0.8086 - val_loss: 0.4842 - val_accuracy: 0.8049\n",
            "Epoch 8/20\n",
            "16/16 [==============================] - 0s 12ms/step - loss: 0.4730 - accuracy: 0.8106 - val_loss: 0.4797 - val_accuracy: 0.8130\n",
            "Epoch 9/20\n",
            "16/16 [==============================] - 0s 11ms/step - loss: 0.4703 - accuracy: 0.8106 - val_loss: 0.4749 - val_accuracy: 0.8049\n",
            "Epoch 10/20\n",
            "16/16 [==============================] - 0s 7ms/step - loss: 0.4651 - accuracy: 0.8147 - val_loss: 0.4802 - val_accuracy: 0.8049\n",
            "Epoch 11/20\n",
            "16/16 [==============================] - 0s 7ms/step - loss: 0.4610 - accuracy: 0.8147 - val_loss: 0.4849 - val_accuracy: 0.8049\n",
            "Epoch 12/20\n",
            "16/16 [==============================] - 0s 8ms/step - loss: 0.4610 - accuracy: 0.8147 - val_loss: 0.4816 - val_accuracy: 0.8049\n",
            "Epoch 13/20\n",
            "16/16 [==============================] - 0s 9ms/step - loss: 0.4635 - accuracy: 0.8126 - val_loss: 0.4830 - val_accuracy: 0.8049\n",
            "Epoch 14/20\n",
            "16/16 [==============================] - 0s 7ms/step - loss: 0.4590 - accuracy: 0.8147 - val_loss: 0.4939 - val_accuracy: 0.8049\n",
            "Epoch 15/20\n",
            "16/16 [==============================] - 0s 8ms/step - loss: 0.4551 - accuracy: 0.8147 - val_loss: 0.4833 - val_accuracy: 0.8049\n",
            "Epoch 16/20\n",
            "16/16 [==============================] - 0s 8ms/step - loss: 0.4563 - accuracy: 0.8147 - val_loss: 0.4980 - val_accuracy: 0.8049\n",
            "Epoch 17/20\n",
            "16/16 [==============================] - 0s 7ms/step - loss: 0.4556 - accuracy: 0.8147 - val_loss: 0.4965 - val_accuracy: 0.8049\n",
            "Epoch 18/20\n",
            "16/16 [==============================] - 0s 8ms/step - loss: 0.4532 - accuracy: 0.8167 - val_loss: 0.4897 - val_accuracy: 0.7967\n",
            "Epoch 19/20\n",
            "16/16 [==============================] - 0s 7ms/step - loss: 0.4696 - accuracy: 0.8086 - val_loss: 0.5043 - val_accuracy: 0.8049\n",
            "Epoch 20/20\n",
            "16/16 [==============================] - 0s 7ms/step - loss: 0.4575 - accuracy: 0.8126 - val_loss: 0.4932 - val_accuracy: 0.8130\n",
            "4/4 [==============================] - 0s 7ms/step\n",
            "0.8130081300813008\n"
          ]
        },
        {
          "output_type": "stream",
          "name": "stderr",
          "text": [
            "<ipython-input-58-b0a1df52f9d4>:18: DeprecationWarning: `np.int` is a deprecated alias for the builtin `int`. To silence this warning, use `int` by itself. Doing this will not modify any behavior and is safe. When replacing `np.int`, you may wish to use e.g. `np.int64` or `np.int32` to specify the precision. If you wish to review your current use, check the release note link for additional information.\n",
            "Deprecated in NumPy 1.20; for more details and guidance: https://numpy.org/devdocs/release/1.20.0-notes.html#deprecations\n",
            "  prediction_int=prediction_int.astype(np.int)\n"
          ]
        }
      ]
    },
    {
      "cell_type": "code",
      "source": [
        "# increasing no. of epochs\n",
        "\n",
        "\n",
        "\n",
        "model=Sequential()\n",
        "model.add(InputLayer(input_shape=(input_neurons,)))\n",
        "model.add(Dense(units=neuron_hidden_layer_1,activation=\"tanh\"))\n",
        "model.add(Dense(units=neuron_hidden_layer_2,activation=\"tanh\"))\n",
        "model.add(Dense(units=output_neurons,activation=\"sigmoid\"))\n",
        "model.summary()\n",
        "model.compile(loss=\"binary_crossentropy\",optimizer=\"Adam\",metrics=[\"accuracy\"])\n",
        "model_history=model.fit(xtrain,ytrain,validation_data=(xtest,ytest),epochs=100)\n",
        "prediction=model.predict(xtest)\n",
        "prediction=prediction.reshape(123,)\n",
        "prediction_int=prediction>=0.5\n",
        "prediction_int=prediction_int.astype(np.int)\n",
        "print(accuracy_score(ytest,prediction_int))\n",
        "\n",
        "\n",
        "\n"
      ],
      "metadata": {
        "colab": {
          "base_uri": "https://localhost:8080/"
        },
        "id": "F3vOEMQ2Iv4Y",
        "outputId": "6f4790d9-337e-4181-b48f-82e422208d7e"
      },
      "execution_count": 59,
      "outputs": [
        {
          "output_type": "stream",
          "name": "stdout",
          "text": [
            "Model: \"sequential_12\"\n",
            "_________________________________________________________________\n",
            " Layer (type)                Output Shape              Param #   \n",
            "=================================================================\n",
            " dense_53 (Dense)            (None, 10)                120       \n",
            "                                                                 \n",
            " dense_54 (Dense)            (None, 5)                 55        \n",
            "                                                                 \n",
            " dense_55 (Dense)            (None, 1)                 6         \n",
            "                                                                 \n",
            "=================================================================\n",
            "Total params: 181\n",
            "Trainable params: 181\n",
            "Non-trainable params: 0\n",
            "_________________________________________________________________\n",
            "Epoch 1/100\n",
            "16/16 [==============================] - 1s 29ms/step - loss: 0.5869 - accuracy: 0.7210 - val_loss: 0.5908 - val_accuracy: 0.7236\n",
            "Epoch 2/100\n",
            "16/16 [==============================] - 0s 9ms/step - loss: 0.5787 - accuracy: 0.7210 - val_loss: 0.5833 - val_accuracy: 0.7236\n",
            "Epoch 3/100\n",
            "16/16 [==============================] - 0s 9ms/step - loss: 0.5702 - accuracy: 0.7271 - val_loss: 0.5763 - val_accuracy: 0.7236\n",
            "Epoch 4/100\n",
            "16/16 [==============================] - 0s 8ms/step - loss: 0.5628 - accuracy: 0.7312 - val_loss: 0.5702 - val_accuracy: 0.7398\n",
            "Epoch 5/100\n",
            "16/16 [==============================] - 0s 9ms/step - loss: 0.5549 - accuracy: 0.7393 - val_loss: 0.5635 - val_accuracy: 0.7561\n",
            "Epoch 6/100\n",
            "16/16 [==============================] - 0s 8ms/step - loss: 0.5495 - accuracy: 0.7434 - val_loss: 0.5568 - val_accuracy: 0.7561\n",
            "Epoch 7/100\n",
            "16/16 [==============================] - 0s 8ms/step - loss: 0.5423 - accuracy: 0.7637 - val_loss: 0.5509 - val_accuracy: 0.7724\n",
            "Epoch 8/100\n",
            "16/16 [==============================] - 0s 8ms/step - loss: 0.5361 - accuracy: 0.7800 - val_loss: 0.5449 - val_accuracy: 0.7724\n",
            "Epoch 9/100\n",
            "16/16 [==============================] - 0s 5ms/step - loss: 0.5308 - accuracy: 0.7902 - val_loss: 0.5395 - val_accuracy: 0.7724\n",
            "Epoch 10/100\n",
            "16/16 [==============================] - 0s 6ms/step - loss: 0.5258 - accuracy: 0.7943 - val_loss: 0.5348 - val_accuracy: 0.7967\n",
            "Epoch 11/100\n",
            "16/16 [==============================] - 0s 4ms/step - loss: 0.5204 - accuracy: 0.8004 - val_loss: 0.5302 - val_accuracy: 0.7967\n",
            "Epoch 12/100\n",
            "16/16 [==============================] - 0s 5ms/step - loss: 0.5160 - accuracy: 0.8004 - val_loss: 0.5264 - val_accuracy: 0.7967\n",
            "Epoch 13/100\n",
            "16/16 [==============================] - 0s 5ms/step - loss: 0.5123 - accuracy: 0.8024 - val_loss: 0.5222 - val_accuracy: 0.8049\n",
            "Epoch 14/100\n",
            "16/16 [==============================] - 0s 4ms/step - loss: 0.5084 - accuracy: 0.8065 - val_loss: 0.5187 - val_accuracy: 0.8049\n",
            "Epoch 15/100\n",
            "16/16 [==============================] - 0s 5ms/step - loss: 0.5047 - accuracy: 0.8086 - val_loss: 0.5143 - val_accuracy: 0.8049\n",
            "Epoch 16/100\n",
            "16/16 [==============================] - 0s 4ms/step - loss: 0.5017 - accuracy: 0.8086 - val_loss: 0.5109 - val_accuracy: 0.8130\n",
            "Epoch 17/100\n",
            "16/16 [==============================] - 0s 4ms/step - loss: 0.4988 - accuracy: 0.8086 - val_loss: 0.5083 - val_accuracy: 0.8130\n",
            "Epoch 18/100\n",
            "16/16 [==============================] - 0s 4ms/step - loss: 0.4956 - accuracy: 0.8086 - val_loss: 0.5059 - val_accuracy: 0.8130\n",
            "Epoch 19/100\n",
            "16/16 [==============================] - 0s 5ms/step - loss: 0.4933 - accuracy: 0.8086 - val_loss: 0.5030 - val_accuracy: 0.8130\n",
            "Epoch 20/100\n",
            "16/16 [==============================] - 0s 5ms/step - loss: 0.4916 - accuracy: 0.8086 - val_loss: 0.5012 - val_accuracy: 0.8130\n",
            "Epoch 21/100\n",
            "16/16 [==============================] - 0s 4ms/step - loss: 0.4889 - accuracy: 0.8086 - val_loss: 0.4987 - val_accuracy: 0.8130\n",
            "Epoch 22/100\n",
            "16/16 [==============================] - 0s 4ms/step - loss: 0.4871 - accuracy: 0.8086 - val_loss: 0.4972 - val_accuracy: 0.8130\n",
            "Epoch 23/100\n",
            "16/16 [==============================] - 0s 5ms/step - loss: 0.4865 - accuracy: 0.8086 - val_loss: 0.4963 - val_accuracy: 0.8130\n",
            "Epoch 24/100\n",
            "16/16 [==============================] - 0s 6ms/step - loss: 0.4842 - accuracy: 0.8086 - val_loss: 0.4940 - val_accuracy: 0.8130\n",
            "Epoch 25/100\n",
            "16/16 [==============================] - 0s 5ms/step - loss: 0.4825 - accuracy: 0.8086 - val_loss: 0.4927 - val_accuracy: 0.8130\n",
            "Epoch 26/100\n",
            "16/16 [==============================] - 0s 4ms/step - loss: 0.4814 - accuracy: 0.8086 - val_loss: 0.4914 - val_accuracy: 0.8130\n",
            "Epoch 27/100\n",
            "16/16 [==============================] - 0s 5ms/step - loss: 0.4797 - accuracy: 0.8106 - val_loss: 0.4903 - val_accuracy: 0.8130\n",
            "Epoch 28/100\n",
            "16/16 [==============================] - 0s 5ms/step - loss: 0.4787 - accuracy: 0.8106 - val_loss: 0.4888 - val_accuracy: 0.8130\n",
            "Epoch 29/100\n",
            "16/16 [==============================] - 0s 4ms/step - loss: 0.4779 - accuracy: 0.8106 - val_loss: 0.4874 - val_accuracy: 0.8130\n",
            "Epoch 30/100\n",
            "16/16 [==============================] - 0s 4ms/step - loss: 0.4773 - accuracy: 0.8106 - val_loss: 0.4865 - val_accuracy: 0.8130\n",
            "Epoch 31/100\n",
            "16/16 [==============================] - 0s 5ms/step - loss: 0.4759 - accuracy: 0.8106 - val_loss: 0.4856 - val_accuracy: 0.8130\n",
            "Epoch 32/100\n",
            "16/16 [==============================] - 0s 4ms/step - loss: 0.4745 - accuracy: 0.8106 - val_loss: 0.4852 - val_accuracy: 0.8130\n",
            "Epoch 33/100\n",
            "16/16 [==============================] - 0s 6ms/step - loss: 0.4739 - accuracy: 0.8126 - val_loss: 0.4843 - val_accuracy: 0.8130\n",
            "Epoch 34/100\n",
            "16/16 [==============================] - 0s 6ms/step - loss: 0.4733 - accuracy: 0.8126 - val_loss: 0.4829 - val_accuracy: 0.8130\n",
            "Epoch 35/100\n",
            "16/16 [==============================] - 0s 5ms/step - loss: 0.4724 - accuracy: 0.8126 - val_loss: 0.4832 - val_accuracy: 0.8130\n",
            "Epoch 36/100\n",
            "16/16 [==============================] - 0s 5ms/step - loss: 0.4715 - accuracy: 0.8126 - val_loss: 0.4821 - val_accuracy: 0.8130\n",
            "Epoch 37/100\n",
            "16/16 [==============================] - 0s 6ms/step - loss: 0.4709 - accuracy: 0.8126 - val_loss: 0.4820 - val_accuracy: 0.8130\n",
            "Epoch 38/100\n",
            "16/16 [==============================] - 0s 5ms/step - loss: 0.4700 - accuracy: 0.8126 - val_loss: 0.4815 - val_accuracy: 0.8130\n",
            "Epoch 39/100\n",
            "16/16 [==============================] - 0s 4ms/step - loss: 0.4698 - accuracy: 0.8126 - val_loss: 0.4811 - val_accuracy: 0.8130\n",
            "Epoch 40/100\n",
            "16/16 [==============================] - 0s 4ms/step - loss: 0.4697 - accuracy: 0.8126 - val_loss: 0.4808 - val_accuracy: 0.8130\n",
            "Epoch 41/100\n",
            "16/16 [==============================] - 0s 4ms/step - loss: 0.4684 - accuracy: 0.8126 - val_loss: 0.4808 - val_accuracy: 0.8130\n",
            "Epoch 42/100\n",
            "16/16 [==============================] - 0s 4ms/step - loss: 0.4687 - accuracy: 0.8126 - val_loss: 0.4807 - val_accuracy: 0.8130\n",
            "Epoch 43/100\n",
            "16/16 [==============================] - 0s 4ms/step - loss: 0.4680 - accuracy: 0.8126 - val_loss: 0.4798 - val_accuracy: 0.8130\n",
            "Epoch 44/100\n",
            "16/16 [==============================] - 0s 4ms/step - loss: 0.4672 - accuracy: 0.8126 - val_loss: 0.4799 - val_accuracy: 0.8130\n",
            "Epoch 45/100\n",
            "16/16 [==============================] - 0s 5ms/step - loss: 0.4668 - accuracy: 0.8126 - val_loss: 0.4795 - val_accuracy: 0.8130\n",
            "Epoch 46/100\n",
            "16/16 [==============================] - 0s 5ms/step - loss: 0.4670 - accuracy: 0.8126 - val_loss: 0.4800 - val_accuracy: 0.8130\n",
            "Epoch 47/100\n",
            "16/16 [==============================] - 0s 5ms/step - loss: 0.4677 - accuracy: 0.8126 - val_loss: 0.4798 - val_accuracy: 0.8130\n",
            "Epoch 48/100\n",
            "16/16 [==============================] - 0s 5ms/step - loss: 0.4657 - accuracy: 0.8126 - val_loss: 0.4798 - val_accuracy: 0.8130\n",
            "Epoch 49/100\n",
            "16/16 [==============================] - 0s 5ms/step - loss: 0.4657 - accuracy: 0.8126 - val_loss: 0.4794 - val_accuracy: 0.8130\n",
            "Epoch 50/100\n",
            "16/16 [==============================] - 0s 4ms/step - loss: 0.4652 - accuracy: 0.8126 - val_loss: 0.4791 - val_accuracy: 0.8130\n",
            "Epoch 51/100\n",
            "16/16 [==============================] - 0s 5ms/step - loss: 0.4649 - accuracy: 0.8126 - val_loss: 0.4793 - val_accuracy: 0.8130\n",
            "Epoch 52/100\n",
            "16/16 [==============================] - 0s 4ms/step - loss: 0.4651 - accuracy: 0.8126 - val_loss: 0.4787 - val_accuracy: 0.8130\n",
            "Epoch 53/100\n",
            "16/16 [==============================] - 0s 4ms/step - loss: 0.4655 - accuracy: 0.8126 - val_loss: 0.4788 - val_accuracy: 0.8130\n",
            "Epoch 54/100\n",
            "16/16 [==============================] - 0s 5ms/step - loss: 0.4642 - accuracy: 0.8126 - val_loss: 0.4783 - val_accuracy: 0.8130\n",
            "Epoch 55/100\n",
            "16/16 [==============================] - 0s 6ms/step - loss: 0.4640 - accuracy: 0.8126 - val_loss: 0.4788 - val_accuracy: 0.8130\n",
            "Epoch 56/100\n",
            "16/16 [==============================] - 0s 5ms/step - loss: 0.4638 - accuracy: 0.8126 - val_loss: 0.4784 - val_accuracy: 0.8130\n",
            "Epoch 57/100\n",
            "16/16 [==============================] - 0s 4ms/step - loss: 0.4636 - accuracy: 0.8126 - val_loss: 0.4782 - val_accuracy: 0.8130\n",
            "Epoch 58/100\n",
            "16/16 [==============================] - 0s 5ms/step - loss: 0.4634 - accuracy: 0.8126 - val_loss: 0.4783 - val_accuracy: 0.8130\n",
            "Epoch 59/100\n",
            "16/16 [==============================] - 0s 5ms/step - loss: 0.4654 - accuracy: 0.8126 - val_loss: 0.4777 - val_accuracy: 0.8130\n",
            "Epoch 60/100\n",
            "16/16 [==============================] - 0s 6ms/step - loss: 0.4628 - accuracy: 0.8126 - val_loss: 0.4784 - val_accuracy: 0.8130\n",
            "Epoch 61/100\n",
            "16/16 [==============================] - 0s 5ms/step - loss: 0.4639 - accuracy: 0.8126 - val_loss: 0.4781 - val_accuracy: 0.8130\n",
            "Epoch 62/100\n",
            "16/16 [==============================] - 0s 4ms/step - loss: 0.4626 - accuracy: 0.8126 - val_loss: 0.4787 - val_accuracy: 0.8130\n",
            "Epoch 63/100\n",
            "16/16 [==============================] - 0s 4ms/step - loss: 0.4644 - accuracy: 0.8126 - val_loss: 0.4777 - val_accuracy: 0.8130\n",
            "Epoch 64/100\n",
            "16/16 [==============================] - 0s 5ms/step - loss: 0.4628 - accuracy: 0.8126 - val_loss: 0.4797 - val_accuracy: 0.8130\n",
            "Epoch 65/100\n",
            "16/16 [==============================] - 0s 4ms/step - loss: 0.4628 - accuracy: 0.8126 - val_loss: 0.4785 - val_accuracy: 0.8130\n",
            "Epoch 66/100\n",
            "16/16 [==============================] - 0s 6ms/step - loss: 0.4622 - accuracy: 0.8126 - val_loss: 0.4787 - val_accuracy: 0.8130\n",
            "Epoch 67/100\n",
            "16/16 [==============================] - 0s 5ms/step - loss: 0.4623 - accuracy: 0.8126 - val_loss: 0.4783 - val_accuracy: 0.8130\n",
            "Epoch 68/100\n",
            "16/16 [==============================] - 0s 4ms/step - loss: 0.4627 - accuracy: 0.8126 - val_loss: 0.4782 - val_accuracy: 0.8130\n",
            "Epoch 69/100\n",
            "16/16 [==============================] - 0s 4ms/step - loss: 0.4630 - accuracy: 0.8126 - val_loss: 0.4789 - val_accuracy: 0.8130\n",
            "Epoch 70/100\n",
            "16/16 [==============================] - 0s 4ms/step - loss: 0.4618 - accuracy: 0.8106 - val_loss: 0.4787 - val_accuracy: 0.8130\n",
            "Epoch 71/100\n",
            "16/16 [==============================] - 0s 5ms/step - loss: 0.4612 - accuracy: 0.8126 - val_loss: 0.4784 - val_accuracy: 0.8130\n",
            "Epoch 72/100\n",
            "16/16 [==============================] - 0s 6ms/step - loss: 0.4619 - accuracy: 0.8126 - val_loss: 0.4787 - val_accuracy: 0.8130\n",
            "Epoch 73/100\n",
            "16/16 [==============================] - 0s 4ms/step - loss: 0.4613 - accuracy: 0.8126 - val_loss: 0.4786 - val_accuracy: 0.8130\n",
            "Epoch 74/100\n",
            "16/16 [==============================] - 0s 7ms/step - loss: 0.4618 - accuracy: 0.8126 - val_loss: 0.4789 - val_accuracy: 0.8130\n",
            "Epoch 75/100\n",
            "16/16 [==============================] - 0s 4ms/step - loss: 0.4616 - accuracy: 0.8126 - val_loss: 0.4785 - val_accuracy: 0.8130\n",
            "Epoch 76/100\n",
            "16/16 [==============================] - 0s 5ms/step - loss: 0.4612 - accuracy: 0.8126 - val_loss: 0.4794 - val_accuracy: 0.8130\n",
            "Epoch 77/100\n",
            "16/16 [==============================] - 0s 6ms/step - loss: 0.4614 - accuracy: 0.8106 - val_loss: 0.4796 - val_accuracy: 0.8130\n",
            "Epoch 78/100\n",
            "16/16 [==============================] - 0s 6ms/step - loss: 0.4615 - accuracy: 0.8126 - val_loss: 0.4791 - val_accuracy: 0.8130\n",
            "Epoch 79/100\n",
            "16/16 [==============================] - 0s 6ms/step - loss: 0.4609 - accuracy: 0.8126 - val_loss: 0.4794 - val_accuracy: 0.8130\n",
            "Epoch 80/100\n",
            "16/16 [==============================] - 0s 5ms/step - loss: 0.4605 - accuracy: 0.8126 - val_loss: 0.4802 - val_accuracy: 0.8130\n",
            "Epoch 81/100\n",
            "16/16 [==============================] - 0s 4ms/step - loss: 0.4609 - accuracy: 0.8106 - val_loss: 0.4805 - val_accuracy: 0.8130\n",
            "Epoch 82/100\n",
            "16/16 [==============================] - 0s 5ms/step - loss: 0.4606 - accuracy: 0.8106 - val_loss: 0.4801 - val_accuracy: 0.8130\n",
            "Epoch 83/100\n",
            "16/16 [==============================] - 0s 6ms/step - loss: 0.4603 - accuracy: 0.8106 - val_loss: 0.4801 - val_accuracy: 0.8130\n",
            "Epoch 84/100\n",
            "16/16 [==============================] - 0s 4ms/step - loss: 0.4605 - accuracy: 0.8126 - val_loss: 0.4798 - val_accuracy: 0.8130\n",
            "Epoch 85/100\n",
            "16/16 [==============================] - 0s 5ms/step - loss: 0.4602 - accuracy: 0.8126 - val_loss: 0.4800 - val_accuracy: 0.8130\n",
            "Epoch 86/100\n",
            "16/16 [==============================] - 0s 4ms/step - loss: 0.4606 - accuracy: 0.8106 - val_loss: 0.4813 - val_accuracy: 0.8130\n",
            "Epoch 87/100\n",
            "16/16 [==============================] - 0s 5ms/step - loss: 0.4600 - accuracy: 0.8126 - val_loss: 0.4804 - val_accuracy: 0.8130\n",
            "Epoch 88/100\n",
            "16/16 [==============================] - 0s 5ms/step - loss: 0.4605 - accuracy: 0.8126 - val_loss: 0.4808 - val_accuracy: 0.8130\n",
            "Epoch 89/100\n",
            "16/16 [==============================] - 0s 4ms/step - loss: 0.4595 - accuracy: 0.8126 - val_loss: 0.4809 - val_accuracy: 0.8130\n",
            "Epoch 90/100\n",
            "16/16 [==============================] - 0s 4ms/step - loss: 0.4598 - accuracy: 0.8126 - val_loss: 0.4812 - val_accuracy: 0.8130\n",
            "Epoch 91/100\n",
            "16/16 [==============================] - 0s 4ms/step - loss: 0.4601 - accuracy: 0.8106 - val_loss: 0.4824 - val_accuracy: 0.8130\n",
            "Epoch 92/100\n",
            "16/16 [==============================] - 0s 5ms/step - loss: 0.4593 - accuracy: 0.8126 - val_loss: 0.4814 - val_accuracy: 0.8130\n",
            "Epoch 93/100\n",
            "16/16 [==============================] - 0s 4ms/step - loss: 0.4599 - accuracy: 0.8126 - val_loss: 0.4814 - val_accuracy: 0.8130\n",
            "Epoch 94/100\n",
            "16/16 [==============================] - 0s 4ms/step - loss: 0.4597 - accuracy: 0.8126 - val_loss: 0.4810 - val_accuracy: 0.8130\n",
            "Epoch 95/100\n",
            "16/16 [==============================] - 0s 5ms/step - loss: 0.4592 - accuracy: 0.8106 - val_loss: 0.4818 - val_accuracy: 0.8130\n",
            "Epoch 96/100\n",
            "16/16 [==============================] - 0s 4ms/step - loss: 0.4607 - accuracy: 0.8126 - val_loss: 0.4815 - val_accuracy: 0.8130\n",
            "Epoch 97/100\n",
            "16/16 [==============================] - 0s 5ms/step - loss: 0.4592 - accuracy: 0.8126 - val_loss: 0.4821 - val_accuracy: 0.8130\n",
            "Epoch 98/100\n",
            "16/16 [==============================] - 0s 4ms/step - loss: 0.4589 - accuracy: 0.8126 - val_loss: 0.4824 - val_accuracy: 0.8130\n",
            "Epoch 99/100\n",
            "16/16 [==============================] - 0s 5ms/step - loss: 0.4585 - accuracy: 0.8126 - val_loss: 0.4820 - val_accuracy: 0.8130\n",
            "Epoch 100/100\n",
            "16/16 [==============================] - 0s 4ms/step - loss: 0.4591 - accuracy: 0.8126 - val_loss: 0.4821 - val_accuracy: 0.8130\n",
            "4/4 [==============================] - 0s 3ms/step\n",
            "0.8130081300813008\n"
          ]
        },
        {
          "output_type": "stream",
          "name": "stderr",
          "text": [
            "<ipython-input-59-0f9627c3c7b6>:16: DeprecationWarning: `np.int` is a deprecated alias for the builtin `int`. To silence this warning, use `int` by itself. Doing this will not modify any behavior and is safe. When replacing `np.int`, you may wish to use e.g. `np.int64` or `np.int32` to specify the precision. If you wish to review your current use, check the release note link for additional information.\n",
            "Deprecated in NumPy 1.20; for more details and guidance: https://numpy.org/devdocs/release/1.20.0-notes.html#deprecations\n",
            "  prediction_int=prediction_int.astype(np.int)\n"
          ]
        }
      ]
    },
    {
      "cell_type": "code",
      "source": [
        "# changing optimizer\n",
        "\n",
        "from keras.optimizers import Adam\n",
        "adam=Adam(lr=1e-5)\n",
        "\n",
        "\n",
        "model=Sequential()\n",
        "model.add(InputLayer(input_shape=(input_neurons,)))\n",
        "model.add(Dense(units=neuron_hidden_layer_1,activation=\"tanh\"))\n",
        "model.add(Dense(units=neuron_hidden_layer_2,activation=\"tanh\"))\n",
        "model.add(Dense(units=output_neurons,activation=\"sigmoid\"))\n",
        "model.summary()\n",
        "model.compile(loss=\"binary_crossentropy\",optimizer=\"adam\",metrics=[\"accuracy\"])\n",
        "model_history=model.fit(xtrain,ytrain,validation_data=(xtest,ytest),epochs=20)\n",
        "prediction=model.predict(xtest)\n",
        "prediction=prediction.reshape(123,)\n",
        "prediction_int=prediction>=0.5\n",
        "prediction_int=prediction_int.astype(np.int)\n",
        "print(accuracy_score(ytest,prediction_int))\n",
        "\n"
      ],
      "metadata": {
        "colab": {
          "base_uri": "https://localhost:8080/"
        },
        "id": "Zz4NoHKxIv5-",
        "outputId": "272081f1-52fa-4b19-b806-9c83b37e0e58"
      },
      "execution_count": 62,
      "outputs": [
        {
          "output_type": "stream",
          "name": "stdout",
          "text": [
            "Model: \"sequential_14\"\n",
            "_________________________________________________________________\n",
            " Layer (type)                Output Shape              Param #   \n",
            "=================================================================\n",
            " dense_59 (Dense)            (None, 10)                120       \n",
            "                                                                 \n",
            " dense_60 (Dense)            (None, 5)                 55        \n",
            "                                                                 \n",
            " dense_61 (Dense)            (None, 1)                 6         \n",
            "                                                                 \n",
            "=================================================================\n",
            "Total params: 181\n",
            "Trainable params: 181\n",
            "Non-trainable params: 0\n",
            "_________________________________________________________________\n"
          ]
        },
        {
          "output_type": "stream",
          "name": "stderr",
          "text": [
            "/usr/local/lib/python3.8/dist-packages/keras/optimizers/optimizer_v2/adam.py:110: UserWarning: The `lr` argument is deprecated, use `learning_rate` instead.\n",
            "  super(Adam, self).__init__(name, **kwargs)\n"
          ]
        },
        {
          "output_type": "stream",
          "name": "stdout",
          "text": [
            "Epoch 1/20\n",
            "16/16 [==============================] - 1s 15ms/step - loss: 0.6330 - accuracy: 0.6578 - val_loss: 0.6305 - val_accuracy: 0.6748\n",
            "Epoch 2/20\n",
            "16/16 [==============================] - 0s 4ms/step - loss: 0.6204 - accuracy: 0.6823 - val_loss: 0.6204 - val_accuracy: 0.6829\n",
            "Epoch 3/20\n",
            "16/16 [==============================] - 0s 4ms/step - loss: 0.6120 - accuracy: 0.6823 - val_loss: 0.6122 - val_accuracy: 0.6911\n",
            "Epoch 4/20\n",
            "16/16 [==============================] - 0s 4ms/step - loss: 0.6041 - accuracy: 0.6884 - val_loss: 0.6051 - val_accuracy: 0.6911\n",
            "Epoch 5/20\n",
            "16/16 [==============================] - 0s 5ms/step - loss: 0.5975 - accuracy: 0.6945 - val_loss: 0.5988 - val_accuracy: 0.6911\n",
            "Epoch 6/20\n",
            "16/16 [==============================] - 0s 4ms/step - loss: 0.5907 - accuracy: 0.6965 - val_loss: 0.5928 - val_accuracy: 0.6911\n",
            "Epoch 7/20\n",
            "16/16 [==============================] - 0s 6ms/step - loss: 0.5851 - accuracy: 0.6986 - val_loss: 0.5862 - val_accuracy: 0.6911\n",
            "Epoch 8/20\n",
            "16/16 [==============================] - 0s 6ms/step - loss: 0.5789 - accuracy: 0.7026 - val_loss: 0.5812 - val_accuracy: 0.7073\n",
            "Epoch 9/20\n",
            "16/16 [==============================] - 0s 5ms/step - loss: 0.5732 - accuracy: 0.7067 - val_loss: 0.5746 - val_accuracy: 0.7073\n",
            "Epoch 10/20\n",
            "16/16 [==============================] - 0s 7ms/step - loss: 0.5673 - accuracy: 0.7169 - val_loss: 0.5680 - val_accuracy: 0.6992\n",
            "Epoch 11/20\n",
            "16/16 [==============================] - 0s 6ms/step - loss: 0.5609 - accuracy: 0.7210 - val_loss: 0.5627 - val_accuracy: 0.7154\n",
            "Epoch 12/20\n",
            "16/16 [==============================] - 0s 5ms/step - loss: 0.5549 - accuracy: 0.7332 - val_loss: 0.5570 - val_accuracy: 0.7154\n",
            "Epoch 13/20\n",
            "16/16 [==============================] - 0s 5ms/step - loss: 0.5493 - accuracy: 0.7413 - val_loss: 0.5509 - val_accuracy: 0.7398\n",
            "Epoch 14/20\n",
            "16/16 [==============================] - 0s 5ms/step - loss: 0.5432 - accuracy: 0.7576 - val_loss: 0.5445 - val_accuracy: 0.7561\n",
            "Epoch 15/20\n",
            "16/16 [==============================] - 0s 5ms/step - loss: 0.5377 - accuracy: 0.7637 - val_loss: 0.5388 - val_accuracy: 0.7886\n",
            "Epoch 16/20\n",
            "16/16 [==============================] - 0s 5ms/step - loss: 0.5326 - accuracy: 0.8004 - val_loss: 0.5341 - val_accuracy: 0.8049\n",
            "Epoch 17/20\n",
            "16/16 [==============================] - 0s 5ms/step - loss: 0.5267 - accuracy: 0.8065 - val_loss: 0.5285 - val_accuracy: 0.8049\n",
            "Epoch 18/20\n",
            "16/16 [==============================] - 0s 5ms/step - loss: 0.5214 - accuracy: 0.8065 - val_loss: 0.5241 - val_accuracy: 0.8130\n",
            "Epoch 19/20\n",
            "16/16 [==============================] - 0s 5ms/step - loss: 0.5175 - accuracy: 0.8086 - val_loss: 0.5190 - val_accuracy: 0.8130\n",
            "Epoch 20/20\n",
            "16/16 [==============================] - 0s 6ms/step - loss: 0.5118 - accuracy: 0.8086 - val_loss: 0.5148 - val_accuracy: 0.8130\n",
            "4/4 [==============================] - 0s 4ms/step\n",
            "0.8130081300813008\n"
          ]
        },
        {
          "output_type": "stream",
          "name": "stderr",
          "text": [
            "<ipython-input-62-b7b6d6c4b9ed>:18: DeprecationWarning: `np.int` is a deprecated alias for the builtin `int`. To silence this warning, use `int` by itself. Doing this will not modify any behavior and is safe. When replacing `np.int`, you may wish to use e.g. `np.int64` or `np.int32` to specify the precision. If you wish to review your current use, check the release note link for additional information.\n",
            "Deprecated in NumPy 1.20; for more details and guidance: https://numpy.org/devdocs/release/1.20.0-notes.html#deprecations\n",
            "  prediction_int=prediction_int.astype(np.int)\n"
          ]
        }
      ]
    },
    {
      "cell_type": "code",
      "source": [
        "# Improving Deep Learning model--\n",
        "\n",
        "'''\n",
        "1. Early stopping \n",
        "2. Dropout\n",
        "3. Vanishing and Exploding Gradients\n",
        "4. Various weight inintializing technique\n",
        "5. BatchNormalization\n",
        "'''"
      ],
      "metadata": {
        "id": "vs5RITo5Iv82"
      },
      "execution_count": null,
      "outputs": []
    },
    {
      "cell_type": "code",
      "source": [
        "# 1. EarlyStopping\n",
        "\n",
        "\n",
        "\n",
        "model=Sequential()\n",
        "model.add(InputLayer(input_shape=(input_neurons,)))\n",
        "model.add(Dense(units=neuron_hidden_layer_1,activation=\"tanh\"))\n",
        "model.add(Dense(units=neuron_hidden_layer_2,activation=\"tanh\"))\n",
        "model.add(Dense(units=output_neurons,activation=\"sigmoid\"))\n",
        "model.summary()\n",
        "model.compile(loss=\"binary_crossentropy\",optimizer=\"Adam\",metrics=[\"accuracy\"])\n",
        "\n",
        "from keras.callbacks import EarlyStopping\n",
        "es=EarlyStopping(monitor=\"val_loss\",min_delta=0.01,patience=5,mode=\"min\")\n",
        "model_history=model.fit(xtrain,ytrain,validation_data=(xtest,ytest),epochs=100,callbacks=[es])\n",
        "prediction=model.predict(xtest)\n",
        "prediction=prediction.reshape(123,)\n",
        "prediction_int=prediction>=0.5\n",
        "prediction_int=prediction_int.astype(np.int)\n",
        "print(accuracy_score(ytest,prediction_int))\n",
        "\n"
      ],
      "metadata": {
        "colab": {
          "base_uri": "https://localhost:8080/"
        },
        "id": "Fs0p71WNIv_3",
        "outputId": "979737c8-75dd-4805-a915-41b1f2b1ec70"
      },
      "execution_count": 63,
      "outputs": [
        {
          "output_type": "stream",
          "name": "stdout",
          "text": [
            "Model: \"sequential_15\"\n",
            "_________________________________________________________________\n",
            " Layer (type)                Output Shape              Param #   \n",
            "=================================================================\n",
            " dense_62 (Dense)            (None, 10)                120       \n",
            "                                                                 \n",
            " dense_63 (Dense)            (None, 5)                 55        \n",
            "                                                                 \n",
            " dense_64 (Dense)            (None, 1)                 6         \n",
            "                                                                 \n",
            "=================================================================\n",
            "Total params: 181\n",
            "Trainable params: 181\n",
            "Non-trainable params: 0\n",
            "_________________________________________________________________\n",
            "Epoch 1/100\n",
            "16/16 [==============================] - 1s 16ms/step - loss: 0.7544 - accuracy: 0.3360 - val_loss: 0.7174 - val_accuracy: 0.4390\n",
            "Epoch 2/100\n",
            "16/16 [==============================] - 0s 4ms/step - loss: 0.6921 - accuracy: 0.5214 - val_loss: 0.6682 - val_accuracy: 0.6179\n",
            "Epoch 3/100\n",
            "16/16 [==============================] - 0s 4ms/step - loss: 0.6514 - accuracy: 0.6538 - val_loss: 0.6392 - val_accuracy: 0.7073\n",
            "Epoch 4/100\n",
            "16/16 [==============================] - 0s 4ms/step - loss: 0.6292 - accuracy: 0.6884 - val_loss: 0.6218 - val_accuracy: 0.6992\n",
            "Epoch 5/100\n",
            "16/16 [==============================] - 0s 4ms/step - loss: 0.6179 - accuracy: 0.6864 - val_loss: 0.6117 - val_accuracy: 0.6911\n",
            "Epoch 6/100\n",
            "16/16 [==============================] - 0s 5ms/step - loss: 0.6106 - accuracy: 0.6864 - val_loss: 0.6067 - val_accuracy: 0.6911\n",
            "Epoch 7/100\n",
            "16/16 [==============================] - 0s 6ms/step - loss: 0.6061 - accuracy: 0.6864 - val_loss: 0.6030 - val_accuracy: 0.6911\n",
            "Epoch 8/100\n",
            "16/16 [==============================] - 0s 4ms/step - loss: 0.6019 - accuracy: 0.6864 - val_loss: 0.5994 - val_accuracy: 0.6911\n",
            "Epoch 9/100\n",
            "16/16 [==============================] - 0s 5ms/step - loss: 0.5978 - accuracy: 0.6864 - val_loss: 0.5957 - val_accuracy: 0.6911\n",
            "Epoch 10/100\n",
            "16/16 [==============================] - 0s 4ms/step - loss: 0.5933 - accuracy: 0.6864 - val_loss: 0.5912 - val_accuracy: 0.6911\n",
            "Epoch 11/100\n",
            "16/16 [==============================] - 0s 5ms/step - loss: 0.5882 - accuracy: 0.6864 - val_loss: 0.5866 - val_accuracy: 0.6911\n",
            "Epoch 12/100\n",
            "16/16 [==============================] - 0s 4ms/step - loss: 0.5829 - accuracy: 0.6864 - val_loss: 0.5816 - val_accuracy: 0.6911\n",
            "Epoch 13/100\n",
            "16/16 [==============================] - 0s 4ms/step - loss: 0.5777 - accuracy: 0.6884 - val_loss: 0.5763 - val_accuracy: 0.6911\n",
            "Epoch 14/100\n",
            "16/16 [==============================] - 0s 5ms/step - loss: 0.5709 - accuracy: 0.6904 - val_loss: 0.5705 - val_accuracy: 0.6911\n",
            "Epoch 15/100\n",
            "16/16 [==============================] - 0s 4ms/step - loss: 0.5646 - accuracy: 0.6925 - val_loss: 0.5647 - val_accuracy: 0.7073\n",
            "Epoch 16/100\n",
            "16/16 [==============================] - 0s 5ms/step - loss: 0.5576 - accuracy: 0.7026 - val_loss: 0.5584 - val_accuracy: 0.7073\n",
            "Epoch 17/100\n",
            "16/16 [==============================] - 0s 4ms/step - loss: 0.5510 - accuracy: 0.7332 - val_loss: 0.5524 - val_accuracy: 0.7236\n",
            "Epoch 18/100\n",
            "16/16 [==============================] - 0s 5ms/step - loss: 0.5444 - accuracy: 0.7454 - val_loss: 0.5461 - val_accuracy: 0.7398\n",
            "Epoch 19/100\n",
            "16/16 [==============================] - 0s 4ms/step - loss: 0.5383 - accuracy: 0.7739 - val_loss: 0.5397 - val_accuracy: 0.7642\n",
            "Epoch 20/100\n",
            "16/16 [==============================] - 0s 5ms/step - loss: 0.5321 - accuracy: 0.7923 - val_loss: 0.5346 - val_accuracy: 0.7886\n",
            "Epoch 21/100\n",
            "16/16 [==============================] - 0s 5ms/step - loss: 0.5265 - accuracy: 0.8024 - val_loss: 0.5299 - val_accuracy: 0.7886\n",
            "Epoch 22/100\n",
            "16/16 [==============================] - 0s 5ms/step - loss: 0.5212 - accuracy: 0.8045 - val_loss: 0.5247 - val_accuracy: 0.8049\n",
            "Epoch 23/100\n",
            "16/16 [==============================] - 0s 5ms/step - loss: 0.5164 - accuracy: 0.8086 - val_loss: 0.5201 - val_accuracy: 0.8049\n",
            "Epoch 24/100\n",
            "16/16 [==============================] - 0s 5ms/step - loss: 0.5120 - accuracy: 0.8106 - val_loss: 0.5160 - val_accuracy: 0.8130\n",
            "Epoch 25/100\n",
            "16/16 [==============================] - 0s 5ms/step - loss: 0.5072 - accuracy: 0.8106 - val_loss: 0.5128 - val_accuracy: 0.8130\n",
            "Epoch 26/100\n",
            "16/16 [==============================] - 0s 4ms/step - loss: 0.5046 - accuracy: 0.8106 - val_loss: 0.5094 - val_accuracy: 0.8130\n",
            "Epoch 27/100\n",
            "16/16 [==============================] - 0s 5ms/step - loss: 0.5012 - accuracy: 0.8126 - val_loss: 0.5074 - val_accuracy: 0.8130\n",
            "Epoch 28/100\n",
            "16/16 [==============================] - 0s 5ms/step - loss: 0.4979 - accuracy: 0.8106 - val_loss: 0.5046 - val_accuracy: 0.8130\n",
            "Epoch 29/100\n",
            "16/16 [==============================] - 0s 5ms/step - loss: 0.4948 - accuracy: 0.8106 - val_loss: 0.5029 - val_accuracy: 0.8130\n",
            "Epoch 30/100\n",
            "16/16 [==============================] - 0s 4ms/step - loss: 0.4926 - accuracy: 0.8126 - val_loss: 0.5006 - val_accuracy: 0.8130\n",
            "Epoch 31/100\n",
            "16/16 [==============================] - 0s 4ms/step - loss: 0.4907 - accuracy: 0.8126 - val_loss: 0.4989 - val_accuracy: 0.8130\n",
            "Epoch 32/100\n",
            "16/16 [==============================] - 0s 5ms/step - loss: 0.4883 - accuracy: 0.8126 - val_loss: 0.4971 - val_accuracy: 0.8130\n",
            "Epoch 33/100\n",
            "16/16 [==============================] - 0s 5ms/step - loss: 0.4859 - accuracy: 0.8126 - val_loss: 0.4955 - val_accuracy: 0.8130\n",
            "Epoch 34/100\n",
            "16/16 [==============================] - 0s 4ms/step - loss: 0.4843 - accuracy: 0.8126 - val_loss: 0.4943 - val_accuracy: 0.8130\n",
            "Epoch 35/100\n",
            "16/16 [==============================] - 0s 5ms/step - loss: 0.4821 - accuracy: 0.8126 - val_loss: 0.4932 - val_accuracy: 0.8130\n",
            "4/4 [==============================] - 0s 5ms/step\n",
            "0.8130081300813008\n"
          ]
        },
        {
          "output_type": "stream",
          "name": "stderr",
          "text": [
            "<ipython-input-63-f41700772276>:19: DeprecationWarning: `np.int` is a deprecated alias for the builtin `int`. To silence this warning, use `int` by itself. Doing this will not modify any behavior and is safe. When replacing `np.int`, you may wish to use e.g. `np.int64` or `np.int32` to specify the precision. If you wish to review your current use, check the release note link for additional information.\n",
            "Deprecated in NumPy 1.20; for more details and guidance: https://numpy.org/devdocs/release/1.20.0-notes.html#deprecations\n",
            "  prediction_int=prediction_int.astype(np.int)\n"
          ]
        }
      ]
    },
    {
      "cell_type": "code",
      "source": [
        "# dropout\n",
        "\n",
        "'''\n",
        "Dropout technique\n",
        "This is one of the most interesting types of regularization techniques. It also\n",
        "produces very good results and is consequently the most frequently used\n",
        "regularization technique in the field of deep learning.\n",
        "\n",
        "At every iteration, the dropout technique randomly selects some nodes and\n",
        "removes them along with all of their incoming and outgoing connections as\n",
        "shown below\n",
        "\n",
        "The above code shows the probability (0.50) of choosing how many nodes should\n",
        "be dropped is the hyperparameter of the dropout layer\n",
        "'''\n",
        "\n",
        "\n",
        "\n",
        "from keras.layers import Dropout\n",
        "\n",
        "\n",
        "\n",
        "model=Sequential()\n",
        "model.add(InputLayer(input_shape=(input_neurons,)))\n",
        "model.add(Dense(units=100,activation=\"tanh\"))\n",
        "model.add(Dropout(rate=0.5))\n",
        "model.add(Dense(units=100,activation=\"tanh\"))\n",
        "model.add(Dropout(rate=0.5))\n",
        "model.add(Dense(units=output_neurons,activation=\"sigmoid\"))\n",
        "model.summary()\n",
        "model.compile(loss=\"binary_crossentropy\",optimizer=\"Adam\",metrics=[\"accuracy\"])\n",
        "model_history=model.fit(xtrain,ytrain,validation_data=(xtest,ytest),epochs=20)\n",
        "prediction=model.predict(xtest)\n",
        "prediction=prediction.reshape(123,)\n",
        "prediction_int=prediction>=0.5\n",
        "prediction_int=prediction_int.astype(np.int)\n",
        "print(accuracy_score(ytest,prediction_int))\n",
        "\n"
      ],
      "metadata": {
        "colab": {
          "base_uri": "https://localhost:8080/"
        },
        "id": "UN5r3cHKIwBs",
        "outputId": "623b95a0-9806-4962-e524-7006631a15ac"
      },
      "execution_count": 64,
      "outputs": [
        {
          "output_type": "stream",
          "name": "stdout",
          "text": [
            "Model: \"sequential_16\"\n",
            "_________________________________________________________________\n",
            " Layer (type)                Output Shape              Param #   \n",
            "=================================================================\n",
            " dense_65 (Dense)            (None, 100)               1200      \n",
            "                                                                 \n",
            " dropout (Dropout)           (None, 100)               0         \n",
            "                                                                 \n",
            " dense_66 (Dense)            (None, 100)               10100     \n",
            "                                                                 \n",
            " dropout_1 (Dropout)         (None, 100)               0         \n",
            "                                                                 \n",
            " dense_67 (Dense)            (None, 1)                 101       \n",
            "                                                                 \n",
            "=================================================================\n",
            "Total params: 11,401\n",
            "Trainable params: 11,401\n",
            "Non-trainable params: 0\n",
            "_________________________________________________________________\n",
            "Epoch 1/20\n",
            "16/16 [==============================] - 1s 17ms/step - loss: 0.6254 - accuracy: 0.6660 - val_loss: 0.5664 - val_accuracy: 0.6911\n",
            "Epoch 2/20\n",
            "16/16 [==============================] - 0s 6ms/step - loss: 0.5780 - accuracy: 0.7067 - val_loss: 0.5359 - val_accuracy: 0.7480\n",
            "Epoch 3/20\n",
            "16/16 [==============================] - 0s 5ms/step - loss: 0.5427 - accuracy: 0.7658 - val_loss: 0.5205 - val_accuracy: 0.7967\n",
            "Epoch 4/20\n",
            "16/16 [==============================] - 0s 7ms/step - loss: 0.5351 - accuracy: 0.7821 - val_loss: 0.5079 - val_accuracy: 0.8130\n",
            "Epoch 5/20\n",
            "16/16 [==============================] - 0s 6ms/step - loss: 0.5258 - accuracy: 0.7760 - val_loss: 0.5014 - val_accuracy: 0.8130\n",
            "Epoch 6/20\n",
            "16/16 [==============================] - 0s 6ms/step - loss: 0.5284 - accuracy: 0.7923 - val_loss: 0.4953 - val_accuracy: 0.8130\n",
            "Epoch 7/20\n",
            "16/16 [==============================] - 0s 6ms/step - loss: 0.5153 - accuracy: 0.7984 - val_loss: 0.4949 - val_accuracy: 0.8130\n",
            "Epoch 8/20\n",
            "16/16 [==============================] - 0s 6ms/step - loss: 0.4966 - accuracy: 0.8065 - val_loss: 0.4927 - val_accuracy: 0.8130\n",
            "Epoch 9/20\n",
            "16/16 [==============================] - 0s 6ms/step - loss: 0.4850 - accuracy: 0.8045 - val_loss: 0.4936 - val_accuracy: 0.8130\n",
            "Epoch 10/20\n",
            "16/16 [==============================] - 0s 6ms/step - loss: 0.4960 - accuracy: 0.8065 - val_loss: 0.4924 - val_accuracy: 0.8130\n",
            "Epoch 11/20\n",
            "16/16 [==============================] - 0s 5ms/step - loss: 0.5189 - accuracy: 0.8004 - val_loss: 0.4900 - val_accuracy: 0.8130\n",
            "Epoch 12/20\n",
            "16/16 [==============================] - 0s 5ms/step - loss: 0.5030 - accuracy: 0.8065 - val_loss: 0.4905 - val_accuracy: 0.8130\n",
            "Epoch 13/20\n",
            "16/16 [==============================] - 0s 5ms/step - loss: 0.4920 - accuracy: 0.8086 - val_loss: 0.4877 - val_accuracy: 0.8130\n",
            "Epoch 14/20\n",
            "16/16 [==============================] - 0s 6ms/step - loss: 0.5112 - accuracy: 0.8004 - val_loss: 0.4866 - val_accuracy: 0.8130\n",
            "Epoch 15/20\n",
            "16/16 [==============================] - 0s 6ms/step - loss: 0.4936 - accuracy: 0.7984 - val_loss: 0.4845 - val_accuracy: 0.8130\n",
            "Epoch 16/20\n",
            "16/16 [==============================] - 0s 6ms/step - loss: 0.4813 - accuracy: 0.8086 - val_loss: 0.4832 - val_accuracy: 0.8130\n",
            "Epoch 17/20\n",
            "16/16 [==============================] - 0s 5ms/step - loss: 0.5015 - accuracy: 0.8045 - val_loss: 0.4859 - val_accuracy: 0.8130\n",
            "Epoch 18/20\n",
            "16/16 [==============================] - 0s 4ms/step - loss: 0.4936 - accuracy: 0.7984 - val_loss: 0.4881 - val_accuracy: 0.8130\n",
            "Epoch 19/20\n",
            "16/16 [==============================] - 0s 6ms/step - loss: 0.5070 - accuracy: 0.8024 - val_loss: 0.4870 - val_accuracy: 0.8130\n",
            "Epoch 20/20\n",
            "16/16 [==============================] - 0s 6ms/step - loss: 0.5279 - accuracy: 0.7984 - val_loss: 0.4894 - val_accuracy: 0.8130\n",
            "4/4 [==============================] - 0s 4ms/step\n",
            "0.8130081300813008\n"
          ]
        },
        {
          "output_type": "stream",
          "name": "stderr",
          "text": [
            "<ipython-input-64-8213d952981e>:20: DeprecationWarning: `np.int` is a deprecated alias for the builtin `int`. To silence this warning, use `int` by itself. Doing this will not modify any behavior and is safe. When replacing `np.int`, you may wish to use e.g. `np.int64` or `np.int32` to specify the precision. If you wish to review your current use, check the release note link for additional information.\n",
            "Deprecated in NumPy 1.20; for more details and guidance: https://numpy.org/devdocs/release/1.20.0-notes.html#deprecations\n",
            "  prediction_int=prediction_int.astype(np.int)\n"
          ]
        }
      ]
    },
    {
      "cell_type": "code",
      "source": [
        "# vanishing and exploding gradients\n",
        "\n",
        "\n",
        "\n",
        "model=Sequential()\n",
        "model.add(InputLayer(input_shape=(input_neurons,)))\n",
        "model.add(Dense(units=100,activation=\"tanh\"))\n",
        "model.add(Dropout(rate=0.05))\n",
        "model.add(Dense(units=100,activation=\"tanh\"))\n",
        "model.add(Dropout(0.05))\n",
        "model.add(Dense(units=output_neurons,activation=\"sigmoid\"))\n",
        "model.summary()\n",
        "adam=Adam(lr=1e-5,clipvalue=1)\n",
        "#clipvalue clips the gradient value at the backpropogation.\n",
        "# any value<-1 will be made -1 and >1 will be 1\n",
        "model.compile(loss=\"binary_crossentropy\",optimizer=adam,metrics=[\"accuracy\"])\n",
        "model_history=model.fit(xtrain,ytrain,validation_data=(xtest,ytest),epochs=20)\n",
        "prediction=model.predict(xtest)\n",
        "prediction=prediction.reshape(123,)\n",
        "prediction_int=prediction>=0.5\n",
        "prediction_int=prediction_int.astype(np.int)\n",
        "print(accuracy_score(ytest,prediction_int))\n",
        "\n"
      ],
      "metadata": {
        "colab": {
          "base_uri": "https://localhost:8080/"
        },
        "id": "OsCjDgb0IwDg",
        "outputId": "48216cee-268c-4425-fb3b-b7a495ba1296"
      },
      "execution_count": 68,
      "outputs": [
        {
          "output_type": "stream",
          "name": "stdout",
          "text": [
            "Model: \"sequential_18\"\n",
            "_________________________________________________________________\n",
            " Layer (type)                Output Shape              Param #   \n",
            "=================================================================\n",
            " dense_71 (Dense)            (None, 100)               1200      \n",
            "                                                                 \n",
            " dropout_4 (Dropout)         (None, 100)               0         \n",
            "                                                                 \n",
            " dense_72 (Dense)            (None, 100)               10100     \n",
            "                                                                 \n",
            " dropout_5 (Dropout)         (None, 100)               0         \n",
            "                                                                 \n",
            " dense_73 (Dense)            (None, 1)                 101       \n",
            "                                                                 \n",
            "=================================================================\n",
            "Total params: 11,401\n",
            "Trainable params: 11,401\n",
            "Non-trainable params: 0\n",
            "_________________________________________________________________\n",
            "Epoch 1/20\n",
            "16/16 [==============================] - 1s 17ms/step - loss: 0.6835 - accuracy: 0.5275 - val_loss: 0.6749 - val_accuracy: 0.5610\n",
            "Epoch 2/20\n",
            "16/16 [==============================] - 0s 5ms/step - loss: 0.6777 - accuracy: 0.5662 - val_loss: 0.6661 - val_accuracy: 0.5854\n",
            "Epoch 3/20\n",
            "16/16 [==============================] - 0s 7ms/step - loss: 0.6657 - accuracy: 0.6212 - val_loss: 0.6579 - val_accuracy: 0.6667\n",
            "Epoch 4/20\n",
            "16/16 [==============================] - 0s 6ms/step - loss: 0.6596 - accuracy: 0.6395 - val_loss: 0.6513 - val_accuracy: 0.6911\n",
            "Epoch 5/20\n",
            "16/16 [==============================] - 0s 5ms/step - loss: 0.6510 - accuracy: 0.6864 - val_loss: 0.6444 - val_accuracy: 0.7480\n",
            "Epoch 6/20\n",
            "16/16 [==============================] - 0s 6ms/step - loss: 0.6463 - accuracy: 0.6762 - val_loss: 0.6383 - val_accuracy: 0.7480\n",
            "Epoch 7/20\n",
            "16/16 [==============================] - 0s 6ms/step - loss: 0.6412 - accuracy: 0.7026 - val_loss: 0.6321 - val_accuracy: 0.7642\n",
            "Epoch 8/20\n",
            "16/16 [==============================] - 0s 5ms/step - loss: 0.6359 - accuracy: 0.7189 - val_loss: 0.6268 - val_accuracy: 0.7642\n",
            "Epoch 9/20\n",
            "16/16 [==============================] - 0s 6ms/step - loss: 0.6307 - accuracy: 0.7332 - val_loss: 0.6222 - val_accuracy: 0.7480\n",
            "Epoch 10/20\n",
            "16/16 [==============================] - 0s 6ms/step - loss: 0.6271 - accuracy: 0.7352 - val_loss: 0.6177 - val_accuracy: 0.7480\n",
            "Epoch 11/20\n",
            "16/16 [==============================] - 0s 6ms/step - loss: 0.6213 - accuracy: 0.7332 - val_loss: 0.6137 - val_accuracy: 0.7398\n",
            "Epoch 12/20\n",
            "16/16 [==============================] - 0s 5ms/step - loss: 0.6165 - accuracy: 0.7291 - val_loss: 0.6096 - val_accuracy: 0.7398\n",
            "Epoch 13/20\n",
            "16/16 [==============================] - 0s 5ms/step - loss: 0.6140 - accuracy: 0.7271 - val_loss: 0.6063 - val_accuracy: 0.7398\n",
            "Epoch 14/20\n",
            "16/16 [==============================] - 0s 5ms/step - loss: 0.6065 - accuracy: 0.7271 - val_loss: 0.6030 - val_accuracy: 0.7398\n",
            "Epoch 15/20\n",
            "16/16 [==============================] - 0s 7ms/step - loss: 0.6093 - accuracy: 0.7108 - val_loss: 0.6003 - val_accuracy: 0.7317\n",
            "Epoch 16/20\n",
            "16/16 [==============================] - 0s 7ms/step - loss: 0.6058 - accuracy: 0.7210 - val_loss: 0.5975 - val_accuracy: 0.7398\n",
            "Epoch 17/20\n",
            "16/16 [==============================] - 0s 5ms/step - loss: 0.6006 - accuracy: 0.7210 - val_loss: 0.5952 - val_accuracy: 0.7398\n",
            "Epoch 18/20\n",
            "16/16 [==============================] - 0s 6ms/step - loss: 0.6021 - accuracy: 0.7108 - val_loss: 0.5928 - val_accuracy: 0.7398\n",
            "Epoch 19/20\n",
            "16/16 [==============================] - 0s 5ms/step - loss: 0.5987 - accuracy: 0.7108 - val_loss: 0.5907 - val_accuracy: 0.7398\n",
            "Epoch 20/20\n",
            "16/16 [==============================] - 0s 5ms/step - loss: 0.5959 - accuracy: 0.7088 - val_loss: 0.5884 - val_accuracy: 0.7317\n",
            "4/4 [==============================] - 0s 3ms/step\n",
            "0.7317073170731707\n"
          ]
        },
        {
          "output_type": "stream",
          "name": "stderr",
          "text": [
            "<ipython-input-68-ee21245c9910>:19: DeprecationWarning: `np.int` is a deprecated alias for the builtin `int`. To silence this warning, use `int` by itself. Doing this will not modify any behavior and is safe. When replacing `np.int`, you may wish to use e.g. `np.int64` or `np.int32` to specify the precision. If you wish to review your current use, check the release note link for additional information.\n",
            "Deprecated in NumPy 1.20; for more details and guidance: https://numpy.org/devdocs/release/1.20.0-notes.html#deprecations\n",
            "  prediction_int=prediction_int.astype(np.int)\n"
          ]
        }
      ]
    },
    {
      "cell_type": "code",
      "source": [
        "# Different weight initialization techniques like- Random Normal Initialization, Glorot/Xavier Normal Initialization, He Normal Initialization"
      ],
      "metadata": {
        "id": "whQsWFDDIwGL"
      },
      "execution_count": null,
      "outputs": []
    },
    {
      "cell_type": "code",
      "source": [
        "from keras.backend import random_normal\n",
        "\n",
        "from keras import initializers\n",
        "model=Sequential()\n",
        "model.add(InputLayer(input_shape=(input_neurons,)))\n",
        "ini=keras.initializers.RandomUniform(minval=0,maxval=1)\n",
        "model.add(Dense(units=100,activation=\"tanh\",kernel_initializer=ini))\n",
        "ini=keras.initializers.GlorotUniform()\n",
        "model.add(Dense(units=100,activation=\"tanh\",kernel_initializer=ini))\n",
        "ini=keras.initializers.HeUniform()\n",
        "model.add(Dense(units=100,activation=\"tanh\",kernel_initializer=ini))\n",
        "model.add(Dense(units=output_neurons,activation=\"sigmoid\",kernel_initializer=ini))\n",
        "model.summary()\n",
        "model.compile(loss=\"binary_crossentropy\",optimizer=\"Adam\",metrics=[\"accuracy\"])\n",
        "model_history=model.fit(xtrain,ytrain,validation_data=(xtest,ytest),epochs=20)\n",
        "prediction=model.predict(xtest)\n",
        "prediction=prediction.reshape(123,)\n",
        "prediction_int=prediction>=0.5\n",
        "prediction_int=prediction_int.astype(np.int)\n",
        "print(accuracy_score(ytest,prediction_int))\n",
        "\n"
      ],
      "metadata": {
        "colab": {
          "base_uri": "https://localhost:8080/"
        },
        "id": "ENORdU8YIwHw",
        "outputId": "06091d3a-fadf-4f9f-f560-02ae013fbf0a"
      },
      "execution_count": 77,
      "outputs": [
        {
          "output_type": "stream",
          "name": "stdout",
          "text": [
            "Model: \"sequential_27\"\n",
            "_________________________________________________________________\n",
            " Layer (type)                Output Shape              Param #   \n",
            "=================================================================\n",
            " dense_83 (Dense)            (None, 100)               1200      \n",
            "                                                                 \n",
            " dense_84 (Dense)            (None, 100)               10100     \n",
            "                                                                 \n",
            " dense_85 (Dense)            (None, 100)               10100     \n",
            "                                                                 \n",
            " dense_86 (Dense)            (None, 1)                 101       \n",
            "                                                                 \n",
            "=================================================================\n",
            "Total params: 21,501\n",
            "Trainable params: 21,501\n",
            "Non-trainable params: 0\n",
            "_________________________________________________________________\n",
            "Epoch 1/20\n",
            "16/16 [==============================] - 1s 17ms/step - loss: 0.6772 - accuracy: 0.6497 - val_loss: 0.6277 - val_accuracy: 0.6911\n",
            "Epoch 2/20\n",
            "16/16 [==============================] - 0s 7ms/step - loss: 0.6087 - accuracy: 0.6884 - val_loss: 0.6009 - val_accuracy: 0.6911\n",
            "Epoch 3/20\n",
            "16/16 [==============================] - 0s 6ms/step - loss: 0.5983 - accuracy: 0.7006 - val_loss: 0.5887 - val_accuracy: 0.6911\n",
            "Epoch 4/20\n",
            "16/16 [==============================] - 0s 6ms/step - loss: 0.5882 - accuracy: 0.7067 - val_loss: 0.5779 - val_accuracy: 0.7317\n",
            "Epoch 5/20\n",
            "16/16 [==============================] - 0s 5ms/step - loss: 0.5784 - accuracy: 0.7210 - val_loss: 0.5582 - val_accuracy: 0.7317\n",
            "Epoch 6/20\n",
            "16/16 [==============================] - 0s 6ms/step - loss: 0.5620 - accuracy: 0.7536 - val_loss: 0.5511 - val_accuracy: 0.7805\n",
            "Epoch 7/20\n",
            "16/16 [==============================] - 0s 6ms/step - loss: 0.5695 - accuracy: 0.7352 - val_loss: 0.5927 - val_accuracy: 0.7154\n",
            "Epoch 8/20\n",
            "16/16 [==============================] - 0s 7ms/step - loss: 0.5389 - accuracy: 0.7699 - val_loss: 0.5473 - val_accuracy: 0.7480\n",
            "Epoch 9/20\n",
            "16/16 [==============================] - 0s 7ms/step - loss: 0.5373 - accuracy: 0.7719 - val_loss: 0.5174 - val_accuracy: 0.7805\n",
            "Epoch 10/20\n",
            "16/16 [==============================] - 0s 8ms/step - loss: 0.5235 - accuracy: 0.7739 - val_loss: 0.5070 - val_accuracy: 0.7886\n",
            "Epoch 11/20\n",
            "16/16 [==============================] - 0s 7ms/step - loss: 0.5004 - accuracy: 0.7943 - val_loss: 0.5013 - val_accuracy: 0.7886\n",
            "Epoch 12/20\n",
            "16/16 [==============================] - 0s 6ms/step - loss: 0.5155 - accuracy: 0.7902 - val_loss: 0.5166 - val_accuracy: 0.7886\n",
            "Epoch 13/20\n",
            "16/16 [==============================] - 0s 6ms/step - loss: 0.5073 - accuracy: 0.7923 - val_loss: 0.5052 - val_accuracy: 0.8049\n",
            "Epoch 14/20\n",
            "16/16 [==============================] - 0s 7ms/step - loss: 0.4969 - accuracy: 0.8045 - val_loss: 0.4968 - val_accuracy: 0.7967\n",
            "Epoch 15/20\n",
            "16/16 [==============================] - 0s 7ms/step - loss: 0.4938 - accuracy: 0.8086 - val_loss: 0.5475 - val_accuracy: 0.7886\n",
            "Epoch 16/20\n",
            "16/16 [==============================] - 0s 6ms/step - loss: 0.5268 - accuracy: 0.7984 - val_loss: 0.4909 - val_accuracy: 0.8049\n",
            "Epoch 17/20\n",
            "16/16 [==============================] - 0s 6ms/step - loss: 0.5080 - accuracy: 0.8024 - val_loss: 0.5331 - val_accuracy: 0.8130\n",
            "Epoch 18/20\n",
            "16/16 [==============================] - 0s 6ms/step - loss: 0.5403 - accuracy: 0.8045 - val_loss: 0.5187 - val_accuracy: 0.8130\n",
            "Epoch 19/20\n",
            "16/16 [==============================] - 0s 7ms/step - loss: 0.5248 - accuracy: 0.8065 - val_loss: 0.5221 - val_accuracy: 0.8130\n",
            "Epoch 20/20\n",
            "16/16 [==============================] - 0s 5ms/step - loss: 0.4877 - accuracy: 0.8086 - val_loss: 0.5079 - val_accuracy: 0.8130\n",
            "4/4 [==============================] - 0s 3ms/step\n",
            "0.8130081300813008\n"
          ]
        },
        {
          "output_type": "stream",
          "name": "stderr",
          "text": [
            "<ipython-input-77-fdd9941b1fd7>:19: DeprecationWarning: `np.int` is a deprecated alias for the builtin `int`. To silence this warning, use `int` by itself. Doing this will not modify any behavior and is safe. When replacing `np.int`, you may wish to use e.g. `np.int64` or `np.int32` to specify the precision. If you wish to review your current use, check the release note link for additional information.\n",
            "Deprecated in NumPy 1.20; for more details and guidance: https://numpy.org/devdocs/release/1.20.0-notes.html#deprecations\n",
            "  prediction_int=prediction_int.astype(np.int)\n"
          ]
        }
      ]
    },
    {
      "cell_type": "code",
      "source": [
        "'''\n",
        "Regularization\n",
        "Since neural networks are very complex, there is a high chance of overfitting. This\n",
        "is where regularization comes into the picture. We are already aware of L1 and L2\n",
        "regularization techniques.\n",
        "L1 and L2 regularization\n",
        "Lasso (L1) and Ridge (L2) regularization can be done by passing\n",
        "kernel_regularizer argument to the Keras layers using tf.keras.regularizers along\n",
        "with the alpha value (hyperparameter\n",
        "'''\n",
        "\n",
        "from keras import regularizers\n",
        "\n",
        "model=Sequential()\n",
        "model.add(InputLayer(input_shape=(input_neurons,)))\n",
        "model.add(Dense(units=neuron_hidden_layer_1,activation=\"tanh\",kernel_regularizer=regularizers.L1(0.01)))\n",
        "model.add(Dense(units=neuron_hidden_layer_2,activation=\"tanh\",kernel_regularizer=regularizers.L2(0.01)))\n",
        "model.add(Dense(units=output_neurons,activation=\"sigmoid\"))\n",
        "model.summary()\n",
        "model.compile(loss=\"binary_crossentropy\",optimizer=\"adam\",metrics=[\"accuracy\"])\n",
        "model_history=model.fit(xtrain,ytrain,validation_data=(xtest,ytest),epochs=20)\n",
        "prediction=model.predict(xtest)\n",
        "prediction=prediction.reshape(123,)\n",
        "prediction_int=prediction>=0.5\n",
        "prediction_int=prediction_int.astype(np.int)\n",
        "print(accuracy_score(ytest,prediction_int))"
      ],
      "metadata": {
        "colab": {
          "base_uri": "https://localhost:8080/"
        },
        "id": "vBt5PPtOWFXH",
        "outputId": "8f1e16f7-43b3-4a3f-e276-916cdf6ba3ef"
      },
      "execution_count": 83,
      "outputs": [
        {
          "output_type": "stream",
          "name": "stdout",
          "text": [
            "Model: \"sequential_31\"\n",
            "_________________________________________________________________\n",
            " Layer (type)                Output Shape              Param #   \n",
            "=================================================================\n",
            " dense_96 (Dense)            (None, 10)                120       \n",
            "                                                                 \n",
            " dense_97 (Dense)            (None, 5)                 55        \n",
            "                                                                 \n",
            " dense_98 (Dense)            (None, 1)                 6         \n",
            "                                                                 \n",
            "=================================================================\n",
            "Total params: 181\n",
            "Trainable params: 181\n",
            "Non-trainable params: 0\n",
            "_________________________________________________________________\n",
            "Epoch 1/20\n",
            "16/16 [==============================] - 1s 15ms/step - loss: 0.9723 - accuracy: 0.6701 - val_loss: 0.9762 - val_accuracy: 0.6829\n",
            "Epoch 2/20\n",
            "16/16 [==============================] - 0s 6ms/step - loss: 0.9496 - accuracy: 0.6823 - val_loss: 0.9533 - val_accuracy: 0.6748\n",
            "Epoch 3/20\n",
            "16/16 [==============================] - 0s 4ms/step - loss: 0.9284 - accuracy: 0.6843 - val_loss: 0.9326 - val_accuracy: 0.6911\n",
            "Epoch 4/20\n",
            "16/16 [==============================] - 0s 4ms/step - loss: 0.9084 - accuracy: 0.6904 - val_loss: 0.9129 - val_accuracy: 0.6911\n",
            "Epoch 5/20\n",
            "16/16 [==============================] - 0s 4ms/step - loss: 0.8888 - accuracy: 0.6904 - val_loss: 0.8940 - val_accuracy: 0.6911\n",
            "Epoch 6/20\n",
            "16/16 [==============================] - 0s 6ms/step - loss: 0.8700 - accuracy: 0.6904 - val_loss: 0.8757 - val_accuracy: 0.6911\n",
            "Epoch 7/20\n",
            "16/16 [==============================] - 0s 4ms/step - loss: 0.8522 - accuracy: 0.6945 - val_loss: 0.8575 - val_accuracy: 0.6911\n",
            "Epoch 8/20\n",
            "16/16 [==============================] - 0s 5ms/step - loss: 0.8346 - accuracy: 0.6945 - val_loss: 0.8406 - val_accuracy: 0.6911\n",
            "Epoch 9/20\n",
            "16/16 [==============================] - 0s 4ms/step - loss: 0.8175 - accuracy: 0.6986 - val_loss: 0.8241 - val_accuracy: 0.6911\n",
            "Epoch 10/20\n",
            "16/16 [==============================] - 0s 4ms/step - loss: 0.8020 - accuracy: 0.7047 - val_loss: 0.8078 - val_accuracy: 0.6992\n",
            "Epoch 11/20\n",
            "16/16 [==============================] - 0s 4ms/step - loss: 0.7855 - accuracy: 0.7149 - val_loss: 0.7923 - val_accuracy: 0.7073\n",
            "Epoch 12/20\n",
            "16/16 [==============================] - 0s 4ms/step - loss: 0.7709 - accuracy: 0.7149 - val_loss: 0.7777 - val_accuracy: 0.7073\n",
            "Epoch 13/20\n",
            "16/16 [==============================] - 0s 5ms/step - loss: 0.7566 - accuracy: 0.7210 - val_loss: 0.7634 - val_accuracy: 0.7073\n",
            "Epoch 14/20\n",
            "16/16 [==============================] - 0s 6ms/step - loss: 0.7425 - accuracy: 0.7312 - val_loss: 0.7497 - val_accuracy: 0.7154\n",
            "Epoch 15/20\n",
            "16/16 [==============================] - 0s 6ms/step - loss: 0.7293 - accuracy: 0.7373 - val_loss: 0.7363 - val_accuracy: 0.7236\n",
            "Epoch 16/20\n",
            "16/16 [==============================] - 0s 4ms/step - loss: 0.7161 - accuracy: 0.7475 - val_loss: 0.7237 - val_accuracy: 0.7317\n",
            "Epoch 17/20\n",
            "16/16 [==============================] - 0s 4ms/step - loss: 0.7043 - accuracy: 0.7515 - val_loss: 0.7115 - val_accuracy: 0.7398\n",
            "Epoch 18/20\n",
            "16/16 [==============================] - 0s 5ms/step - loss: 0.6935 - accuracy: 0.7739 - val_loss: 0.7003 - val_accuracy: 0.7805\n",
            "Epoch 19/20\n",
            "16/16 [==============================] - 0s 4ms/step - loss: 0.6820 - accuracy: 0.7923 - val_loss: 0.6885 - val_accuracy: 0.7805\n",
            "Epoch 20/20\n",
            "16/16 [==============================] - 0s 5ms/step - loss: 0.6713 - accuracy: 0.7963 - val_loss: 0.6776 - val_accuracy: 0.7967\n",
            "4/4 [==============================] - 0s 3ms/step\n",
            "0.7967479674796748\n"
          ]
        },
        {
          "output_type": "stream",
          "name": "stderr",
          "text": [
            "<ipython-input-83-39341519d54a>:14: DeprecationWarning: `np.int` is a deprecated alias for the builtin `int`. To silence this warning, use `int` by itself. Doing this will not modify any behavior and is safe. When replacing `np.int`, you may wish to use e.g. `np.int64` or `np.int32` to specify the precision. If you wish to review your current use, check the release note link for additional information.\n",
            "Deprecated in NumPy 1.20; for more details and guidance: https://numpy.org/devdocs/release/1.20.0-notes.html#deprecations\n",
            "  prediction_int=prediction_int.astype(np.int)\n"
          ]
        }
      ]
    },
    {
      "cell_type": "code",
      "source": [
        "#batch normalization\n",
        "from keras.layers import BatchNormalization\n",
        "\n",
        "\n",
        "\n",
        "model=Sequential()\n",
        "model.add(InputLayer(input_shape=(input_neurons,)))\n",
        "model.add(Dense(units=neuron_hidden_layer_1,activation=\"tanh\"))\n",
        "model.add(Dense(units=neuron_hidden_layer_2,activation=\"tanh\"))\n",
        "model.add(Dense(units=output_neurons,activation=\"sigmoid\"))\n",
        "model.summary()\n",
        "model.compile(loss=\"binary_crossentropy\",optimizer=\"Adam\",metrics=[\"accuracy\"])\n",
        "model_history=model.fit(xtrain,ytrain,validation_data=(xtest,ytest),epochs=20)\n",
        "prediction=model.predict(xtest)\n",
        "prediction=prediction.reshape(123,)\n",
        "prediction_int=prediction>=0.5\n",
        "prediction_int=prediction_int.astype(int)\n",
        "print(accuracy_score(ytest,prediction_int))\n"
      ],
      "metadata": {
        "colab": {
          "base_uri": "https://localhost:8080/"
        },
        "id": "Bn6ha2d7O_0I",
        "outputId": "2c2e6dff-ad3b-4903-faa2-0dac875f1b69"
      },
      "execution_count": 80,
      "outputs": [
        {
          "output_type": "stream",
          "name": "stdout",
          "text": [
            "Model: \"sequential_30\"\n",
            "_________________________________________________________________\n",
            " Layer (type)                Output Shape              Param #   \n",
            "=================================================================\n",
            " dense_93 (Dense)            (None, 10)                120       \n",
            "                                                                 \n",
            " dense_94 (Dense)            (None, 5)                 55        \n",
            "                                                                 \n",
            " dense_95 (Dense)            (None, 1)                 6         \n",
            "                                                                 \n",
            "=================================================================\n",
            "Total params: 181\n",
            "Trainable params: 181\n",
            "Non-trainable params: 0\n",
            "_________________________________________________________________\n",
            "Epoch 1/20\n",
            "16/16 [==============================] - 1s 15ms/step - loss: 0.7603 - accuracy: 0.4766 - val_loss: 0.7447 - val_accuracy: 0.5610\n",
            "Epoch 2/20\n",
            "16/16 [==============================] - 0s 4ms/step - loss: 0.6909 - accuracy: 0.5743 - val_loss: 0.6911 - val_accuracy: 0.6260\n",
            "Epoch 3/20\n",
            "16/16 [==============================] - 0s 4ms/step - loss: 0.6536 - accuracy: 0.6477 - val_loss: 0.6676 - val_accuracy: 0.6585\n",
            "Epoch 4/20\n",
            "16/16 [==============================] - 0s 5ms/step - loss: 0.6363 - accuracy: 0.6721 - val_loss: 0.6556 - val_accuracy: 0.6585\n",
            "Epoch 5/20\n",
            "16/16 [==============================] - 0s 4ms/step - loss: 0.6287 - accuracy: 0.6864 - val_loss: 0.6468 - val_accuracy: 0.6585\n",
            "Epoch 6/20\n",
            "16/16 [==============================] - 0s 6ms/step - loss: 0.6214 - accuracy: 0.6864 - val_loss: 0.6400 - val_accuracy: 0.6585\n",
            "Epoch 7/20\n",
            "16/16 [==============================] - 0s 4ms/step - loss: 0.6150 - accuracy: 0.6884 - val_loss: 0.6325 - val_accuracy: 0.6585\n",
            "Epoch 8/20\n",
            "16/16 [==============================] - 0s 5ms/step - loss: 0.6085 - accuracy: 0.6925 - val_loss: 0.6258 - val_accuracy: 0.6667\n",
            "Epoch 9/20\n",
            "16/16 [==============================] - 0s 5ms/step - loss: 0.6026 - accuracy: 0.6945 - val_loss: 0.6193 - val_accuracy: 0.6829\n",
            "Epoch 10/20\n",
            "16/16 [==============================] - 0s 4ms/step - loss: 0.5966 - accuracy: 0.6965 - val_loss: 0.6134 - val_accuracy: 0.6992\n",
            "Epoch 11/20\n",
            "16/16 [==============================] - 0s 5ms/step - loss: 0.5913 - accuracy: 0.6986 - val_loss: 0.6075 - val_accuracy: 0.6992\n",
            "Epoch 12/20\n",
            "16/16 [==============================] - 0s 6ms/step - loss: 0.5853 - accuracy: 0.6986 - val_loss: 0.6019 - val_accuracy: 0.6992\n",
            "Epoch 13/20\n",
            "16/16 [==============================] - 0s 4ms/step - loss: 0.5801 - accuracy: 0.7088 - val_loss: 0.5959 - val_accuracy: 0.6992\n",
            "Epoch 14/20\n",
            "16/16 [==============================] - 0s 4ms/step - loss: 0.5745 - accuracy: 0.7169 - val_loss: 0.5906 - val_accuracy: 0.7073\n",
            "Epoch 15/20\n",
            "16/16 [==============================] - 0s 5ms/step - loss: 0.5691 - accuracy: 0.7169 - val_loss: 0.5855 - val_accuracy: 0.6911\n",
            "Epoch 16/20\n",
            "16/16 [==============================] - 0s 5ms/step - loss: 0.5639 - accuracy: 0.7251 - val_loss: 0.5800 - val_accuracy: 0.6992\n",
            "Epoch 17/20\n",
            "16/16 [==============================] - 0s 5ms/step - loss: 0.5588 - accuracy: 0.7373 - val_loss: 0.5752 - val_accuracy: 0.7236\n",
            "Epoch 18/20\n",
            "16/16 [==============================] - 0s 7ms/step - loss: 0.5535 - accuracy: 0.7413 - val_loss: 0.5697 - val_accuracy: 0.7398\n",
            "Epoch 19/20\n",
            "16/16 [==============================] - 0s 4ms/step - loss: 0.5481 - accuracy: 0.7454 - val_loss: 0.5644 - val_accuracy: 0.7398\n",
            "Epoch 20/20\n",
            "16/16 [==============================] - 0s 4ms/step - loss: 0.5434 - accuracy: 0.7515 - val_loss: 0.5588 - val_accuracy: 0.7398\n",
            "4/4 [==============================] - 0s 3ms/step\n",
            "0.7398373983739838\n"
          ]
        }
      ]
    },
    {
      "cell_type": "code",
      "source": [],
      "metadata": {
        "id": "2PmYQCYHO_2T"
      },
      "execution_count": null,
      "outputs": []
    },
    {
      "cell_type": "code",
      "source": [],
      "metadata": {
        "id": "NZcWzpf4IwKq"
      },
      "execution_count": null,
      "outputs": []
    },
    {
      "cell_type": "code",
      "source": [],
      "metadata": {
        "id": "sbDZK6k43bg0"
      },
      "execution_count": null,
      "outputs": []
    }
  ]
}