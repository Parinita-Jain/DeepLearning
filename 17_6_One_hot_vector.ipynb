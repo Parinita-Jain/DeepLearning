{
  "nbformat": 4,
  "nbformat_minor": 0,
  "metadata": {
    "colab": {
      "provenance": [],
      "include_colab_link": true
    },
    "kernelspec": {
      "name": "python3",
      "display_name": "Python 3"
    }
  },
  "cells": [
    {
      "cell_type": "markdown",
      "metadata": {
        "id": "view-in-github",
        "colab_type": "text"
      },
      "source": [
        "<a href=\"https://colab.research.google.com/github/Parinita-Jain/DeepLearning/blob/main/17_6_One_hot_vector.ipynb\" target=\"_parent\"><img src=\"https://colab.research.google.com/assets/colab-badge.svg\" alt=\"Open In Colab\"/></a>"
      ]
    },
    {
      "cell_type": "markdown",
      "metadata": {
        "id": "YQYJ1eVH07rq"
      },
      "source": [
        "#1. Get Data"
      ]
    },
    {
      "cell_type": "code",
      "metadata": {
        "id": "fks6HwGX04If"
      },
      "source": [
        "#input text\n",
        "text=['Building some bots for Wikipedia.',\n",
        "      'Wikipedia is flooded with information.',\n",
        "      'There is an app for everthing.']"
      ],
      "execution_count": null,
      "outputs": []
    },
    {
      "cell_type": "markdown",
      "metadata": {
        "id": "UD1cQlfn004q"
      },
      "source": [
        "#2. Text Cleaning"
      ]
    },
    {
      "cell_type": "code",
      "metadata": {
        "id": "0iFct38aGKn_"
      },
      "source": [
        "# cleaning\n",
        "import re\n",
        "\n",
        "def clean(text):\n",
        "  #lower case\n",
        "  text=text.lower()\n",
        "  \n",
        "  #remove punctuations\n",
        "  text=re.sub('[^a-zA-Z]',\" \",text)\n",
        "  \n",
        "  return text"
      ],
      "execution_count": null,
      "outputs": []
    },
    {
      "cell_type": "code",
      "metadata": {
        "id": "SufMwvgVGd0u"
      },
      "source": [
        "#call the clean function\n",
        "cleaned_text=[]\n",
        "\n",
        "for i in text:\n",
        "  cleaned_text.append(clean(i))"
      ],
      "execution_count": null,
      "outputs": []
    },
    {
      "cell_type": "code",
      "metadata": {
        "id": "YoCZnuJUGnlE",
        "outputId": "9b49d946-7444-41aa-9ca0-192bdd8cd699",
        "colab": {
          "base_uri": "https://localhost:8080/",
          "height": 34
        }
      },
      "source": [
        "print(cleaned_text)"
      ],
      "execution_count": null,
      "outputs": [
        {
          "output_type": "stream",
          "text": [
            "['building some bots for wikipedia ', 'wikipedia is flooded with information ', 'there is an app for everthing ']\n"
          ],
          "name": "stdout"
        }
      ]
    },
    {
      "cell_type": "markdown",
      "metadata": {
        "id": "AAqPPrr21A3-"
      },
      "source": [
        "#3. Tokenization"
      ]
    },
    {
      "cell_type": "code",
      "metadata": {
        "id": "oU7x-LyE05bT",
        "outputId": "c151f48a-e551-473c-c081-948ffb7db633",
        "colab": {
          "base_uri": "https://localhost:8080/",
          "height": 34
        }
      },
      "source": [
        "#tokenize the text\n",
        "tokens=[]\n",
        "\n",
        "for i in cleaned_text:\n",
        "  tokens.append(i.split())\n",
        "\n",
        "print(tokens)"
      ],
      "execution_count": null,
      "outputs": [
        {
          "output_type": "stream",
          "text": [
            "[['building', 'some', 'bots', 'for', 'wikipedia'], ['wikipedia', 'is', 'flooded', 'with', 'information'], ['there', 'is', 'an', 'app', 'for', 'everthing']]\n"
          ],
          "name": "stdout"
        }
      ]
    },
    {
      "cell_type": "markdown",
      "metadata": {
        "id": "h8Q8CpYT1HAB"
      },
      "source": [
        "#4. Vocabulary Preparation"
      ]
    },
    {
      "cell_type": "code",
      "metadata": {
        "id": "tC5Mymg0HjRq",
        "outputId": "8346ab21-60bf-45cd-ab46-4c7f21340fa5",
        "colab": {
          "base_uri": "https://localhost:8080/",
          "height": 34
        }
      },
      "source": [
        "#construct vocabulary\n",
        "vocab=[]\n",
        "\n",
        "for i in tokens:\n",
        "  for j in i:\n",
        "    if j not in vocab:\n",
        "      vocab.append(j)\n",
        "\n",
        "#remove duplicate token\n",
        "vocab = list(set(vocab))\n",
        "\n",
        "# sort tokens \n",
        "vocab.sort()\n",
        "\n",
        "print(vocab)"
      ],
      "execution_count": null,
      "outputs": [
        {
          "output_type": "stream",
          "text": [
            "['an', 'app', 'bots', 'building', 'everthing', 'flooded', 'for', 'information', 'is', 'some', 'there', 'wikipedia', 'with']\n"
          ],
          "name": "stdout"
        }
      ]
    },
    {
      "cell_type": "markdown",
      "metadata": {
        "id": "62Iz751F1Oc_"
      },
      "source": [
        "#5. Feature Representation (One Hot Encoding)"
      ]
    },
    {
      "cell_type": "code",
      "metadata": {
        "id": "V0yJSXC_1Caw"
      },
      "source": [
        "#one hot vectors\n",
        "import numpy as np\n",
        "\n",
        "ohe=np.zeros([len(vocab),len(vocab)])\n",
        "\n",
        "for i in range(len(ohe)):\n",
        "  ohe[i][i]=1"
      ],
      "execution_count": null,
      "outputs": []
    },
    {
      "cell_type": "code",
      "metadata": {
        "id": "pJ3G0UcU1M4c",
        "outputId": "013cf691-b3fc-4c8f-f6c1-8ca800a669c5",
        "colab": {
          "base_uri": "https://localhost:8080/",
          "height": 238
        }
      },
      "source": [
        "ohe"
      ],
      "execution_count": null,
      "outputs": [
        {
          "output_type": "execute_result",
          "data": {
            "text/plain": [
              "array([[1., 0., 0., 0., 0., 0., 0., 0., 0., 0., 0., 0., 0.],\n",
              "       [0., 1., 0., 0., 0., 0., 0., 0., 0., 0., 0., 0., 0.],\n",
              "       [0., 0., 1., 0., 0., 0., 0., 0., 0., 0., 0., 0., 0.],\n",
              "       [0., 0., 0., 1., 0., 0., 0., 0., 0., 0., 0., 0., 0.],\n",
              "       [0., 0., 0., 0., 1., 0., 0., 0., 0., 0., 0., 0., 0.],\n",
              "       [0., 0., 0., 0., 0., 1., 0., 0., 0., 0., 0., 0., 0.],\n",
              "       [0., 0., 0., 0., 0., 0., 1., 0., 0., 0., 0., 0., 0.],\n",
              "       [0., 0., 0., 0., 0., 0., 0., 1., 0., 0., 0., 0., 0.],\n",
              "       [0., 0., 0., 0., 0., 0., 0., 0., 1., 0., 0., 0., 0.],\n",
              "       [0., 0., 0., 0., 0., 0., 0., 0., 0., 1., 0., 0., 0.],\n",
              "       [0., 0., 0., 0., 0., 0., 0., 0., 0., 0., 1., 0., 0.],\n",
              "       [0., 0., 0., 0., 0., 0., 0., 0., 0., 0., 0., 1., 0.],\n",
              "       [0., 0., 0., 0., 0., 0., 0., 0., 0., 0., 0., 0., 1.]])"
            ]
          },
          "metadata": {
            "tags": []
          },
          "execution_count": 8
        }
      ]
    },
    {
      "cell_type": "code",
      "metadata": {
        "id": "RYbivnGRZt0Q"
      },
      "source": [
        "import re"
      ],
      "execution_count": null,
      "outputs": []
    },
    {
      "cell_type": "code",
      "metadata": {
        "id": "-UKh75q9Zupf"
      },
      "source": [
        "a = \"this is going to end in 2019 I can't wait for the coming year\" "
      ],
      "execution_count": null,
      "outputs": []
    },
    {
      "cell_type": "code",
      "metadata": {
        "id": "DvSrhFYBZ4WE"
      },
      "source": [
        "result = re.sub(\"\\d{4}\", \"the coming year\", a)"
      ],
      "execution_count": null,
      "outputs": []
    },
    {
      "cell_type": "code",
      "metadata": {
        "id": "EhAnATCcZ7m0",
        "outputId": "1e353a2a-e3f2-4fb1-dfb5-7cb99298f852",
        "colab": {
          "base_uri": "https://localhost:8080/",
          "height": 34
        }
      },
      "source": [
        "result"
      ],
      "execution_count": null,
      "outputs": [
        {
          "output_type": "execute_result",
          "data": {
            "text/plain": [
              "\"this is going to end in the coming year I can't wait for the coming year\""
            ]
          },
          "metadata": {
            "tags": []
          },
          "execution_count": 12
        }
      ]
    },
    {
      "cell_type": "code",
      "metadata": {
        "id": "5z_gNJmEZ9Cd"
      },
      "source": [],
      "execution_count": null,
      "outputs": []
    }
  ]
}