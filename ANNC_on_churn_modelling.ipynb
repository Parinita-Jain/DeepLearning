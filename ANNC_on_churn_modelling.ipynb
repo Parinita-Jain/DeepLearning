{
  "nbformat": 4,
  "nbformat_minor": 0,
  "metadata": {
    "colab": {
      "provenance": [],
      "include_colab_link": true
    },
    "kernelspec": {
      "name": "python3",
      "display_name": "Python 3"
    },
    "language_info": {
      "name": "python"
    }
  },
  "cells": [
    {
      "cell_type": "markdown",
      "metadata": {
        "id": "view-in-github",
        "colab_type": "text"
      },
      "source": [
        "<a href=\"https://colab.research.google.com/github/Parinita-Jain/DeepLearning/blob/main/ANNC_on_churn_modelling.ipynb\" target=\"_parent\"><img src=\"https://colab.research.google.com/assets/colab-badge.svg\" alt=\"Open In Colab\"/></a>"
      ]
    },
    {
      "cell_type": "code",
      "metadata": {
        "id": "W2PQHM-1osPA"
      },
      "source": [
        "import numpy as np\n",
        "import pandas as pd\n",
        "import matplotlib.pyplot as plt\n",
        "import seaborn as sns\n",
        "\n",
        "import warnings\n",
        "warnings.filterwarnings(\"ignore\")\n",
        "\n",
        "import tensorflow as tf\n",
        "from tensorflow.keras import Sequential #helps me to initialise the ann\n",
        "from tensorflow.keras.layers import Dense #helps me to create HL\n",
        "from sklearn.metrics import classification_report "
      ],
      "execution_count": 2,
      "outputs": []
    },
    {
      "cell_type": "code",
      "metadata": {
        "id": "IoTVdSxjvpCD",
        "colab": {
          "base_uri": "https://localhost:8080/",
          "height": 270
        },
        "outputId": "6ce88d0b-3e73-4ccc-b3e7-1d204d36271d"
      },
      "source": [
        "df = pd.read_csv(\"Churn_Modelling.csv\") #task is to predict if customer will exit the bank,encoding= 'unicode_escape'\n",
        "df.head()"
      ],
      "execution_count": 3,
      "outputs": [
        {
          "output_type": "execute_result",
          "data": {
            "text/plain": [
              "   RowNumber  CustomerId   Surname  CreditScore Geography  Gender  Age  \\\n",
              "0          1    15634602  Hargrave          619    France  Female   42   \n",
              "1          2    15647311      Hill          608     Spain  Female   41   \n",
              "2          3    15619304      Onio          502    France  Female   42   \n",
              "3          4    15701354      Boni          699    France  Female   39   \n",
              "4          5    15737888  Mitchell          850     Spain  Female   43   \n",
              "\n",
              "   Tenure    Balance  NumOfProducts  HasCrCard  IsActiveMember  \\\n",
              "0       2       0.00              1          1               1   \n",
              "1       1   83807.86              1          0               1   \n",
              "2       8  159660.80              3          1               0   \n",
              "3       1       0.00              2          0               0   \n",
              "4       2  125510.82              1          1               1   \n",
              "\n",
              "   EstimatedSalary  Exited  \n",
              "0        101348.88       1  \n",
              "1        112542.58       0  \n",
              "2        113931.57       1  \n",
              "3         93826.63       0  \n",
              "4         79084.10       0  "
            ],
            "text/html": [
              "\n",
              "  <div id=\"df-7a09bd35-6301-4733-83f4-992bd3328930\">\n",
              "    <div class=\"colab-df-container\">\n",
              "      <div>\n",
              "<style scoped>\n",
              "    .dataframe tbody tr th:only-of-type {\n",
              "        vertical-align: middle;\n",
              "    }\n",
              "\n",
              "    .dataframe tbody tr th {\n",
              "        vertical-align: top;\n",
              "    }\n",
              "\n",
              "    .dataframe thead th {\n",
              "        text-align: right;\n",
              "    }\n",
              "</style>\n",
              "<table border=\"1\" class=\"dataframe\">\n",
              "  <thead>\n",
              "    <tr style=\"text-align: right;\">\n",
              "      <th></th>\n",
              "      <th>RowNumber</th>\n",
              "      <th>CustomerId</th>\n",
              "      <th>Surname</th>\n",
              "      <th>CreditScore</th>\n",
              "      <th>Geography</th>\n",
              "      <th>Gender</th>\n",
              "      <th>Age</th>\n",
              "      <th>Tenure</th>\n",
              "      <th>Balance</th>\n",
              "      <th>NumOfProducts</th>\n",
              "      <th>HasCrCard</th>\n",
              "      <th>IsActiveMember</th>\n",
              "      <th>EstimatedSalary</th>\n",
              "      <th>Exited</th>\n",
              "    </tr>\n",
              "  </thead>\n",
              "  <tbody>\n",
              "    <tr>\n",
              "      <th>0</th>\n",
              "      <td>1</td>\n",
              "      <td>15634602</td>\n",
              "      <td>Hargrave</td>\n",
              "      <td>619</td>\n",
              "      <td>France</td>\n",
              "      <td>Female</td>\n",
              "      <td>42</td>\n",
              "      <td>2</td>\n",
              "      <td>0.00</td>\n",
              "      <td>1</td>\n",
              "      <td>1</td>\n",
              "      <td>1</td>\n",
              "      <td>101348.88</td>\n",
              "      <td>1</td>\n",
              "    </tr>\n",
              "    <tr>\n",
              "      <th>1</th>\n",
              "      <td>2</td>\n",
              "      <td>15647311</td>\n",
              "      <td>Hill</td>\n",
              "      <td>608</td>\n",
              "      <td>Spain</td>\n",
              "      <td>Female</td>\n",
              "      <td>41</td>\n",
              "      <td>1</td>\n",
              "      <td>83807.86</td>\n",
              "      <td>1</td>\n",
              "      <td>0</td>\n",
              "      <td>1</td>\n",
              "      <td>112542.58</td>\n",
              "      <td>0</td>\n",
              "    </tr>\n",
              "    <tr>\n",
              "      <th>2</th>\n",
              "      <td>3</td>\n",
              "      <td>15619304</td>\n",
              "      <td>Onio</td>\n",
              "      <td>502</td>\n",
              "      <td>France</td>\n",
              "      <td>Female</td>\n",
              "      <td>42</td>\n",
              "      <td>8</td>\n",
              "      <td>159660.80</td>\n",
              "      <td>3</td>\n",
              "      <td>1</td>\n",
              "      <td>0</td>\n",
              "      <td>113931.57</td>\n",
              "      <td>1</td>\n",
              "    </tr>\n",
              "    <tr>\n",
              "      <th>3</th>\n",
              "      <td>4</td>\n",
              "      <td>15701354</td>\n",
              "      <td>Boni</td>\n",
              "      <td>699</td>\n",
              "      <td>France</td>\n",
              "      <td>Female</td>\n",
              "      <td>39</td>\n",
              "      <td>1</td>\n",
              "      <td>0.00</td>\n",
              "      <td>2</td>\n",
              "      <td>0</td>\n",
              "      <td>0</td>\n",
              "      <td>93826.63</td>\n",
              "      <td>0</td>\n",
              "    </tr>\n",
              "    <tr>\n",
              "      <th>4</th>\n",
              "      <td>5</td>\n",
              "      <td>15737888</td>\n",
              "      <td>Mitchell</td>\n",
              "      <td>850</td>\n",
              "      <td>Spain</td>\n",
              "      <td>Female</td>\n",
              "      <td>43</td>\n",
              "      <td>2</td>\n",
              "      <td>125510.82</td>\n",
              "      <td>1</td>\n",
              "      <td>1</td>\n",
              "      <td>1</td>\n",
              "      <td>79084.10</td>\n",
              "      <td>0</td>\n",
              "    </tr>\n",
              "  </tbody>\n",
              "</table>\n",
              "</div>\n",
              "      <button class=\"colab-df-convert\" onclick=\"convertToInteractive('df-7a09bd35-6301-4733-83f4-992bd3328930')\"\n",
              "              title=\"Convert this dataframe to an interactive table.\"\n",
              "              style=\"display:none;\">\n",
              "        \n",
              "  <svg xmlns=\"http://www.w3.org/2000/svg\" height=\"24px\"viewBox=\"0 0 24 24\"\n",
              "       width=\"24px\">\n",
              "    <path d=\"M0 0h24v24H0V0z\" fill=\"none\"/>\n",
              "    <path d=\"M18.56 5.44l.94 2.06.94-2.06 2.06-.94-2.06-.94-.94-2.06-.94 2.06-2.06.94zm-11 1L8.5 8.5l.94-2.06 2.06-.94-2.06-.94L8.5 2.5l-.94 2.06-2.06.94zm10 10l.94 2.06.94-2.06 2.06-.94-2.06-.94-.94-2.06-.94 2.06-2.06.94z\"/><path d=\"M17.41 7.96l-1.37-1.37c-.4-.4-.92-.59-1.43-.59-.52 0-1.04.2-1.43.59L10.3 9.45l-7.72 7.72c-.78.78-.78 2.05 0 2.83L4 21.41c.39.39.9.59 1.41.59.51 0 1.02-.2 1.41-.59l7.78-7.78 2.81-2.81c.8-.78.8-2.07 0-2.86zM5.41 20L4 18.59l7.72-7.72 1.47 1.35L5.41 20z\"/>\n",
              "  </svg>\n",
              "      </button>\n",
              "      \n",
              "  <style>\n",
              "    .colab-df-container {\n",
              "      display:flex;\n",
              "      flex-wrap:wrap;\n",
              "      gap: 12px;\n",
              "    }\n",
              "\n",
              "    .colab-df-convert {\n",
              "      background-color: #E8F0FE;\n",
              "      border: none;\n",
              "      border-radius: 50%;\n",
              "      cursor: pointer;\n",
              "      display: none;\n",
              "      fill: #1967D2;\n",
              "      height: 32px;\n",
              "      padding: 0 0 0 0;\n",
              "      width: 32px;\n",
              "    }\n",
              "\n",
              "    .colab-df-convert:hover {\n",
              "      background-color: #E2EBFA;\n",
              "      box-shadow: 0px 1px 2px rgba(60, 64, 67, 0.3), 0px 1px 3px 1px rgba(60, 64, 67, 0.15);\n",
              "      fill: #174EA6;\n",
              "    }\n",
              "\n",
              "    [theme=dark] .colab-df-convert {\n",
              "      background-color: #3B4455;\n",
              "      fill: #D2E3FC;\n",
              "    }\n",
              "\n",
              "    [theme=dark] .colab-df-convert:hover {\n",
              "      background-color: #434B5C;\n",
              "      box-shadow: 0px 1px 3px 1px rgba(0, 0, 0, 0.15);\n",
              "      filter: drop-shadow(0px 1px 2px rgba(0, 0, 0, 0.3));\n",
              "      fill: #FFFFFF;\n",
              "    }\n",
              "  </style>\n",
              "\n",
              "      <script>\n",
              "        const buttonEl =\n",
              "          document.querySelector('#df-7a09bd35-6301-4733-83f4-992bd3328930 button.colab-df-convert');\n",
              "        buttonEl.style.display =\n",
              "          google.colab.kernel.accessAllowed ? 'block' : 'none';\n",
              "\n",
              "        async function convertToInteractive(key) {\n",
              "          const element = document.querySelector('#df-7a09bd35-6301-4733-83f4-992bd3328930');\n",
              "          const dataTable =\n",
              "            await google.colab.kernel.invokeFunction('convertToInteractive',\n",
              "                                                     [key], {});\n",
              "          if (!dataTable) return;\n",
              "\n",
              "          const docLinkHtml = 'Like what you see? Visit the ' +\n",
              "            '<a target=\"_blank\" href=https://colab.research.google.com/notebooks/data_table.ipynb>data table notebook</a>'\n",
              "            + ' to learn more about interactive tables.';\n",
              "          element.innerHTML = '';\n",
              "          dataTable['output_type'] = 'display_data';\n",
              "          await google.colab.output.renderOutput(dataTable, element);\n",
              "          const docLink = document.createElement('div');\n",
              "          docLink.innerHTML = docLinkHtml;\n",
              "          element.appendChild(docLink);\n",
              "        }\n",
              "      </script>\n",
              "    </div>\n",
              "  </div>\n",
              "  "
            ]
          },
          "metadata": {},
          "execution_count": 3
        }
      ]
    },
    {
      "cell_type": "code",
      "metadata": {
        "id": "Vx4R66fMv8Vq"
      },
      "source": [
        "x = df.iloc[:,3:-1].values\n",
        "y = df.iloc[:, -1].values"
      ],
      "execution_count": 4,
      "outputs": []
    },
    {
      "cell_type": "code",
      "metadata": {
        "id": "1n5WtHnOwjd7",
        "colab": {
          "base_uri": "https://localhost:8080/"
        },
        "outputId": "f1c49def-b556-4709-b09f-e1be1a326670"
      },
      "source": [
        "x"
      ],
      "execution_count": 5,
      "outputs": [
        {
          "output_type": "execute_result",
          "data": {
            "text/plain": [
              "array([[619, 'France', 'Female', ..., 1, 1, 101348.88],\n",
              "       [608, 'Spain', 'Female', ..., 0, 1, 112542.58],\n",
              "       [502, 'France', 'Female', ..., 1, 0, 113931.57],\n",
              "       ...,\n",
              "       [709, 'France', 'Female', ..., 0, 1, 42085.58],\n",
              "       [772, 'Germany', 'Male', ..., 1, 0, 92888.52],\n",
              "       [792, 'France', 'Female', ..., 1, 0, 38190.78]], dtype=object)"
            ]
          },
          "metadata": {},
          "execution_count": 5
        }
      ]
    },
    {
      "cell_type": "code",
      "metadata": {
        "id": "2NovaZXMwlIh",
        "colab": {
          "base_uri": "https://localhost:8080/"
        },
        "outputId": "a6201082-9561-46ed-dfd6-92c9d9a58ad1"
      },
      "source": [
        "y"
      ],
      "execution_count": 6,
      "outputs": [
        {
          "output_type": "execute_result",
          "data": {
            "text/plain": [
              "array([1, 0, 1, ..., 1, 1, 0])"
            ]
          },
          "metadata": {},
          "execution_count": 6
        }
      ]
    },
    {
      "cell_type": "code",
      "metadata": {
        "id": "D3QXlSQuwpGN"
      },
      "source": [
        "from sklearn.preprocessing import LabelEncoder\n",
        "le = LabelEncoder()\n",
        "le1 = LabelEncoder()\n",
        "\n",
        "x[:, 1] = le.fit_transform(x[:, 1])\n",
        "x[:, 2] = le1.fit_transform(x[:, 2])\n"
      ],
      "execution_count": 7,
      "outputs": []
    },
    {
      "cell_type": "code",
      "metadata": {
        "id": "zei75IZNx3ad",
        "colab": {
          "base_uri": "https://localhost:8080/"
        },
        "outputId": "98093030-5748-45fd-aef0-8c60244dea9c"
      },
      "source": [
        "x"
      ],
      "execution_count": 8,
      "outputs": [
        {
          "output_type": "execute_result",
          "data": {
            "text/plain": [
              "array([[619, 0, 0, ..., 1, 1, 101348.88],\n",
              "       [608, 2, 0, ..., 0, 1, 112542.58],\n",
              "       [502, 0, 0, ..., 1, 0, 113931.57],\n",
              "       ...,\n",
              "       [709, 0, 0, ..., 0, 1, 42085.58],\n",
              "       [772, 1, 1, ..., 1, 0, 92888.52],\n",
              "       [792, 0, 0, ..., 1, 0, 38190.78]], dtype=object)"
            ]
          },
          "metadata": {},
          "execution_count": 8
        }
      ]
    },
    {
      "cell_type": "code",
      "metadata": {
        "id": "TIpCciHQx5uH",
        "colab": {
          "base_uri": "https://localhost:8080/"
        },
        "outputId": "4b303333-74d3-4483-8647-ed3dbb8bef0e"
      },
      "source": [
        "df.info()"
      ],
      "execution_count": 9,
      "outputs": [
        {
          "output_type": "stream",
          "name": "stdout",
          "text": [
            "<class 'pandas.core.frame.DataFrame'>\n",
            "RangeIndex: 10000 entries, 0 to 9999\n",
            "Data columns (total 14 columns):\n",
            " #   Column           Non-Null Count  Dtype  \n",
            "---  ------           --------------  -----  \n",
            " 0   RowNumber        10000 non-null  int64  \n",
            " 1   CustomerId       10000 non-null  int64  \n",
            " 2   Surname          10000 non-null  object \n",
            " 3   CreditScore      10000 non-null  int64  \n",
            " 4   Geography        10000 non-null  object \n",
            " 5   Gender           10000 non-null  object \n",
            " 6   Age              10000 non-null  int64  \n",
            " 7   Tenure           10000 non-null  int64  \n",
            " 8   Balance          10000 non-null  float64\n",
            " 9   NumOfProducts    10000 non-null  int64  \n",
            " 10  HasCrCard        10000 non-null  int64  \n",
            " 11  IsActiveMember   10000 non-null  int64  \n",
            " 12  EstimatedSalary  10000 non-null  float64\n",
            " 13  Exited           10000 non-null  int64  \n",
            "dtypes: float64(2), int64(9), object(3)\n",
            "memory usage: 1.1+ MB\n"
          ]
        }
      ]
    },
    {
      "cell_type": "code",
      "metadata": {
        "id": "dszU61umyFJh"
      },
      "source": [
        "from sklearn.model_selection import train_test_split\n",
        "xtrain, xtest, ytrain, ytest = train_test_split(x,y, test_size=0.3, random_state=1)"
      ],
      "execution_count": 10,
      "outputs": []
    },
    {
      "cell_type": "code",
      "metadata": {
        "id": "vVcfLh_5yW7k"
      },
      "source": [
        "from sklearn.preprocessing import StandardScaler\n",
        "\n",
        "sc = StandardScaler()\n",
        "\n",
        "xtrain = sc.fit_transform(xtrain)\n",
        "\n",
        "xtest = sc.transform(xtest)"
      ],
      "execution_count": 11,
      "outputs": []
    },
    {
      "cell_type": "code",
      "metadata": {
        "colab": {
          "base_uri": "https://localhost:8080/"
        },
        "id": "cIQVaDI0zK07",
        "outputId": "e0fe66e9-961c-4ffe-991b-7d2633130045"
      },
      "source": [
        "#step1 -: initialise the ann model\n",
        "ann = Sequential()\n",
        "\n",
        "#step2 -: add layers into the model\n",
        "ann.add(Dense(units=6, activation=\"relu\"))         #relu => linear rectified unit.\n",
        "# units =6 , is 6 neurons..is just some random no.. activation is activation func relu--this we will see in next chapter\n",
        "# relu is recommended for hidden layers in case of classification\n",
        "\n",
        "ann.add(Dense(units=1, activation=\"sigmoid\"))\n",
        "#for output layer sigmoid func is used for classification\n",
        "\n",
        "#step3 -: establish the connection between the layers i.e. i/p and neurons and o/p\n",
        "ann.compile(optimizer= \"adam\", loss=\"binary_crossentropy\", metrics=[\"accuracy\"])\n",
        "# just like gradient descednt we will used adam as optimization which is the advance version of gradient descent\n",
        "# by default adam use rmsprop\n",
        "# loss is error rate of each batch and matrix is accuracy of each batch\n",
        "#step4 -: train the model\n",
        "\n",
        "ann.fit(xtrain, ytrain, batch_size=30, epochs=100)  #training our model\n",
        "\n",
        "#step5 -: make prediction\n",
        "ypred = ann.predict(xtest)"
      ],
      "execution_count": 12,
      "outputs": [
        {
          "output_type": "stream",
          "name": "stdout",
          "text": [
            "Epoch 1/100\n",
            "234/234 [==============================] - 1s 2ms/step - loss: 0.6100 - accuracy: 0.6703\n",
            "Epoch 2/100\n",
            "234/234 [==============================] - 0s 2ms/step - loss: 0.4967 - accuracy: 0.7977\n",
            "Epoch 3/100\n",
            "234/234 [==============================] - 0s 2ms/step - loss: 0.4508 - accuracy: 0.8087\n",
            "Epoch 4/100\n",
            "234/234 [==============================] - 0s 2ms/step - loss: 0.4273 - accuracy: 0.8134\n",
            "Epoch 5/100\n",
            "234/234 [==============================] - 0s 2ms/step - loss: 0.4145 - accuracy: 0.8190\n",
            "Epoch 6/100\n",
            "234/234 [==============================] - 0s 2ms/step - loss: 0.4057 - accuracy: 0.8261\n",
            "Epoch 7/100\n",
            "234/234 [==============================] - 0s 2ms/step - loss: 0.3988 - accuracy: 0.8299\n",
            "Epoch 8/100\n",
            "234/234 [==============================] - 0s 2ms/step - loss: 0.3921 - accuracy: 0.8339\n",
            "Epoch 9/100\n",
            "234/234 [==============================] - 0s 2ms/step - loss: 0.3859 - accuracy: 0.8407\n",
            "Epoch 10/100\n",
            "234/234 [==============================] - 0s 2ms/step - loss: 0.3804 - accuracy: 0.8451\n",
            "Epoch 11/100\n",
            "234/234 [==============================] - 0s 2ms/step - loss: 0.3757 - accuracy: 0.8483\n",
            "Epoch 12/100\n",
            "234/234 [==============================] - 0s 2ms/step - loss: 0.3717 - accuracy: 0.8500\n",
            "Epoch 13/100\n",
            "234/234 [==============================] - 0s 2ms/step - loss: 0.3682 - accuracy: 0.8517\n",
            "Epoch 14/100\n",
            "234/234 [==============================] - 0s 2ms/step - loss: 0.3652 - accuracy: 0.8534\n",
            "Epoch 15/100\n",
            "234/234 [==============================] - 0s 2ms/step - loss: 0.3628 - accuracy: 0.8539\n",
            "Epoch 16/100\n",
            "234/234 [==============================] - 0s 2ms/step - loss: 0.3608 - accuracy: 0.8543\n",
            "Epoch 17/100\n",
            "234/234 [==============================] - 0s 2ms/step - loss: 0.3590 - accuracy: 0.8559\n",
            "Epoch 18/100\n",
            "234/234 [==============================] - 0s 2ms/step - loss: 0.3577 - accuracy: 0.8571\n",
            "Epoch 19/100\n",
            "234/234 [==============================] - 0s 2ms/step - loss: 0.3565 - accuracy: 0.8566\n",
            "Epoch 20/100\n",
            "234/234 [==============================] - 0s 2ms/step - loss: 0.3554 - accuracy: 0.8566\n",
            "Epoch 21/100\n",
            "234/234 [==============================] - 0s 2ms/step - loss: 0.3546 - accuracy: 0.8576\n",
            "Epoch 22/100\n",
            "234/234 [==============================] - 0s 2ms/step - loss: 0.3539 - accuracy: 0.8566\n",
            "Epoch 23/100\n",
            "234/234 [==============================] - 0s 2ms/step - loss: 0.3535 - accuracy: 0.8559\n",
            "Epoch 24/100\n",
            "234/234 [==============================] - 0s 2ms/step - loss: 0.3528 - accuracy: 0.8556\n",
            "Epoch 25/100\n",
            "234/234 [==============================] - 0s 2ms/step - loss: 0.3525 - accuracy: 0.8554\n",
            "Epoch 26/100\n",
            "234/234 [==============================] - 0s 2ms/step - loss: 0.3519 - accuracy: 0.8566\n",
            "Epoch 27/100\n",
            "234/234 [==============================] - 0s 2ms/step - loss: 0.3515 - accuracy: 0.8573\n",
            "Epoch 28/100\n",
            "234/234 [==============================] - 0s 2ms/step - loss: 0.3511 - accuracy: 0.8574\n",
            "Epoch 29/100\n",
            "234/234 [==============================] - 0s 2ms/step - loss: 0.3509 - accuracy: 0.8567\n",
            "Epoch 30/100\n",
            "234/234 [==============================] - 0s 2ms/step - loss: 0.3503 - accuracy: 0.8563\n",
            "Epoch 31/100\n",
            "234/234 [==============================] - 0s 2ms/step - loss: 0.3502 - accuracy: 0.8576\n",
            "Epoch 32/100\n",
            "234/234 [==============================] - 0s 2ms/step - loss: 0.3496 - accuracy: 0.8574\n",
            "Epoch 33/100\n",
            "234/234 [==============================] - 0s 2ms/step - loss: 0.3494 - accuracy: 0.8577\n",
            "Epoch 34/100\n",
            "234/234 [==============================] - 0s 2ms/step - loss: 0.3491 - accuracy: 0.8573\n",
            "Epoch 35/100\n",
            "234/234 [==============================] - 0s 2ms/step - loss: 0.3486 - accuracy: 0.8576\n",
            "Epoch 36/100\n",
            "234/234 [==============================] - 0s 2ms/step - loss: 0.3483 - accuracy: 0.8584\n",
            "Epoch 37/100\n",
            "234/234 [==============================] - 0s 2ms/step - loss: 0.3478 - accuracy: 0.8590\n",
            "Epoch 38/100\n",
            "234/234 [==============================] - 0s 2ms/step - loss: 0.3477 - accuracy: 0.8579\n",
            "Epoch 39/100\n",
            "234/234 [==============================] - 0s 2ms/step - loss: 0.3472 - accuracy: 0.8576\n",
            "Epoch 40/100\n",
            "234/234 [==============================] - 0s 2ms/step - loss: 0.3468 - accuracy: 0.8606\n",
            "Epoch 41/100\n",
            "234/234 [==============================] - 0s 2ms/step - loss: 0.3466 - accuracy: 0.8584\n",
            "Epoch 42/100\n",
            "234/234 [==============================] - 0s 2ms/step - loss: 0.3463 - accuracy: 0.8589\n",
            "Epoch 43/100\n",
            "234/234 [==============================] - 0s 2ms/step - loss: 0.3458 - accuracy: 0.8583\n",
            "Epoch 44/100\n",
            "234/234 [==============================] - 0s 1ms/step - loss: 0.3459 - accuracy: 0.8584\n",
            "Epoch 45/100\n",
            "234/234 [==============================] - 0s 2ms/step - loss: 0.3455 - accuracy: 0.8591\n",
            "Epoch 46/100\n",
            "234/234 [==============================] - 0s 2ms/step - loss: 0.3454 - accuracy: 0.8586\n",
            "Epoch 47/100\n",
            "234/234 [==============================] - 0s 2ms/step - loss: 0.3452 - accuracy: 0.8586\n",
            "Epoch 48/100\n",
            "234/234 [==============================] - 0s 2ms/step - loss: 0.3451 - accuracy: 0.8577\n",
            "Epoch 49/100\n",
            "234/234 [==============================] - 0s 2ms/step - loss: 0.3447 - accuracy: 0.8594\n",
            "Epoch 50/100\n",
            "234/234 [==============================] - 0s 2ms/step - loss: 0.3446 - accuracy: 0.8593\n",
            "Epoch 51/100\n",
            "234/234 [==============================] - 0s 2ms/step - loss: 0.3442 - accuracy: 0.8591\n",
            "Epoch 52/100\n",
            "234/234 [==============================] - 0s 2ms/step - loss: 0.3441 - accuracy: 0.8593\n",
            "Epoch 53/100\n",
            "234/234 [==============================] - 0s 2ms/step - loss: 0.3440 - accuracy: 0.8603\n",
            "Epoch 54/100\n",
            "234/234 [==============================] - 0s 2ms/step - loss: 0.3438 - accuracy: 0.8589\n",
            "Epoch 55/100\n",
            "234/234 [==============================] - 0s 2ms/step - loss: 0.3438 - accuracy: 0.8576\n",
            "Epoch 56/100\n",
            "234/234 [==============================] - 0s 2ms/step - loss: 0.3434 - accuracy: 0.8600\n",
            "Epoch 57/100\n",
            "234/234 [==============================] - 0s 2ms/step - loss: 0.3434 - accuracy: 0.8593\n",
            "Epoch 58/100\n",
            "234/234 [==============================] - 0s 2ms/step - loss: 0.3434 - accuracy: 0.8603\n",
            "Epoch 59/100\n",
            "234/234 [==============================] - 0s 2ms/step - loss: 0.3431 - accuracy: 0.8603\n",
            "Epoch 60/100\n",
            "234/234 [==============================] - 0s 2ms/step - loss: 0.3430 - accuracy: 0.8583\n",
            "Epoch 61/100\n",
            "234/234 [==============================] - 0s 2ms/step - loss: 0.3428 - accuracy: 0.8597\n",
            "Epoch 62/100\n",
            "234/234 [==============================] - 0s 1ms/step - loss: 0.3427 - accuracy: 0.8600\n",
            "Epoch 63/100\n",
            "234/234 [==============================] - 0s 2ms/step - loss: 0.3425 - accuracy: 0.8590\n",
            "Epoch 64/100\n",
            "234/234 [==============================] - 0s 2ms/step - loss: 0.3422 - accuracy: 0.8594\n",
            "Epoch 65/100\n",
            "234/234 [==============================] - 0s 2ms/step - loss: 0.3424 - accuracy: 0.8583\n",
            "Epoch 66/100\n",
            "234/234 [==============================] - 0s 2ms/step - loss: 0.3424 - accuracy: 0.8580\n",
            "Epoch 67/100\n",
            "234/234 [==============================] - 0s 2ms/step - loss: 0.3422 - accuracy: 0.8580\n",
            "Epoch 68/100\n",
            "234/234 [==============================] - 0s 2ms/step - loss: 0.3421 - accuracy: 0.8591\n",
            "Epoch 69/100\n",
            "234/234 [==============================] - 0s 2ms/step - loss: 0.3420 - accuracy: 0.8583\n",
            "Epoch 70/100\n",
            "234/234 [==============================] - 0s 2ms/step - loss: 0.3418 - accuracy: 0.8587\n",
            "Epoch 71/100\n",
            "234/234 [==============================] - 0s 2ms/step - loss: 0.3420 - accuracy: 0.8590\n",
            "Epoch 72/100\n",
            "234/234 [==============================] - 0s 2ms/step - loss: 0.3417 - accuracy: 0.8590\n",
            "Epoch 73/100\n",
            "234/234 [==============================] - 0s 2ms/step - loss: 0.3416 - accuracy: 0.8589\n",
            "Epoch 74/100\n",
            "234/234 [==============================] - 0s 2ms/step - loss: 0.3413 - accuracy: 0.8577\n",
            "Epoch 75/100\n",
            "234/234 [==============================] - 0s 2ms/step - loss: 0.3416 - accuracy: 0.8593\n",
            "Epoch 76/100\n",
            "234/234 [==============================] - 0s 2ms/step - loss: 0.3412 - accuracy: 0.8577\n",
            "Epoch 77/100\n",
            "234/234 [==============================] - 0s 2ms/step - loss: 0.3411 - accuracy: 0.8587\n",
            "Epoch 78/100\n",
            "234/234 [==============================] - 0s 2ms/step - loss: 0.3413 - accuracy: 0.8603\n",
            "Epoch 79/100\n",
            "234/234 [==============================] - 0s 2ms/step - loss: 0.3415 - accuracy: 0.8603\n",
            "Epoch 80/100\n",
            "234/234 [==============================] - 0s 2ms/step - loss: 0.3411 - accuracy: 0.8576\n",
            "Epoch 81/100\n",
            "234/234 [==============================] - 0s 2ms/step - loss: 0.3411 - accuracy: 0.8594\n",
            "Epoch 82/100\n",
            "234/234 [==============================] - 0s 2ms/step - loss: 0.3409 - accuracy: 0.8584\n",
            "Epoch 83/100\n",
            "234/234 [==============================] - 1s 4ms/step - loss: 0.3407 - accuracy: 0.8586\n",
            "Epoch 84/100\n",
            "234/234 [==============================] - 1s 3ms/step - loss: 0.3407 - accuracy: 0.8581\n",
            "Epoch 85/100\n",
            "234/234 [==============================] - 1s 3ms/step - loss: 0.3405 - accuracy: 0.8589\n",
            "Epoch 86/100\n",
            "234/234 [==============================] - 1s 6ms/step - loss: 0.3408 - accuracy: 0.8591\n",
            "Epoch 87/100\n",
            "234/234 [==============================] - 1s 2ms/step - loss: 0.3406 - accuracy: 0.8594\n",
            "Epoch 88/100\n",
            "234/234 [==============================] - 1s 3ms/step - loss: 0.3407 - accuracy: 0.8589\n",
            "Epoch 89/100\n",
            "234/234 [==============================] - 1s 4ms/step - loss: 0.3404 - accuracy: 0.8579\n",
            "Epoch 90/100\n",
            "234/234 [==============================] - 1s 4ms/step - loss: 0.3404 - accuracy: 0.8590\n",
            "Epoch 91/100\n",
            "234/234 [==============================] - 1s 3ms/step - loss: 0.3404 - accuracy: 0.8580\n",
            "Epoch 92/100\n",
            "234/234 [==============================] - 0s 2ms/step - loss: 0.3402 - accuracy: 0.8599\n",
            "Epoch 93/100\n",
            "234/234 [==============================] - 1s 3ms/step - loss: 0.3402 - accuracy: 0.8580\n",
            "Epoch 94/100\n",
            "234/234 [==============================] - 1s 5ms/step - loss: 0.3400 - accuracy: 0.8604\n",
            "Epoch 95/100\n",
            "234/234 [==============================] - 1s 4ms/step - loss: 0.3402 - accuracy: 0.8606\n",
            "Epoch 96/100\n",
            "234/234 [==============================] - 1s 2ms/step - loss: 0.3401 - accuracy: 0.8604\n",
            "Epoch 97/100\n",
            "234/234 [==============================] - 0s 2ms/step - loss: 0.3401 - accuracy: 0.8590\n",
            "Epoch 98/100\n",
            "234/234 [==============================] - 0s 2ms/step - loss: 0.3399 - accuracy: 0.8589\n",
            "Epoch 99/100\n",
            "234/234 [==============================] - 0s 2ms/step - loss: 0.3401 - accuracy: 0.8590\n",
            "Epoch 100/100\n",
            "234/234 [==============================] - 0s 2ms/step - loss: 0.3398 - accuracy: 0.8593\n",
            "94/94 [==============================] - 0s 1ms/step\n"
          ]
        }
      ]
    },
    {
      "cell_type": "code",
      "source": [
        "ypred"
      ],
      "metadata": {
        "colab": {
          "base_uri": "https://localhost:8080/"
        },
        "id": "eS7S1vBRPaRn",
        "outputId": "45d41c22-e0c4-4be8-c09c-e4429ca5cf64"
      },
      "execution_count": 13,
      "outputs": [
        {
          "output_type": "execute_result",
          "data": {
            "text/plain": [
              "array([[0.04666197],\n",
              "       [0.0901792 ],\n",
              "       [0.08547774],\n",
              "       ...,\n",
              "       [0.02038374],\n",
              "       [0.07201259],\n",
              "       [0.10142639]], dtype=float32)"
            ]
          },
          "metadata": {},
          "execution_count": 13
        }
      ]
    },
    {
      "cell_type": "code",
      "metadata": {
        "id": "oA4xd69uztsE"
      },
      "source": [
        "#step6 -: set the threshold\n",
        "ypred = ypred>0.5"
      ],
      "execution_count": 14,
      "outputs": []
    },
    {
      "cell_type": "code",
      "source": [
        "ypred"
      ],
      "metadata": {
        "colab": {
          "base_uri": "https://localhost:8080/"
        },
        "id": "M3Y1xB9APjw-",
        "outputId": "8b27c417-a04c-482a-c5c3-a87dbb2ba605"
      },
      "execution_count": 15,
      "outputs": [
        {
          "output_type": "execute_result",
          "data": {
            "text/plain": [
              "array([[False],\n",
              "       [False],\n",
              "       [False],\n",
              "       ...,\n",
              "       [False],\n",
              "       [False],\n",
              "       [False]])"
            ]
          },
          "metadata": {},
          "execution_count": 15
        }
      ]
    },
    {
      "cell_type": "code",
      "metadata": {
        "colab": {
          "base_uri": "https://localhost:8080/"
        },
        "id": "Y67EWUK-4oEj",
        "outputId": "0f4e5b2c-b8d7-4a62-f57d-820127e3c339"
      },
      "source": [
        "#step7 -: get the report\n",
        "print(classification_report(ytest, ypred))"
      ],
      "execution_count": 16,
      "outputs": [
        {
          "output_type": "stream",
          "name": "stdout",
          "text": [
            "              precision    recall  f1-score   support\n",
            "\n",
            "           0       0.87      0.97      0.92      2373\n",
            "           1       0.78      0.47      0.58       627\n",
            "\n",
            "    accuracy                           0.86      3000\n",
            "   macro avg       0.83      0.72      0.75      3000\n",
            "weighted avg       0.85      0.86      0.85      3000\n",
            "\n"
          ]
        }
      ]
    },
    {
      "cell_type": "code",
      "source": [
        "df[\"Exited\"].value_counts()"
      ],
      "metadata": {
        "colab": {
          "base_uri": "https://localhost:8080/"
        },
        "id": "r88JuH8UPrtE",
        "outputId": "95edd376-57f6-44db-99df-ce253eef0b61"
      },
      "execution_count": 17,
      "outputs": [
        {
          "output_type": "execute_result",
          "data": {
            "text/plain": [
              "0    7963\n",
              "1    2037\n",
              "Name: Exited, dtype: int64"
            ]
          },
          "metadata": {},
          "execution_count": 17
        }
      ]
    },
    {
      "cell_type": "code",
      "metadata": {
        "colab": {
          "base_uri": "https://localhost:8080/"
        },
        "id": "o2A20kY25EZE",
        "outputId": "754c3134-6bdd-4b2f-d640-cac36f9b155d"
      },
      "source": [
        "from sklearn.linear_model import LogisticRegression #just checking ML model accuracy\n",
        "\n",
        "logreg = LogisticRegression()\n",
        "\n",
        "logreg.fit(xtrain, ytrain)\n",
        "\n",
        "ypred = logreg.predict(xtest)\n",
        "\n",
        "print(classification_report(ytest, ypred))\n",
        "\n",
        "#dl is efficient."
      ],
      "execution_count": 18,
      "outputs": [
        {
          "output_type": "stream",
          "name": "stdout",
          "text": [
            "              precision    recall  f1-score   support\n",
            "\n",
            "           0       0.82      0.97      0.89      2373\n",
            "           1       0.64      0.18      0.28       627\n",
            "\n",
            "    accuracy                           0.81      3000\n",
            "   macro avg       0.73      0.58      0.59      3000\n",
            "weighted avg       0.78      0.81      0.76      3000\n",
            "\n"
          ]
        }
      ]
    },
    {
      "cell_type": "code",
      "source": [
        "model=tf.keras.Sequential(\n",
        "    [tf.keras.layers.Input(shape=(xtrain.shape[1],)),\n",
        "     tf.keras.layers.Dense(1,activation=\"sigmoid\")]\n",
        ")\n",
        "model.compile(optimizer= \"adam\", loss=\"binary_crossentropy\", metrics=[\"accuracy\"])\n",
        "\n",
        "trained_model=model.fit(xtrain, ytrain, batch_size=30, epochs=100)"
      ],
      "metadata": {
        "id": "GGos1ValP_Bm",
        "colab": {
          "base_uri": "https://localhost:8080/"
        },
        "outputId": "21900c06-bb74-498e-8cd7-7653df62ad54"
      },
      "execution_count": 23,
      "outputs": [
        {
          "output_type": "stream",
          "name": "stdout",
          "text": [
            "Epoch 1/100\n",
            "234/234 [==============================] - 1s 1ms/step - loss: 0.7688 - accuracy: 0.5084\n",
            "Epoch 2/100\n",
            "234/234 [==============================] - 0s 1ms/step - loss: 0.6393 - accuracy: 0.6244\n",
            "Epoch 3/100\n",
            "234/234 [==============================] - 0s 2ms/step - loss: 0.5616 - accuracy: 0.7491\n",
            "Epoch 4/100\n",
            "234/234 [==============================] - 0s 1ms/step - loss: 0.5156 - accuracy: 0.7907\n",
            "Epoch 5/100\n",
            "234/234 [==============================] - 0s 1ms/step - loss: 0.4874 - accuracy: 0.8030\n",
            "Epoch 6/100\n",
            "234/234 [==============================] - 0s 1ms/step - loss: 0.4695 - accuracy: 0.8064\n",
            "Epoch 7/100\n",
            "234/234 [==============================] - 0s 1ms/step - loss: 0.4577 - accuracy: 0.8073\n",
            "Epoch 8/100\n",
            "234/234 [==============================] - 0s 1ms/step - loss: 0.4497 - accuracy: 0.8073\n",
            "Epoch 9/100\n",
            "234/234 [==============================] - 0s 1ms/step - loss: 0.4443 - accuracy: 0.8073\n",
            "Epoch 10/100\n",
            "234/234 [==============================] - 0s 1ms/step - loss: 0.4406 - accuracy: 0.8067\n",
            "Epoch 11/100\n",
            "234/234 [==============================] - 0s 1ms/step - loss: 0.4381 - accuracy: 0.8083\n",
            "Epoch 12/100\n",
            "234/234 [==============================] - 0s 1ms/step - loss: 0.4364 - accuracy: 0.8084\n",
            "Epoch 13/100\n",
            "234/234 [==============================] - 0s 1ms/step - loss: 0.4353 - accuracy: 0.8091\n",
            "Epoch 14/100\n",
            "234/234 [==============================] - 0s 1ms/step - loss: 0.4345 - accuracy: 0.8090\n",
            "Epoch 15/100\n",
            "234/234 [==============================] - 0s 1ms/step - loss: 0.4341 - accuracy: 0.8087\n",
            "Epoch 16/100\n",
            "234/234 [==============================] - 0s 1ms/step - loss: 0.4338 - accuracy: 0.8101\n",
            "Epoch 17/100\n",
            "234/234 [==============================] - 0s 1ms/step - loss: 0.4336 - accuracy: 0.8093\n",
            "Epoch 18/100\n",
            "234/234 [==============================] - 0s 1ms/step - loss: 0.4334 - accuracy: 0.8093\n",
            "Epoch 19/100\n",
            "234/234 [==============================] - 0s 1ms/step - loss: 0.4334 - accuracy: 0.8103\n",
            "Epoch 20/100\n",
            "234/234 [==============================] - 0s 1ms/step - loss: 0.4333 - accuracy: 0.8101\n",
            "Epoch 21/100\n",
            "234/234 [==============================] - 0s 1ms/step - loss: 0.4333 - accuracy: 0.8101\n",
            "Epoch 22/100\n",
            "234/234 [==============================] - 0s 1ms/step - loss: 0.4332 - accuracy: 0.8094\n",
            "Epoch 23/100\n",
            "234/234 [==============================] - 0s 1ms/step - loss: 0.4332 - accuracy: 0.8096\n",
            "Epoch 24/100\n",
            "234/234 [==============================] - 0s 1ms/step - loss: 0.4333 - accuracy: 0.8103\n",
            "Epoch 25/100\n",
            "234/234 [==============================] - 0s 1ms/step - loss: 0.4332 - accuracy: 0.8094\n",
            "Epoch 26/100\n",
            "234/234 [==============================] - 0s 1ms/step - loss: 0.4332 - accuracy: 0.8106\n",
            "Epoch 27/100\n",
            "234/234 [==============================] - 0s 2ms/step - loss: 0.4332 - accuracy: 0.8107\n",
            "Epoch 28/100\n",
            "234/234 [==============================] - 0s 1ms/step - loss: 0.4332 - accuracy: 0.8106\n",
            "Epoch 29/100\n",
            "234/234 [==============================] - 0s 1ms/step - loss: 0.4332 - accuracy: 0.8096\n",
            "Epoch 30/100\n",
            "234/234 [==============================] - 0s 1ms/step - loss: 0.4332 - accuracy: 0.8103\n",
            "Epoch 31/100\n",
            "234/234 [==============================] - 0s 1ms/step - loss: 0.4332 - accuracy: 0.8100\n",
            "Epoch 32/100\n",
            "234/234 [==============================] - 0s 1ms/step - loss: 0.4332 - accuracy: 0.8096\n",
            "Epoch 33/100\n",
            "234/234 [==============================] - 0s 1ms/step - loss: 0.4332 - accuracy: 0.8111\n",
            "Epoch 34/100\n",
            "234/234 [==============================] - 0s 1ms/step - loss: 0.4332 - accuracy: 0.8103\n",
            "Epoch 35/100\n",
            "234/234 [==============================] - 0s 1ms/step - loss: 0.4332 - accuracy: 0.8107\n",
            "Epoch 36/100\n",
            "234/234 [==============================] - 0s 2ms/step - loss: 0.4332 - accuracy: 0.8104\n",
            "Epoch 37/100\n",
            "234/234 [==============================] - 0s 1ms/step - loss: 0.4332 - accuracy: 0.8091\n",
            "Epoch 38/100\n",
            "234/234 [==============================] - 0s 1ms/step - loss: 0.4332 - accuracy: 0.8101\n",
            "Epoch 39/100\n",
            "234/234 [==============================] - 0s 1ms/step - loss: 0.4332 - accuracy: 0.8100\n",
            "Epoch 40/100\n",
            "234/234 [==============================] - 0s 1ms/step - loss: 0.4332 - accuracy: 0.8101\n",
            "Epoch 41/100\n",
            "234/234 [==============================] - 0s 1ms/step - loss: 0.4332 - accuracy: 0.8101\n",
            "Epoch 42/100\n",
            "234/234 [==============================] - 0s 2ms/step - loss: 0.4332 - accuracy: 0.8104\n",
            "Epoch 43/100\n",
            "234/234 [==============================] - 0s 1ms/step - loss: 0.4331 - accuracy: 0.8106\n",
            "Epoch 44/100\n",
            "234/234 [==============================] - 0s 1ms/step - loss: 0.4332 - accuracy: 0.8110\n",
            "Epoch 45/100\n",
            "234/234 [==============================] - 0s 1ms/step - loss: 0.4332 - accuracy: 0.8106\n",
            "Epoch 46/100\n",
            "234/234 [==============================] - 0s 1ms/step - loss: 0.4332 - accuracy: 0.8104\n",
            "Epoch 47/100\n",
            "234/234 [==============================] - 0s 1ms/step - loss: 0.4332 - accuracy: 0.8104\n",
            "Epoch 48/100\n",
            "234/234 [==============================] - 0s 1ms/step - loss: 0.4332 - accuracy: 0.8113\n",
            "Epoch 49/100\n",
            "234/234 [==============================] - 0s 1ms/step - loss: 0.4332 - accuracy: 0.8106\n",
            "Epoch 50/100\n",
            "234/234 [==============================] - 0s 1ms/step - loss: 0.4332 - accuracy: 0.8100\n",
            "Epoch 51/100\n",
            "234/234 [==============================] - 0s 1ms/step - loss: 0.4332 - accuracy: 0.8107\n",
            "Epoch 52/100\n",
            "234/234 [==============================] - 0s 1ms/step - loss: 0.4332 - accuracy: 0.8100\n",
            "Epoch 53/100\n",
            "234/234 [==============================] - 0s 1ms/step - loss: 0.4332 - accuracy: 0.8097\n",
            "Epoch 54/100\n",
            "234/234 [==============================] - 0s 2ms/step - loss: 0.4332 - accuracy: 0.8103\n",
            "Epoch 55/100\n",
            "234/234 [==============================] - 0s 1ms/step - loss: 0.4333 - accuracy: 0.8103\n",
            "Epoch 56/100\n",
            "234/234 [==============================] - 0s 1ms/step - loss: 0.4332 - accuracy: 0.8109\n",
            "Epoch 57/100\n",
            "234/234 [==============================] - 0s 1ms/step - loss: 0.4332 - accuracy: 0.8097\n",
            "Epoch 58/100\n",
            "234/234 [==============================] - 0s 1ms/step - loss: 0.4332 - accuracy: 0.8107\n",
            "Epoch 59/100\n",
            "234/234 [==============================] - 0s 1ms/step - loss: 0.4332 - accuracy: 0.8101\n",
            "Epoch 60/100\n",
            "234/234 [==============================] - 0s 1ms/step - loss: 0.4332 - accuracy: 0.8104\n",
            "Epoch 61/100\n",
            "234/234 [==============================] - 0s 1ms/step - loss: 0.4332 - accuracy: 0.8114\n",
            "Epoch 62/100\n",
            "234/234 [==============================] - 0s 2ms/step - loss: 0.4332 - accuracy: 0.8109\n",
            "Epoch 63/100\n",
            "234/234 [==============================] - 0s 2ms/step - loss: 0.4332 - accuracy: 0.8104\n",
            "Epoch 64/100\n",
            "234/234 [==============================] - 1s 2ms/step - loss: 0.4332 - accuracy: 0.8107\n",
            "Epoch 65/100\n",
            "234/234 [==============================] - 0s 2ms/step - loss: 0.4332 - accuracy: 0.8096\n",
            "Epoch 66/100\n",
            "234/234 [==============================] - 0s 2ms/step - loss: 0.4332 - accuracy: 0.8116\n",
            "Epoch 67/100\n",
            "234/234 [==============================] - 0s 2ms/step - loss: 0.4333 - accuracy: 0.8111\n",
            "Epoch 68/100\n",
            "234/234 [==============================] - 0s 2ms/step - loss: 0.4332 - accuracy: 0.8109\n",
            "Epoch 69/100\n",
            "234/234 [==============================] - 0s 2ms/step - loss: 0.4332 - accuracy: 0.8093\n",
            "Epoch 70/100\n",
            "234/234 [==============================] - 0s 1ms/step - loss: 0.4332 - accuracy: 0.8114\n",
            "Epoch 71/100\n",
            "234/234 [==============================] - 0s 1ms/step - loss: 0.4332 - accuracy: 0.8101\n",
            "Epoch 72/100\n",
            "234/234 [==============================] - 0s 1ms/step - loss: 0.4332 - accuracy: 0.8106\n",
            "Epoch 73/100\n",
            "234/234 [==============================] - 0s 1ms/step - loss: 0.4332 - accuracy: 0.8100\n",
            "Epoch 74/100\n",
            "234/234 [==============================] - 0s 1ms/step - loss: 0.4333 - accuracy: 0.8106\n",
            "Epoch 75/100\n",
            "234/234 [==============================] - 0s 1ms/step - loss: 0.4332 - accuracy: 0.8107\n",
            "Epoch 76/100\n",
            "234/234 [==============================] - 0s 1ms/step - loss: 0.4333 - accuracy: 0.8107\n",
            "Epoch 77/100\n",
            "234/234 [==============================] - 0s 1ms/step - loss: 0.4332 - accuracy: 0.8096\n",
            "Epoch 78/100\n",
            "234/234 [==============================] - 0s 1ms/step - loss: 0.4332 - accuracy: 0.8093\n",
            "Epoch 79/100\n",
            "234/234 [==============================] - 0s 1ms/step - loss: 0.4332 - accuracy: 0.8101\n",
            "Epoch 80/100\n",
            "234/234 [==============================] - 0s 1ms/step - loss: 0.4332 - accuracy: 0.8103\n",
            "Epoch 81/100\n",
            "234/234 [==============================] - 0s 1ms/step - loss: 0.4332 - accuracy: 0.8097\n",
            "Epoch 82/100\n",
            "234/234 [==============================] - 0s 1ms/step - loss: 0.4332 - accuracy: 0.8099\n",
            "Epoch 83/100\n",
            "234/234 [==============================] - 0s 1ms/step - loss: 0.4333 - accuracy: 0.8099\n",
            "Epoch 84/100\n",
            "234/234 [==============================] - 0s 1ms/step - loss: 0.4332 - accuracy: 0.8103\n",
            "Epoch 85/100\n",
            "234/234 [==============================] - 0s 1ms/step - loss: 0.4332 - accuracy: 0.8104\n",
            "Epoch 86/100\n",
            "234/234 [==============================] - 0s 1ms/step - loss: 0.4332 - accuracy: 0.8104\n",
            "Epoch 87/100\n",
            "234/234 [==============================] - 0s 1ms/step - loss: 0.4333 - accuracy: 0.8104\n",
            "Epoch 88/100\n",
            "234/234 [==============================] - 0s 1ms/step - loss: 0.4332 - accuracy: 0.8109\n",
            "Epoch 89/100\n",
            "234/234 [==============================] - 0s 1ms/step - loss: 0.4332 - accuracy: 0.8116\n",
            "Epoch 90/100\n",
            "234/234 [==============================] - 0s 1ms/step - loss: 0.4332 - accuracy: 0.8103\n",
            "Epoch 91/100\n",
            "234/234 [==============================] - 0s 1ms/step - loss: 0.4332 - accuracy: 0.8103\n",
            "Epoch 92/100\n",
            "234/234 [==============================] - 0s 1ms/step - loss: 0.4332 - accuracy: 0.8106\n",
            "Epoch 93/100\n",
            "234/234 [==============================] - 0s 1ms/step - loss: 0.4332 - accuracy: 0.8107\n",
            "Epoch 94/100\n",
            "234/234 [==============================] - 0s 1ms/step - loss: 0.4332 - accuracy: 0.8100\n",
            "Epoch 95/100\n",
            "234/234 [==============================] - 0s 1ms/step - loss: 0.4332 - accuracy: 0.8109\n",
            "Epoch 96/100\n",
            "234/234 [==============================] - 0s 1ms/step - loss: 0.4332 - accuracy: 0.8106\n",
            "Epoch 97/100\n",
            "234/234 [==============================] - 0s 1ms/step - loss: 0.4332 - accuracy: 0.8099\n",
            "Epoch 98/100\n",
            "234/234 [==============================] - 0s 1ms/step - loss: 0.4332 - accuracy: 0.8097\n",
            "Epoch 99/100\n",
            "234/234 [==============================] - 0s 1ms/step - loss: 0.4333 - accuracy: 0.8107\n",
            "Epoch 100/100\n",
            "234/234 [==============================] - 0s 1ms/step - loss: 0.4332 - accuracy: 0.8104\n"
          ]
        }
      ]
    },
    {
      "cell_type": "code",
      "source": [
        "\"\"\"\n",
        "The output of the above code displays how the loss function value changes with each epoch.\n",
        "\"\"\"\n",
        "\n",
        "plt.plot(trained_model.history['loss'])\n",
        "plt.show()"
      ],
      "metadata": {
        "colab": {
          "base_uri": "https://localhost:8080/",
          "height": 265
        },
        "id": "XnSHH5XDqoqB",
        "outputId": "3641df4a-c8e0-4eef-e117-96b51269e44f"
      },
      "execution_count": 24,
      "outputs": [
        {
          "output_type": "display_data",
          "data": {
            "text/plain": [
              "<Figure size 432x288 with 1 Axes>"
            ],
            "image/png": "[encoded data removed]"
          },
          "metadata": {
            "needs_background": "light"
          }
        }
      ]
    },
    {
      "cell_type": "code",
      "source": [
        "y_pred=model.predict(xtest)"
      ],
      "metadata": {
        "colab": {
          "base_uri": "https://localhost:8080/"
        },
        "id": "B7x47rIMqosE",
        "outputId": "8c5ed7bf-f671-4e4c-9f28-78d029e7e263"
      },
      "execution_count": 25,
      "outputs": [
        {
          "output_type": "stream",
          "name": "stdout",
          "text": [
            "94/94 [==============================] - 0s 990us/step\n"
          ]
        }
      ]
    },
    {
      "cell_type": "code",
      "source": [],
      "metadata": {
        "id": "H-8VPyx_qoul"
      },
      "execution_count": 25,
      "outputs": []
    },
    {
      "cell_type": "code",
      "source": [],
      "metadata": {
        "id": "tAWW83qRqoxF"
      },
      "execution_count": 25,
      "outputs": []
    },
    {
      "cell_type": "code",
      "source": [],
      "metadata": {
        "id": "hPzo-QQwqo0k"
      },
      "execution_count": 25,
      "outputs": []
    }
  ]
}